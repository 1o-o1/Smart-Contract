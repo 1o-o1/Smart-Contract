{
  "nbformat": 4,
  "nbformat_minor": 0,
  "metadata": {
    "colab": {
      "provenance": [],
      "include_colab_link": true
    },
    "kernelspec": {
      "name": "python3",
      "display_name": "Python 3"
    },
    "language_info": {
      "name": "python"
    },
    "gpuClass": "standard"
  },
  "cells": [
    {
      "cell_type": "markdown",
      "metadata": {
        "id": "view-in-github",
        "colab_type": "text"
      },
      "source": [
        "<a href=\"https://colab.research.google.com/github/1o-o1/Smart-Contract/blob/main/smart_contract_dataset.ipynb\" target=\"_parent\"><img src=\"https://colab.research.google.com/assets/colab-badge.svg\" alt=\"Open In Colab\"/></a>"
      ]
    },
    {
      "cell_type": "code",
      "execution_count": null,
      "metadata": {
        "id": "QshfzJEUCNwN",
        "colab": {
          "base_uri": "https://localhost:8080/"
        },
        "outputId": "78732e7e-ee74-429f-f399-410a99dc1647"
      },
      "outputs": [
        {
          "output_type": "stream",
          "name": "stdout",
          "text": [
            "Mounted at /content/drive\n",
            "/content/drive/MyDrive/Research/Smart Contract\n",
            " 18-02-23.pptx             Dataset.zip\n",
            "'=3.1'                     \u001b[0m\u001b[01;34mDocs\u001b[0m/\n",
            " ANN0_acc.png              Ethereum_smart_contract_datast.zip\n",
            " ANN0_loss.png             filenames2.csv\n",
            " ANN0.png                  filenames3.csv\n",
            " ANN0result.csv            filenames.csv\n",
            " ANN0result.gsheet         files3.csv\n",
            " BRB.ipynb                 FirstRunMLresult.csv\n",
            "'BRB with XAI.ipynb'       FirstRunMLresult.gsheet\n",
            " \u001b[01;36mbytecode\u001b[0m@                 FirstRun-Test-result.csv\n",
            " CNN0_acc.png              FirstRun-Train-result.csv\n",
            " CNN0_loss.png             FirstRun-Train-result.gsheet\n",
            " CNN0.png                  Generic_Select512.pickle\n",
            " CNN0result.csv            input2.csv\n",
            " CNN0result.gsheet         input3csv\n",
            " CNN1_acc.png              input.csv\n",
            " CNN1_loss.png             Label2.csv\n",
            " CNN1.png                  Label3.csv\n",
            " CNN1result.csv            Label.csv\n",
            "'Copy of XProcessed.csv'  'lit (1).csv'\n",
            "'Copy of yProcessed.csv'  'ML Run.ipynb'\n",
            " \u001b[01;34mdataset\u001b[0m/                  \u001b[01;34mPapers\u001b[0m/\n",
            "\u001b[01;34m'Dataset 12K Eth 8 vol'\u001b[0m/  'Process XAI.ipynb'\n",
            "'Dataset list.gsheet'     'smart contract dataset.ipynb'\n",
            " datasetx2.csv            'Smart Contract.ipynb'\n",
            " datasetx.csv              TFIDF.pickle\n",
            " datasetxgeneric256.csv    tokenizer2.pickle\n",
            " datasetxgeneric512.csv    tokenizer.pickle\n",
            " datasetxgeneric.csv      'XAI+ back track.ipynb'\n",
            " datasetxraw.csv           XGB_Classifier.pickle\n",
            " datasety2.csv             XProcessed.csv\n",
            " datasety3.csv             yProcessed.csv\n",
            " datasety.csv\n"
          ]
        }
      ],
      "source": [
        "# Google Drive Mount\n",
        "from google.colab import drive\n",
        "drive.mount('/content/drive')\n",
        "%cd /content/drive/MyDrive/Research/Smart Contract\n",
        "%ls"
      ]
    },
    {
      "cell_type": "code",
      "source": [
        "import numpy as np\n",
        "import pandas as pd\n",
        "import matplotlib\n",
        "import seaborn as sns\n",
        "import sklearn\n",
        "import matplotlib.pyplot as plt\n",
        "import time\n",
        "import os\n",
        "import sklearn.metrics as m\n",
        "from glob import glob\n",
        "from sklearn.preprocessing import StandardScaler\n",
        "from sklearn import tree\n",
        "from sklearn.model_selection import cross_val_score\n",
        "from sklearn.model_selection import train_test_split"
      ],
      "metadata": {
        "id": "WknMe8VwEY9X"
      },
      "execution_count": null,
      "outputs": []
    },
    {
      "cell_type": "code",
      "source": [
        "! pip install py-solc-x"
      ],
      "metadata": {
        "colab": {
          "base_uri": "https://localhost:8080/"
        },
        "id": "xuomSBPYKtI2",
        "outputId": "2270d724-6a8e-40d9-dbeb-e9a358266ac5"
      },
      "execution_count": null,
      "outputs": [
        {
          "output_type": "stream",
          "name": "stdout",
          "text": [
            "Looking in indexes: https://pypi.org/simple, https://us-python.pkg.dev/colab-wheels/public/simple/\n",
            "Requirement already satisfied: py-solc-x in /usr/local/lib/python3.8/dist-packages (1.1.1)\n",
            "Requirement already satisfied: requests<3,>=2.19.0 in /usr/local/lib/python3.8/dist-packages (from py-solc-x) (2.25.1)\n",
            "Requirement already satisfied: semantic-version<3,>=2.8.1 in /usr/local/lib/python3.8/dist-packages (from py-solc-x) (2.10.0)\n",
            "Requirement already satisfied: urllib3<1.27,>=1.21.1 in /usr/local/lib/python3.8/dist-packages (from requests<3,>=2.19.0->py-solc-x) (1.26.14)\n",
            "Requirement already satisfied: chardet<5,>=3.0.2 in /usr/local/lib/python3.8/dist-packages (from requests<3,>=2.19.0->py-solc-x) (4.0.0)\n",
            "Requirement already satisfied: certifi>=2017.4.17 in /usr/local/lib/python3.8/dist-packages (from requests<3,>=2.19.0->py-solc-x) (2022.12.7)\n",
            "Requirement already satisfied: idna<3,>=2.5 in /usr/local/lib/python3.8/dist-packages (from requests<3,>=2.19.0->py-solc-x) (2.10)\n"
          ]
        }
      ]
    },
    {
      "cell_type": "code",
      "source": [
        "import solcx\n",
        "ver=solcx.get_installable_solc_versions()"
      ],
      "metadata": {
        "id": "TdMn3rvcF10D"
      },
      "execution_count": null,
      "outputs": []
    },
    {
      "cell_type": "code",
      "source": [
        "for v in ver:\n",
        "  solcx.install_solc(v)"
      ],
      "metadata": {
        "id": "MHOifV54UywE"
      },
      "execution_count": null,
      "outputs": []
    },
    {
      "cell_type": "code",
      "source": [
        "!pip install astropy>=3.1\n",
        "!pip install sunpy\n",
        "!pip install evm-cfg-builder\n",
        "!pip install stellargraph"
      ],
      "metadata": {
        "id": "tx7Ty7-hF1Mb"
      },
      "execution_count": null,
      "outputs": []
    },
    {
      "cell_type": "code",
      "source": [
        "!pip install stellargraph"
      ],
      "metadata": {
        "colab": {
          "base_uri": "https://localhost:8080/"
        },
        "id": "kprlV5M_--U-",
        "outputId": "98ce073e-cb1d-4860-db08-90c78709951f"
      },
      "execution_count": null,
      "outputs": [
        {
          "output_type": "stream",
          "name": "stdout",
          "text": [
            "Looking in indexes: https://pypi.org/simple, https://us-python.pkg.dev/colab-wheels/public/simple/\n",
            "\u001b[31mERROR: Could not find a version that satisfies the requirement stellargraph (from versions: none)\u001b[0m\u001b[31m\n",
            "\u001b[0m\u001b[31mERROR: No matching distribution found for stellargraph\u001b[0m\u001b[31m\n",
            "\u001b[0m"
          ]
        }
      ]
    },
    {
      "cell_type": "code",
      "source": [
        "from evm_cfg_builder import CFG\n",
        "from solcx import  compile_files\n",
        "import solcx\n",
        "from stellargraph import StellarGraph\n",
        "from stellargraph.data import EdgeSplitter\n",
        "from stellargraph.mapper import GraphSAGENodeGenerator\n",
        "from stellargraph.layer import GraphSAGE\n",
        "from stellargraph.data import BiasedRandomWalk\n",
        "from keras.preprocessing.text import Tokenizer"
      ],
      "metadata": {
        "id": "QTTFEdjRFcFR"
      },
      "execution_count": null,
      "outputs": []
    },
    {
      "cell_type": "code",
      "source": [
        "filename=\"/content/drive/MyDrive/Research/Smart Contract/Dataset 12K Eth 8 vol/block number dependency (BN)/0.sol\""
      ],
      "metadata": {
        "id": "lQSOvVcyHZcF"
      },
      "execution_count": null,
      "outputs": []
    },
    {
      "cell_type": "code",
      "source": [
        "#@title\n",
        "def PreProccess(filename):\n",
        "      strt=0\n",
        "      end=0\n",
        "      walkss=[]\n",
        "      with open(filename, 'r') as file:\n",
        "        soldata = file.read()\n",
        "      for i in range(0,len(soldata)):\n",
        "        if soldata[i:i+2]=='0.':\n",
        "          strt=i\n",
        "        if strt!=0 and soldata[i]==';':\n",
        "          end=i\n",
        "          break\n",
        "      #print(soldata[0:50])\n",
        "      #if end-strt<5:\n",
        "      #  verson=\"0.4.24\"\n",
        "      #else:\n",
        "      verson=soldata[strt:end]\n",
        "      #print(\"verson=\"+verson)\n",
        "      try:\n",
        "        binary= solcx.compile_files([filename], output_values=[\"bin-runtime\"],solc_version=verson)\n",
        "\n",
        "        positions=list(binary.keys())\n",
        "        for pos in positions:\n",
        "          binruntime=binary[pos][\"bin-runtime\"]\n",
        "          #print(\"len of code \"+str(len(binruntime)))\n",
        "          if len(binruntime)>16:\n",
        "            cfg = CFG(binruntime)\n",
        "            src=[]\n",
        "            dist=[]\n",
        "            #print(cfg)\n",
        "            for basic_block in cfg.basic_blocks:\n",
        "              for outgoing in basic_block.all_outgoing_basic_blocks:\n",
        "                x= basic_block\n",
        "                x= str(x).replace('<cfg BasicBlock@','')\n",
        "                x= x.replace('>','')\n",
        "                src.append(x)\n",
        "                y= outgoing\n",
        "                y= str(y).replace('<cfg BasicBlock@','')\n",
        "                y= y.replace('>','')\n",
        "                dist.append(y)\n",
        "\n",
        "            graph=pd.DataFrame(zip(src,dist),columns=['source','target'])\n",
        "            graph = StellarGraph(edges=graph)\n",
        "\n",
        "\n",
        "            biased_rw = BiasedRandomWalk(graph)\n",
        "\n",
        "\n",
        "            walk_length = 10\n",
        "            #DFS\n",
        "            walks = biased_rw.run(nodes=list(graph.nodes()), length=walk_length, n=1, p=1.0, q=1.0)\n",
        "\n",
        "            if len(walks)>0:\n",
        "            #print(walks[0])\n",
        "              walks = [str(node) for walk in walks for node in walk]\n",
        "              walkss.append(walks)\n",
        "            #tokenizer = Tokenizer(num_words=128, filters='', lower=False, split=' ')\n",
        "\n",
        "            # Fit the tokenizer on the walks\n",
        "            #tokenizer.fit_on_texts(walks)\n",
        "\n",
        "            # Convert the walks to numerical format\n",
        "            #sequences = tokenizer.texts_to_sequences(walks)\n",
        "\n",
        "        return [node for walk in walkss for node in walk]\n",
        "      except:\n",
        "        return 0\n",
        ""
      ],
      "metadata": {
        "id": "ZwbfAAIjHvxd"
      },
      "execution_count": null,
      "outputs": []
    },
    {
      "cell_type": "markdown",
      "source": [
        "# New Section"
      ],
      "metadata": {
        "id": "EdzKG-Z8J8Kl"
      }
    },
    {
      "cell_type": "code",
      "source": [
        "rel_dirname=\"/content/drive/MyDrive/Research/Smart Contract/Dataset 12K Eth 8 vol\"\n",
        "\n",
        "for dirname in os.listdir(rel_dirname):\n",
        "  cnt=0\n",
        "  for filename in glob(os.path.join(rel_dirname, dirname+'/*.sol')):\n",
        "    cnt=cnt+1\n",
        "  print(dirname+\" \"+str(cnt))"
      ],
      "metadata": {
        "id": "ckJnQ_e8506B",
        "colab": {
          "base_uri": "https://localhost:8080/"
        },
        "outputId": "73fd51fa-2b02-4e9e-dbfe-4335266aae4f"
      },
      "execution_count": null,
      "outputs": [
        {
          "output_type": "stream",
          "name": "stdout",
          "text": [
            "ether strict equality (SE) 366\n",
            "ground truth label.csv 0\n",
            "README.md 0\n",
            "block number dependency (BN) 406\n",
            "dangerous delegatecall (DE) 97\n",
            "ether frozen (EF) 97\n",
            "integer overflow (OF) 590\n",
            "reentrancy (RE) 1218\n",
            "timestamp dependency (TP) 312\n",
            "unchecked external call (UC) 1199\n",
            "SpankChain_Payment.sol 0\n",
            "Reentrancy.sol 0\n"
          ]
        }
      ]
    },
    {
      "cell_type": "code",
      "source": [
        "y=pd.read_csv(\"yProcessed.csv\")\n",
        "y.value_counts()"
      ],
      "metadata": {
        "colab": {
          "base_uri": "https://localhost:8080/"
        },
        "id": "rc_As0UmcpK9",
        "outputId": "c4ab80ec-8196-4fc3-8ba3-61832fac9d22"
      },
      "execution_count": null,
      "outputs": [
        {
          "output_type": "execute_result",
          "data": {
            "text/plain": [
              "0\n",
              "0    2802\n",
              "1    2688\n",
              "2    1680\n",
              "3    1074\n",
              "4     720\n",
              "5     600\n",
              "6     378\n",
              "7     378\n",
              "dtype: int64"
            ]
          },
          "metadata": {},
          "execution_count": 6
        }
      ]
    },
    {
      "cell_type": "code",
      "source": [
        "dataset=[]\n",
        "label=[]\n",
        "files=[]\n",
        "filename=\"/content/drive/MyDrive/Research/Smart Contract/Dataset 12K Eth 8 vol/block number dependency (BN)/0.sol\"\n",
        "rel_dirname=\"/content/drive/MyDrive/Research/Smart Contract/Dataset 12K Eth 8 vol\"\n",
        "cnt=0\n",
        "for dirname in os.listdir(rel_dirname):\n",
        "    for filename in glob(os.path.join(rel_dirname, dirname+'/*.sol')):\n",
        "      #print(filename)\n",
        "      try:\n",
        "        tmp=PreProccess(filename)\n",
        "        #print(tmp)\n",
        "\n",
        "        if tmp!=0:\n",
        "          dataset.append(tmp)\n",
        "          label.append(dirname)\n",
        "          files.append(filename)\n",
        "      except:\n",
        "           cnt=cnt+1\n",
        "\n",
        "\n",
        "\n",
        "\n",
        "\n"
      ],
      "metadata": {
        "colab": {
          "base_uri": "https://localhost:8080/"
        },
        "id": "UY1fwRNsIWPu",
        "outputId": "43efe1c4-3ce0-49fc-f635-de3445e5af53"
      },
      "execution_count": null,
      "outputs": [
        {
          "output_type": "stream",
          "name": "stderr",
          "text": [
            "<ipython-input-17-3f2280c29a27>:52: RuntimeWarning: No root node IDs given. An empty list will be returned as a result.\n",
            "  walks = biased_rw.run(nodes=list(graph.nodes()), length=walk_length, n=1, p=1.0, q=1.0)\n"
          ]
        }
      ]
    },
    {
      "cell_type": "code",
      "source": [
        "print(cnt)"
      ],
      "metadata": {
        "colab": {
          "base_uri": "https://localhost:8080/"
        },
        "id": "yZMYjBKl6Ysa",
        "outputId": "97590f4f-a5ce-440e-9638-cfed5f9869c6"
      },
      "execution_count": null,
      "outputs": [
        {
          "output_type": "stream",
          "name": "stdout",
          "text": [
            "10\n"
          ]
        }
      ]
    },
    {
      "cell_type": "code",
      "source": [
        "len(files)"
      ],
      "metadata": {
        "colab": {
          "base_uri": "https://localhost:8080/"
        },
        "id": "GxM-KuWChNW-",
        "outputId": "59a6fc97-3805-40b8-da51-f3adecdb1201"
      },
      "execution_count": null,
      "outputs": [
        {
          "output_type": "execute_result",
          "data": {
            "text/plain": [
              "2578"
            ]
          },
          "metadata": {},
          "execution_count": 23
        }
      ]
    },
    {
      "cell_type": "code",
      "source": [
        "tokenizer = Tokenizer(num_words=1024, filters='', lower=False, split='')\n",
        "\n",
        "        # Fit the tokenizer on the walks\n",
        "tokenizer.fit_on_texts(dataset)\n",
        "\n",
        "        # Convert the walks to numerical format\n",
        "dataset = tokenizer.texts_to_sequences(dataset)"
      ],
      "metadata": {
        "id": "panvALlLvWxw"
      },
      "execution_count": null,
      "outputs": []
    },
    {
      "cell_type": "code",
      "source": [],
      "metadata": {
        "id": "0ER9FuS2w_mG"
      },
      "execution_count": null,
      "outputs": []
    },
    {
      "cell_type": "code",
      "source": [
        "import pickle\n",
        "\n",
        "# saving\n",
        "with open('tokenizer2.pickle', 'wb') as handle:\n",
        "    pickle.dump(tokenizer, handle, protocol=pickle.HIGHEST_PROTOCOL)\n",
        "\n",
        "# loading\n",
        "\"\"\"\n",
        "with open('tokenizer.pickle', 'rb') as handle:\n",
        "    tokenizer = pickle.load(handle)\n",
        "\"\"\""
      ],
      "metadata": {
        "colab": {
          "base_uri": "https://localhost:8080/",
          "height": 36
        },
        "id": "AJnOEnaQKw8o",
        "outputId": "d52cd1fa-0fc1-4234-e798-bfe8acae77bb"
      },
      "execution_count": null,
      "outputs": [
        {
          "output_type": "execute_result",
          "data": {
            "text/plain": [
              "\"\\nwith open('tokenizer.pickle', 'rb') as handle:\\n    tokenizer = pickle.load(handle)\\n\""
            ],
            "application/vnd.google.colaboratory.intrinsic+json": {
              "type": "string"
            }
          },
          "metadata": {},
          "execution_count": 25
        }
      ]
    },
    {
      "cell_type": "code",
      "source": [
        "len(dataset)"
      ],
      "metadata": {
        "colab": {
          "base_uri": "https://localhost:8080/"
        },
        "id": "YmhRWyXYWiOU",
        "outputId": "9c503f4d-ce06-4f3c-9d84-805785bdbbad"
      },
      "execution_count": null,
      "outputs": [
        {
          "output_type": "execute_result",
          "data": {
            "text/plain": [
              "2552"
            ]
          },
          "metadata": {},
          "execution_count": 15
        }
      ]
    },
    {
      "cell_type": "code",
      "source": [
        "df=pd.DataFrame(dataset)"
      ],
      "metadata": {
        "id": "x3UllD2CG6hC"
      },
      "execution_count": null,
      "outputs": []
    },
    {
      "cell_type": "code",
      "source": [
        "df.shape"
      ],
      "metadata": {
        "colab": {
          "base_uri": "https://localhost:8080/"
        },
        "id": "nHU_w0DmG83f",
        "outputId": "02c14f74-0b21-4ef6-99eb-e6000d853777"
      },
      "execution_count": null,
      "outputs": [
        {
          "output_type": "execute_result",
          "data": {
            "text/plain": [
              "(2578, 4451)"
            ]
          },
          "metadata": {},
          "execution_count": 27
        }
      ]
    },
    {
      "cell_type": "code",
      "source": [
        "df.head()"
      ],
      "metadata": {
        "colab": {
          "base_uri": "https://localhost:8080/",
          "height": 235
        },
        "id": "nqeobaIWXmTh",
        "outputId": "34257526-98c7-4bf9-929f-6d8a992cc7c7"
      },
      "execution_count": null,
      "outputs": [
        {
          "output_type": "execute_result",
          "data": {
            "text/plain": [
              "   0      1     2     3     4      5     6     7     8     9     ...  4441  \\\n",
              "0  10.0   11.0  11.0  12.0  13.0  608.0  13.0  13.0   8.0   7.0  ...   NaN   \n",
              "1  12.0   13.0  14.0  13.0  14.0   13.0  12.0  12.0  12.0  13.0  ...   NaN   \n",
              "2  80.0  676.0  80.0   2.0  80.0    2.0   1.0   2.0   1.0  45.0  ...   NaN   \n",
              "3  33.0   35.0  57.0  57.0  57.0    8.0   2.0   3.0   4.0   3.0  ...   NaN   \n",
              "4   8.0    7.0   6.0   7.0   8.0    8.0   7.0  12.0  13.0  12.0  ...   NaN   \n",
              "\n",
              "   4442  4443  4444  4445  4446  4447  4448  4449  4450  \n",
              "0   NaN   NaN   NaN   NaN   NaN   NaN   NaN   NaN   NaN  \n",
              "1   NaN   NaN   NaN   NaN   NaN   NaN   NaN   NaN   NaN  \n",
              "2   NaN   NaN   NaN   NaN   NaN   NaN   NaN   NaN   NaN  \n",
              "3   NaN   NaN   NaN   NaN   NaN   NaN   NaN   NaN   NaN  \n",
              "4   NaN   NaN   NaN   NaN   NaN   NaN   NaN   NaN   NaN  \n",
              "\n",
              "[5 rows x 4451 columns]"
            ],
            "text/html": [
              "\n",
              "  <div id=\"df-bf6028d9-9624-4f41-9cdd-39775e367900\">\n",
              "    <div class=\"colab-df-container\">\n",
              "      <div>\n",
              "<style scoped>\n",
              "    .dataframe tbody tr th:only-of-type {\n",
              "        vertical-align: middle;\n",
              "    }\n",
              "\n",
              "    .dataframe tbody tr th {\n",
              "        vertical-align: top;\n",
              "    }\n",
              "\n",
              "    .dataframe thead th {\n",
              "        text-align: right;\n",
              "    }\n",
              "</style>\n",
              "<table border=\"1\" class=\"dataframe\">\n",
              "  <thead>\n",
              "    <tr style=\"text-align: right;\">\n",
              "      <th></th>\n",
              "      <th>0</th>\n",
              "      <th>1</th>\n",
              "      <th>2</th>\n",
              "      <th>3</th>\n",
              "      <th>4</th>\n",
              "      <th>5</th>\n",
              "      <th>6</th>\n",
              "      <th>7</th>\n",
              "      <th>8</th>\n",
              "      <th>9</th>\n",
              "      <th>...</th>\n",
              "      <th>4441</th>\n",
              "      <th>4442</th>\n",
              "      <th>4443</th>\n",
              "      <th>4444</th>\n",
              "      <th>4445</th>\n",
              "      <th>4446</th>\n",
              "      <th>4447</th>\n",
              "      <th>4448</th>\n",
              "      <th>4449</th>\n",
              "      <th>4450</th>\n",
              "    </tr>\n",
              "  </thead>\n",
              "  <tbody>\n",
              "    <tr>\n",
              "      <th>0</th>\n",
              "      <td>10.0</td>\n",
              "      <td>11.0</td>\n",
              "      <td>11.0</td>\n",
              "      <td>12.0</td>\n",
              "      <td>13.0</td>\n",
              "      <td>608.0</td>\n",
              "      <td>13.0</td>\n",
              "      <td>13.0</td>\n",
              "      <td>8.0</td>\n",
              "      <td>7.0</td>\n",
              "      <td>...</td>\n",
              "      <td>NaN</td>\n",
              "      <td>NaN</td>\n",
              "      <td>NaN</td>\n",
              "      <td>NaN</td>\n",
              "      <td>NaN</td>\n",
              "      <td>NaN</td>\n",
              "      <td>NaN</td>\n",
              "      <td>NaN</td>\n",
              "      <td>NaN</td>\n",
              "      <td>NaN</td>\n",
              "    </tr>\n",
              "    <tr>\n",
              "      <th>1</th>\n",
              "      <td>12.0</td>\n",
              "      <td>13.0</td>\n",
              "      <td>14.0</td>\n",
              "      <td>13.0</td>\n",
              "      <td>14.0</td>\n",
              "      <td>13.0</td>\n",
              "      <td>12.0</td>\n",
              "      <td>12.0</td>\n",
              "      <td>12.0</td>\n",
              "      <td>13.0</td>\n",
              "      <td>...</td>\n",
              "      <td>NaN</td>\n",
              "      <td>NaN</td>\n",
              "      <td>NaN</td>\n",
              "      <td>NaN</td>\n",
              "      <td>NaN</td>\n",
              "      <td>NaN</td>\n",
              "      <td>NaN</td>\n",
              "      <td>NaN</td>\n",
              "      <td>NaN</td>\n",
              "      <td>NaN</td>\n",
              "    </tr>\n",
              "    <tr>\n",
              "      <th>2</th>\n",
              "      <td>80.0</td>\n",
              "      <td>676.0</td>\n",
              "      <td>80.0</td>\n",
              "      <td>2.0</td>\n",
              "      <td>80.0</td>\n",
              "      <td>2.0</td>\n",
              "      <td>1.0</td>\n",
              "      <td>2.0</td>\n",
              "      <td>1.0</td>\n",
              "      <td>45.0</td>\n",
              "      <td>...</td>\n",
              "      <td>NaN</td>\n",
              "      <td>NaN</td>\n",
              "      <td>NaN</td>\n",
              "      <td>NaN</td>\n",
              "      <td>NaN</td>\n",
              "      <td>NaN</td>\n",
              "      <td>NaN</td>\n",
              "      <td>NaN</td>\n",
              "      <td>NaN</td>\n",
              "      <td>NaN</td>\n",
              "    </tr>\n",
              "    <tr>\n",
              "      <th>3</th>\n",
              "      <td>33.0</td>\n",
              "      <td>35.0</td>\n",
              "      <td>57.0</td>\n",
              "      <td>57.0</td>\n",
              "      <td>57.0</td>\n",
              "      <td>8.0</td>\n",
              "      <td>2.0</td>\n",
              "      <td>3.0</td>\n",
              "      <td>4.0</td>\n",
              "      <td>3.0</td>\n",
              "      <td>...</td>\n",
              "      <td>NaN</td>\n",
              "      <td>NaN</td>\n",
              "      <td>NaN</td>\n",
              "      <td>NaN</td>\n",
              "      <td>NaN</td>\n",
              "      <td>NaN</td>\n",
              "      <td>NaN</td>\n",
              "      <td>NaN</td>\n",
              "      <td>NaN</td>\n",
              "      <td>NaN</td>\n",
              "    </tr>\n",
              "    <tr>\n",
              "      <th>4</th>\n",
              "      <td>8.0</td>\n",
              "      <td>7.0</td>\n",
              "      <td>6.0</td>\n",
              "      <td>7.0</td>\n",
              "      <td>8.0</td>\n",
              "      <td>8.0</td>\n",
              "      <td>7.0</td>\n",
              "      <td>12.0</td>\n",
              "      <td>13.0</td>\n",
              "      <td>12.0</td>\n",
              "      <td>...</td>\n",
              "      <td>NaN</td>\n",
              "      <td>NaN</td>\n",
              "      <td>NaN</td>\n",
              "      <td>NaN</td>\n",
              "      <td>NaN</td>\n",
              "      <td>NaN</td>\n",
              "      <td>NaN</td>\n",
              "      <td>NaN</td>\n",
              "      <td>NaN</td>\n",
              "      <td>NaN</td>\n",
              "    </tr>\n",
              "  </tbody>\n",
              "</table>\n",
              "<p>5 rows × 4451 columns</p>\n",
              "</div>\n",
              "      <button class=\"colab-df-convert\" onclick=\"convertToInteractive('df-bf6028d9-9624-4f41-9cdd-39775e367900')\"\n",
              "              title=\"Convert this dataframe to an interactive table.\"\n",
              "              style=\"display:none;\">\n",
              "        \n",
              "  <svg xmlns=\"http://www.w3.org/2000/svg\" height=\"24px\"viewBox=\"0 0 24 24\"\n",
              "       width=\"24px\">\n",
              "    <path d=\"M0 0h24v24H0V0z\" fill=\"none\"/>\n",
              "    <path d=\"M18.56 5.44l.94 2.06.94-2.06 2.06-.94-2.06-.94-.94-2.06-.94 2.06-2.06.94zm-11 1L8.5 8.5l.94-2.06 2.06-.94-2.06-.94L8.5 2.5l-.94 2.06-2.06.94zm10 10l.94 2.06.94-2.06 2.06-.94-2.06-.94-.94-2.06-.94 2.06-2.06.94z\"/><path d=\"M17.41 7.96l-1.37-1.37c-.4-.4-.92-.59-1.43-.59-.52 0-1.04.2-1.43.59L10.3 9.45l-7.72 7.72c-.78.78-.78 2.05 0 2.83L4 21.41c.39.39.9.59 1.41.59.51 0 1.02-.2 1.41-.59l7.78-7.78 2.81-2.81c.8-.78.8-2.07 0-2.86zM5.41 20L4 18.59l7.72-7.72 1.47 1.35L5.41 20z\"/>\n",
              "  </svg>\n",
              "      </button>\n",
              "      \n",
              "  <style>\n",
              "    .colab-df-container {\n",
              "      display:flex;\n",
              "      flex-wrap:wrap;\n",
              "      gap: 12px;\n",
              "    }\n",
              "\n",
              "    .colab-df-convert {\n",
              "      background-color: #E8F0FE;\n",
              "      border: none;\n",
              "      border-radius: 50%;\n",
              "      cursor: pointer;\n",
              "      display: none;\n",
              "      fill: #1967D2;\n",
              "      height: 32px;\n",
              "      padding: 0 0 0 0;\n",
              "      width: 32px;\n",
              "    }\n",
              "\n",
              "    .colab-df-convert:hover {\n",
              "      background-color: #E2EBFA;\n",
              "      box-shadow: 0px 1px 2px rgba(60, 64, 67, 0.3), 0px 1px 3px 1px rgba(60, 64, 67, 0.15);\n",
              "      fill: #174EA6;\n",
              "    }\n",
              "\n",
              "    [theme=dark] .colab-df-convert {\n",
              "      background-color: #3B4455;\n",
              "      fill: #D2E3FC;\n",
              "    }\n",
              "\n",
              "    [theme=dark] .colab-df-convert:hover {\n",
              "      background-color: #434B5C;\n",
              "      box-shadow: 0px 1px 3px 1px rgba(0, 0, 0, 0.15);\n",
              "      filter: drop-shadow(0px 1px 2px rgba(0, 0, 0, 0.3));\n",
              "      fill: #FFFFFF;\n",
              "    }\n",
              "  </style>\n",
              "\n",
              "      <script>\n",
              "        const buttonEl =\n",
              "          document.querySelector('#df-bf6028d9-9624-4f41-9cdd-39775e367900 button.colab-df-convert');\n",
              "        buttonEl.style.display =\n",
              "          google.colab.kernel.accessAllowed ? 'block' : 'none';\n",
              "\n",
              "        async function convertToInteractive(key) {\n",
              "          const element = document.querySelector('#df-bf6028d9-9624-4f41-9cdd-39775e367900');\n",
              "          const dataTable =\n",
              "            await google.colab.kernel.invokeFunction('convertToInteractive',\n",
              "                                                     [key], {});\n",
              "          if (!dataTable) return;\n",
              "\n",
              "          const docLinkHtml = 'Like what you see? Visit the ' +\n",
              "            '<a target=\"_blank\" href=https://colab.research.google.com/notebooks/data_table.ipynb>data table notebook</a>'\n",
              "            + ' to learn more about interactive tables.';\n",
              "          element.innerHTML = '';\n",
              "          dataTable['output_type'] = 'display_data';\n",
              "          await google.colab.output.renderOutput(dataTable, element);\n",
              "          const docLink = document.createElement('div');\n",
              "          docLink.innerHTML = docLinkHtml;\n",
              "          element.appendChild(docLink);\n",
              "        }\n",
              "      </script>\n",
              "    </div>\n",
              "  </div>\n",
              "  "
            ]
          },
          "metadata": {},
          "execution_count": 28
        }
      ]
    },
    {
      "cell_type": "markdown",
      "source": [
        "Drop the rows where all elements are missing"
      ],
      "metadata": {
        "id": "oAnOFstDGOPf"
      }
    },
    {
      "cell_type": "code",
      "source": [
        "df.dropna(how='all')"
      ],
      "metadata": {
        "colab": {
          "base_uri": "https://localhost:8080/",
          "height": 423
        },
        "id": "lUEd94o7GMik",
        "outputId": "977b7750-fd29-4c55-f8d5-213a76a4deb8"
      },
      "execution_count": null,
      "outputs": [
        {
          "output_type": "execute_result",
          "data": {
            "text/plain": [
              "      0      1      2      3      4      5      6      7      8     9     ...  \\\n",
              "0     10.0   11.0   11.0   12.0   13.0  608.0   13.0   13.0    8.0   7.0  ...   \n",
              "1     12.0   13.0   14.0   13.0   14.0   13.0   12.0   12.0   12.0  13.0  ...   \n",
              "2     80.0  676.0   80.0    2.0   80.0    2.0    1.0    2.0    1.0  45.0  ...   \n",
              "3     33.0   35.0   57.0   57.0   57.0    8.0    2.0    3.0    4.0   3.0  ...   \n",
              "4      8.0    7.0    6.0    7.0    8.0    8.0    7.0   12.0   13.0  12.0  ...   \n",
              "...    ...    ...    ...    ...    ...    ...    ...    ...    ...   ...  ...   \n",
              "2573  12.0   11.0   10.0   11.0   10.0    9.0    8.0    4.0    3.0   2.0  ...   \n",
              "2574   7.0    6.0   13.0   13.0   12.0   11.0    8.0    7.0    6.0   7.0  ...   \n",
              "2575   7.0    8.0  885.0  885.0  885.0  885.0    6.0    7.0   11.0  11.0  ...   \n",
              "2576  37.0   37.0   39.0   41.0   43.0   39.0   37.0   34.0   34.0  17.0  ...   \n",
              "2577  10.0    9.0   10.0    9.0  576.0  576.0  323.0  323.0  323.0   9.0  ...   \n",
              "\n",
              "      4441  4442  4443  4444  4445  4446  4447  4448  4449  4450  \n",
              "0      NaN   NaN   NaN   NaN   NaN   NaN   NaN   NaN   NaN   NaN  \n",
              "1      NaN   NaN   NaN   NaN   NaN   NaN   NaN   NaN   NaN   NaN  \n",
              "2      NaN   NaN   NaN   NaN   NaN   NaN   NaN   NaN   NaN   NaN  \n",
              "3      NaN   NaN   NaN   NaN   NaN   NaN   NaN   NaN   NaN   NaN  \n",
              "4      NaN   NaN   NaN   NaN   NaN   NaN   NaN   NaN   NaN   NaN  \n",
              "...    ...   ...   ...   ...   ...   ...   ...   ...   ...   ...  \n",
              "2573   NaN   NaN   NaN   NaN   NaN   NaN   NaN   NaN   NaN   NaN  \n",
              "2574   NaN   NaN   NaN   NaN   NaN   NaN   NaN   NaN   NaN   NaN  \n",
              "2575   NaN   NaN   NaN   NaN   NaN   NaN   NaN   NaN   NaN   NaN  \n",
              "2576   NaN   NaN   NaN   NaN   NaN   NaN   NaN   NaN   NaN   NaN  \n",
              "2577   NaN   NaN   NaN   NaN   NaN   NaN   NaN   NaN   NaN   NaN  \n",
              "\n",
              "[2572 rows x 4451 columns]"
            ],
            "text/html": [
              "\n",
              "  <div id=\"df-5594ff91-9ebf-4246-8ed5-c92683084f13\">\n",
              "    <div class=\"colab-df-container\">\n",
              "      <div>\n",
              "<style scoped>\n",
              "    .dataframe tbody tr th:only-of-type {\n",
              "        vertical-align: middle;\n",
              "    }\n",
              "\n",
              "    .dataframe tbody tr th {\n",
              "        vertical-align: top;\n",
              "    }\n",
              "\n",
              "    .dataframe thead th {\n",
              "        text-align: right;\n",
              "    }\n",
              "</style>\n",
              "<table border=\"1\" class=\"dataframe\">\n",
              "  <thead>\n",
              "    <tr style=\"text-align: right;\">\n",
              "      <th></th>\n",
              "      <th>0</th>\n",
              "      <th>1</th>\n",
              "      <th>2</th>\n",
              "      <th>3</th>\n",
              "      <th>4</th>\n",
              "      <th>5</th>\n",
              "      <th>6</th>\n",
              "      <th>7</th>\n",
              "      <th>8</th>\n",
              "      <th>9</th>\n",
              "      <th>...</th>\n",
              "      <th>4441</th>\n",
              "      <th>4442</th>\n",
              "      <th>4443</th>\n",
              "      <th>4444</th>\n",
              "      <th>4445</th>\n",
              "      <th>4446</th>\n",
              "      <th>4447</th>\n",
              "      <th>4448</th>\n",
              "      <th>4449</th>\n",
              "      <th>4450</th>\n",
              "    </tr>\n",
              "  </thead>\n",
              "  <tbody>\n",
              "    <tr>\n",
              "      <th>0</th>\n",
              "      <td>10.0</td>\n",
              "      <td>11.0</td>\n",
              "      <td>11.0</td>\n",
              "      <td>12.0</td>\n",
              "      <td>13.0</td>\n",
              "      <td>608.0</td>\n",
              "      <td>13.0</td>\n",
              "      <td>13.0</td>\n",
              "      <td>8.0</td>\n",
              "      <td>7.0</td>\n",
              "      <td>...</td>\n",
              "      <td>NaN</td>\n",
              "      <td>NaN</td>\n",
              "      <td>NaN</td>\n",
              "      <td>NaN</td>\n",
              "      <td>NaN</td>\n",
              "      <td>NaN</td>\n",
              "      <td>NaN</td>\n",
              "      <td>NaN</td>\n",
              "      <td>NaN</td>\n",
              "      <td>NaN</td>\n",
              "    </tr>\n",
              "    <tr>\n",
              "      <th>1</th>\n",
              "      <td>12.0</td>\n",
              "      <td>13.0</td>\n",
              "      <td>14.0</td>\n",
              "      <td>13.0</td>\n",
              "      <td>14.0</td>\n",
              "      <td>13.0</td>\n",
              "      <td>12.0</td>\n",
              "      <td>12.0</td>\n",
              "      <td>12.0</td>\n",
              "      <td>13.0</td>\n",
              "      <td>...</td>\n",
              "      <td>NaN</td>\n",
              "      <td>NaN</td>\n",
              "      <td>NaN</td>\n",
              "      <td>NaN</td>\n",
              "      <td>NaN</td>\n",
              "      <td>NaN</td>\n",
              "      <td>NaN</td>\n",
              "      <td>NaN</td>\n",
              "      <td>NaN</td>\n",
              "      <td>NaN</td>\n",
              "    </tr>\n",
              "    <tr>\n",
              "      <th>2</th>\n",
              "      <td>80.0</td>\n",
              "      <td>676.0</td>\n",
              "      <td>80.0</td>\n",
              "      <td>2.0</td>\n",
              "      <td>80.0</td>\n",
              "      <td>2.0</td>\n",
              "      <td>1.0</td>\n",
              "      <td>2.0</td>\n",
              "      <td>1.0</td>\n",
              "      <td>45.0</td>\n",
              "      <td>...</td>\n",
              "      <td>NaN</td>\n",
              "      <td>NaN</td>\n",
              "      <td>NaN</td>\n",
              "      <td>NaN</td>\n",
              "      <td>NaN</td>\n",
              "      <td>NaN</td>\n",
              "      <td>NaN</td>\n",
              "      <td>NaN</td>\n",
              "      <td>NaN</td>\n",
              "      <td>NaN</td>\n",
              "    </tr>\n",
              "    <tr>\n",
              "      <th>3</th>\n",
              "      <td>33.0</td>\n",
              "      <td>35.0</td>\n",
              "      <td>57.0</td>\n",
              "      <td>57.0</td>\n",
              "      <td>57.0</td>\n",
              "      <td>8.0</td>\n",
              "      <td>2.0</td>\n",
              "      <td>3.0</td>\n",
              "      <td>4.0</td>\n",
              "      <td>3.0</td>\n",
              "      <td>...</td>\n",
              "      <td>NaN</td>\n",
              "      <td>NaN</td>\n",
              "      <td>NaN</td>\n",
              "      <td>NaN</td>\n",
              "      <td>NaN</td>\n",
              "      <td>NaN</td>\n",
              "      <td>NaN</td>\n",
              "      <td>NaN</td>\n",
              "      <td>NaN</td>\n",
              "      <td>NaN</td>\n",
              "    </tr>\n",
              "    <tr>\n",
              "      <th>4</th>\n",
              "      <td>8.0</td>\n",
              "      <td>7.0</td>\n",
              "      <td>6.0</td>\n",
              "      <td>7.0</td>\n",
              "      <td>8.0</td>\n",
              "      <td>8.0</td>\n",
              "      <td>7.0</td>\n",
              "      <td>12.0</td>\n",
              "      <td>13.0</td>\n",
              "      <td>12.0</td>\n",
              "      <td>...</td>\n",
              "      <td>NaN</td>\n",
              "      <td>NaN</td>\n",
              "      <td>NaN</td>\n",
              "      <td>NaN</td>\n",
              "      <td>NaN</td>\n",
              "      <td>NaN</td>\n",
              "      <td>NaN</td>\n",
              "      <td>NaN</td>\n",
              "      <td>NaN</td>\n",
              "      <td>NaN</td>\n",
              "    </tr>\n",
              "    <tr>\n",
              "      <th>...</th>\n",
              "      <td>...</td>\n",
              "      <td>...</td>\n",
              "      <td>...</td>\n",
              "      <td>...</td>\n",
              "      <td>...</td>\n",
              "      <td>...</td>\n",
              "      <td>...</td>\n",
              "      <td>...</td>\n",
              "      <td>...</td>\n",
              "      <td>...</td>\n",
              "      <td>...</td>\n",
              "      <td>...</td>\n",
              "      <td>...</td>\n",
              "      <td>...</td>\n",
              "      <td>...</td>\n",
              "      <td>...</td>\n",
              "      <td>...</td>\n",
              "      <td>...</td>\n",
              "      <td>...</td>\n",
              "      <td>...</td>\n",
              "      <td>...</td>\n",
              "    </tr>\n",
              "    <tr>\n",
              "      <th>2573</th>\n",
              "      <td>12.0</td>\n",
              "      <td>11.0</td>\n",
              "      <td>10.0</td>\n",
              "      <td>11.0</td>\n",
              "      <td>10.0</td>\n",
              "      <td>9.0</td>\n",
              "      <td>8.0</td>\n",
              "      <td>4.0</td>\n",
              "      <td>3.0</td>\n",
              "      <td>2.0</td>\n",
              "      <td>...</td>\n",
              "      <td>NaN</td>\n",
              "      <td>NaN</td>\n",
              "      <td>NaN</td>\n",
              "      <td>NaN</td>\n",
              "      <td>NaN</td>\n",
              "      <td>NaN</td>\n",
              "      <td>NaN</td>\n",
              "      <td>NaN</td>\n",
              "      <td>NaN</td>\n",
              "      <td>NaN</td>\n",
              "    </tr>\n",
              "    <tr>\n",
              "      <th>2574</th>\n",
              "      <td>7.0</td>\n",
              "      <td>6.0</td>\n",
              "      <td>13.0</td>\n",
              "      <td>13.0</td>\n",
              "      <td>12.0</td>\n",
              "      <td>11.0</td>\n",
              "      <td>8.0</td>\n",
              "      <td>7.0</td>\n",
              "      <td>6.0</td>\n",
              "      <td>7.0</td>\n",
              "      <td>...</td>\n",
              "      <td>NaN</td>\n",
              "      <td>NaN</td>\n",
              "      <td>NaN</td>\n",
              "      <td>NaN</td>\n",
              "      <td>NaN</td>\n",
              "      <td>NaN</td>\n",
              "      <td>NaN</td>\n",
              "      <td>NaN</td>\n",
              "      <td>NaN</td>\n",
              "      <td>NaN</td>\n",
              "    </tr>\n",
              "    <tr>\n",
              "      <th>2575</th>\n",
              "      <td>7.0</td>\n",
              "      <td>8.0</td>\n",
              "      <td>885.0</td>\n",
              "      <td>885.0</td>\n",
              "      <td>885.0</td>\n",
              "      <td>885.0</td>\n",
              "      <td>6.0</td>\n",
              "      <td>7.0</td>\n",
              "      <td>11.0</td>\n",
              "      <td>11.0</td>\n",
              "      <td>...</td>\n",
              "      <td>NaN</td>\n",
              "      <td>NaN</td>\n",
              "      <td>NaN</td>\n",
              "      <td>NaN</td>\n",
              "      <td>NaN</td>\n",
              "      <td>NaN</td>\n",
              "      <td>NaN</td>\n",
              "      <td>NaN</td>\n",
              "      <td>NaN</td>\n",
              "      <td>NaN</td>\n",
              "    </tr>\n",
              "    <tr>\n",
              "      <th>2576</th>\n",
              "      <td>37.0</td>\n",
              "      <td>37.0</td>\n",
              "      <td>39.0</td>\n",
              "      <td>41.0</td>\n",
              "      <td>43.0</td>\n",
              "      <td>39.0</td>\n",
              "      <td>37.0</td>\n",
              "      <td>34.0</td>\n",
              "      <td>34.0</td>\n",
              "      <td>17.0</td>\n",
              "      <td>...</td>\n",
              "      <td>NaN</td>\n",
              "      <td>NaN</td>\n",
              "      <td>NaN</td>\n",
              "      <td>NaN</td>\n",
              "      <td>NaN</td>\n",
              "      <td>NaN</td>\n",
              "      <td>NaN</td>\n",
              "      <td>NaN</td>\n",
              "      <td>NaN</td>\n",
              "      <td>NaN</td>\n",
              "    </tr>\n",
              "    <tr>\n",
              "      <th>2577</th>\n",
              "      <td>10.0</td>\n",
              "      <td>9.0</td>\n",
              "      <td>10.0</td>\n",
              "      <td>9.0</td>\n",
              "      <td>576.0</td>\n",
              "      <td>576.0</td>\n",
              "      <td>323.0</td>\n",
              "      <td>323.0</td>\n",
              "      <td>323.0</td>\n",
              "      <td>9.0</td>\n",
              "      <td>...</td>\n",
              "      <td>NaN</td>\n",
              "      <td>NaN</td>\n",
              "      <td>NaN</td>\n",
              "      <td>NaN</td>\n",
              "      <td>NaN</td>\n",
              "      <td>NaN</td>\n",
              "      <td>NaN</td>\n",
              "      <td>NaN</td>\n",
              "      <td>NaN</td>\n",
              "      <td>NaN</td>\n",
              "    </tr>\n",
              "  </tbody>\n",
              "</table>\n",
              "<p>2572 rows × 4451 columns</p>\n",
              "</div>\n",
              "      <button class=\"colab-df-convert\" onclick=\"convertToInteractive('df-5594ff91-9ebf-4246-8ed5-c92683084f13')\"\n",
              "              title=\"Convert this dataframe to an interactive table.\"\n",
              "              style=\"display:none;\">\n",
              "        \n",
              "  <svg xmlns=\"http://www.w3.org/2000/svg\" height=\"24px\"viewBox=\"0 0 24 24\"\n",
              "       width=\"24px\">\n",
              "    <path d=\"M0 0h24v24H0V0z\" fill=\"none\"/>\n",
              "    <path d=\"M18.56 5.44l.94 2.06.94-2.06 2.06-.94-2.06-.94-.94-2.06-.94 2.06-2.06.94zm-11 1L8.5 8.5l.94-2.06 2.06-.94-2.06-.94L8.5 2.5l-.94 2.06-2.06.94zm10 10l.94 2.06.94-2.06 2.06-.94-2.06-.94-.94-2.06-.94 2.06-2.06.94z\"/><path d=\"M17.41 7.96l-1.37-1.37c-.4-.4-.92-.59-1.43-.59-.52 0-1.04.2-1.43.59L10.3 9.45l-7.72 7.72c-.78.78-.78 2.05 0 2.83L4 21.41c.39.39.9.59 1.41.59.51 0 1.02-.2 1.41-.59l7.78-7.78 2.81-2.81c.8-.78.8-2.07 0-2.86zM5.41 20L4 18.59l7.72-7.72 1.47 1.35L5.41 20z\"/>\n",
              "  </svg>\n",
              "      </button>\n",
              "      \n",
              "  <style>\n",
              "    .colab-df-container {\n",
              "      display:flex;\n",
              "      flex-wrap:wrap;\n",
              "      gap: 12px;\n",
              "    }\n",
              "\n",
              "    .colab-df-convert {\n",
              "      background-color: #E8F0FE;\n",
              "      border: none;\n",
              "      border-radius: 50%;\n",
              "      cursor: pointer;\n",
              "      display: none;\n",
              "      fill: #1967D2;\n",
              "      height: 32px;\n",
              "      padding: 0 0 0 0;\n",
              "      width: 32px;\n",
              "    }\n",
              "\n",
              "    .colab-df-convert:hover {\n",
              "      background-color: #E2EBFA;\n",
              "      box-shadow: 0px 1px 2px rgba(60, 64, 67, 0.3), 0px 1px 3px 1px rgba(60, 64, 67, 0.15);\n",
              "      fill: #174EA6;\n",
              "    }\n",
              "\n",
              "    [theme=dark] .colab-df-convert {\n",
              "      background-color: #3B4455;\n",
              "      fill: #D2E3FC;\n",
              "    }\n",
              "\n",
              "    [theme=dark] .colab-df-convert:hover {\n",
              "      background-color: #434B5C;\n",
              "      box-shadow: 0px 1px 3px 1px rgba(0, 0, 0, 0.15);\n",
              "      filter: drop-shadow(0px 1px 2px rgba(0, 0, 0, 0.3));\n",
              "      fill: #FFFFFF;\n",
              "    }\n",
              "  </style>\n",
              "\n",
              "      <script>\n",
              "        const buttonEl =\n",
              "          document.querySelector('#df-5594ff91-9ebf-4246-8ed5-c92683084f13 button.colab-df-convert');\n",
              "        buttonEl.style.display =\n",
              "          google.colab.kernel.accessAllowed ? 'block' : 'none';\n",
              "\n",
              "        async function convertToInteractive(key) {\n",
              "          const element = document.querySelector('#df-5594ff91-9ebf-4246-8ed5-c92683084f13');\n",
              "          const dataTable =\n",
              "            await google.colab.kernel.invokeFunction('convertToInteractive',\n",
              "                                                     [key], {});\n",
              "          if (!dataTable) return;\n",
              "\n",
              "          const docLinkHtml = 'Like what you see? Visit the ' +\n",
              "            '<a target=\"_blank\" href=https://colab.research.google.com/notebooks/data_table.ipynb>data table notebook</a>'\n",
              "            + ' to learn more about interactive tables.';\n",
              "          element.innerHTML = '';\n",
              "          dataTable['output_type'] = 'display_data';\n",
              "          await google.colab.output.renderOutput(dataTable, element);\n",
              "          const docLink = document.createElement('div');\n",
              "          docLink.innerHTML = docLinkHtml;\n",
              "          element.appendChild(docLink);\n",
              "        }\n",
              "      </script>\n",
              "    </div>\n",
              "  </div>\n",
              "  "
            ]
          },
          "metadata": {},
          "execution_count": 29
        }
      ]
    },
    {
      "cell_type": "code",
      "source": [
        "for i in range (500,600):\n",
        "  print((df[i]==-1.0).sum())"
      ],
      "metadata": {
        "id": "HCjp8sSra_iJ"
      },
      "execution_count": null,
      "outputs": []
    },
    {
      "cell_type": "code",
      "source": [
        "df=df.fillna(-1)"
      ],
      "metadata": {
        "id": "S-K7gOYro8HP"
      },
      "execution_count": null,
      "outputs": []
    },
    {
      "cell_type": "code",
      "source": [
        "df = df.replace(\"None\", -1)"
      ],
      "metadata": {
        "id": "pYoKwELVrvK5"
      },
      "execution_count": null,
      "outputs": []
    },
    {
      "cell_type": "code",
      "source": [
        "df.dtypes"
      ],
      "metadata": {
        "colab": {
          "base_uri": "https://localhost:8080/"
        },
        "id": "zBl1Il9tmrgh",
        "outputId": "39c3e0fa-8907-4521-acfe-52bda8e7b98e"
      },
      "execution_count": null,
      "outputs": [
        {
          "output_type": "execute_result",
          "data": {
            "text/plain": [
              "0      float64\n",
              "1      float64\n",
              "2      float64\n",
              "3      float64\n",
              "4      float64\n",
              "        ...   \n",
              "251    float64\n",
              "252    float64\n",
              "253    float64\n",
              "254    float64\n",
              "255    float64\n",
              "Length: 256, dtype: object"
            ]
          },
          "metadata": {},
          "execution_count": 40
        }
      ]
    },
    {
      "cell_type": "code",
      "source": [
        "df.to_csv('input3csv',index=False)"
      ],
      "metadata": {
        "id": "25vqGbkuqy2Y"
      },
      "execution_count": null,
      "outputs": []
    },
    {
      "cell_type": "code",
      "source": [
        "pd.DataFrame.from_dict(label).to_csv('Label3.csv',index=False)"
      ],
      "metadata": {
        "id": "yEDzEO3ZsOmv"
      },
      "execution_count": null,
      "outputs": []
    },
    {
      "cell_type": "code",
      "source": [
        "pd.DataFrame.from_dict(files).to_csv('files3.csv',index=False)"
      ],
      "metadata": {
        "id": "MkoHwPGBhr_I"
      },
      "execution_count": null,
      "outputs": []
    },
    {
      "cell_type": "code",
      "source": [
        "x=np.array(dataset)"
      ],
      "metadata": {
        "id": "ir3N8bJBp7NB",
        "colab": {
          "base_uri": "https://localhost:8080/"
        },
        "outputId": "94a56501-2db4-4a76-9306-9e93cf9db0b9"
      },
      "execution_count": null,
      "outputs": [
        {
          "output_type": "stream",
          "name": "stderr",
          "text": [
            "<ipython-input-22-6149d69bee2a>:1: VisibleDeprecationWarning: Creating an ndarray from ragged nested sequences (which is a list-or-tuple of lists-or-tuples-or ndarrays with different lengths or shapes) is deprecated. If you meant to do this, you must specify 'dtype=object' when creating the ndarray.\n",
            "  x=np.array(dataset)\n"
          ]
        }
      ]
    },
    {
      "cell_type": "code",
      "source": [
        "xt=np.array(df)"
      ],
      "metadata": {
        "id": "eGlbEf0n_dF_"
      },
      "execution_count": null,
      "outputs": []
    },
    {
      "cell_type": "code",
      "source": [
        "#xxt=np.concatenate((df,df,df,df,df),axis=0)"
      ],
      "metadata": {
        "id": "zbAAPmbjcfYK"
      },
      "execution_count": null,
      "outputs": []
    },
    {
      "cell_type": "code",
      "source": [
        "xxt.shape"
      ],
      "metadata": {
        "colab": {
          "base_uri": "https://localhost:8080/"
        },
        "id": "29YL_wMmdeQj",
        "outputId": "bddee779-da3b-43ad-9af0-79b6789e67ec"
      },
      "execution_count": null,
      "outputs": [
        {
          "output_type": "execute_result",
          "data": {
            "text/plain": [
              "(15312, 4284)"
            ]
          },
          "metadata": {},
          "execution_count": 25
        }
      ]
    },
    {
      "cell_type": "code",
      "source": [
        "y=pd.DataFrame(label)\n",
        "y.value_counts()"
      ],
      "metadata": {
        "colab": {
          "base_uri": "https://localhost:8080/"
        },
        "id": "PkZrwgrncmnY",
        "outputId": "818adafb-b4d8-49b1-a33e-44e198f56f09"
      },
      "execution_count": null,
      "outputs": [
        {
          "output_type": "execute_result",
          "data": {
            "text/plain": [
              "reentrancy (RE)                 556\n",
              "unchecked external call (UC)    537\n",
              "integer overflow (OF)           429\n",
              "block number dependency (BN)    374\n",
              "ether strict equality (SE)      315\n",
              "timestamp dependency (TP)       221\n",
              "dangerous delegatecall (DE)      73\n",
              "ether frozen (EF)                73\n",
              "dtype: int64"
            ]
          },
          "metadata": {},
          "execution_count": 36
        }
      ]
    },
    {
      "cell_type": "code",
      "source": [
        "y=y.replace(\"reentrancy (RE)\", 0)\n",
        "y=y.replace(\"unchecked external call (UC)\", 1)\n",
        "y=y.replace(\"integer overflow (OF)\", 2)\n",
        "y=y.replace(\"ether strict equality (SE)\", 3)\n",
        "y=y.replace(\"timestamp dependency (TP)\", 4)\n",
        "y=y.replace(\"block number dependency (BN)\", 5)\n",
        "y=y.replace(\"dangerous delegatecall (DE)\", 6)\n",
        "y=y.replace(\"ether frozen (EF)\", 7)"
      ],
      "metadata": {
        "id": "04WpbKCNddHo"
      },
      "execution_count": null,
      "outputs": []
    },
    {
      "cell_type": "code",
      "source": [
        "y.value_counts()"
      ],
      "metadata": {
        "id": "FmvVJG-ec0P3",
        "colab": {
          "base_uri": "https://localhost:8080/"
        },
        "outputId": "a4576940-16eb-4662-a3c8-09a2dd7252b6"
      },
      "execution_count": null,
      "outputs": [
        {
          "output_type": "execute_result",
          "data": {
            "text/plain": [
              "0    547\n",
              "1    528\n",
              "2    429\n",
              "5    371\n",
              "3    308\n",
              "4    221\n",
              "6     73\n",
              "7     73\n",
              "dtype: int64"
            ]
          },
          "metadata": {},
          "execution_count": 47
        }
      ]
    },
    {
      "cell_type": "code",
      "source": [
        "#yyt=np.concatenate((y,y,y,y,y,y),axis=0)"
      ],
      "metadata": {
        "id": "in1mDFbPei7G"
      },
      "execution_count": null,
      "outputs": []
    },
    {
      "cell_type": "code",
      "source": [],
      "metadata": {
        "id": "26BS_LZjLOyO"
      },
      "execution_count": null,
      "outputs": []
    },
    {
      "cell_type": "code",
      "source": [
        "#filesx=np.concatenate((files,files,files,files,files,files),axis=0)"
      ],
      "metadata": {
        "id": "0oH4oPu4L3RO"
      },
      "execution_count": null,
      "outputs": []
    },
    {
      "cell_type": "code",
      "source": [
        "y.shape"
      ],
      "metadata": {
        "colab": {
          "base_uri": "https://localhost:8080/"
        },
        "id": "Ceo9Afnle1e5",
        "outputId": "1aa2d03b-610b-4402-abd5-e1d7b7e54161"
      },
      "execution_count": null,
      "outputs": [
        {
          "output_type": "execute_result",
          "data": {
            "text/plain": [
              "(15312, 1)"
            ]
          },
          "metadata": {},
          "execution_count": 30
        }
      ]
    },
    {
      "cell_type": "code",
      "source": [],
      "metadata": {
        "id": "M2CkwMvvxKcI"
      },
      "execution_count": null,
      "outputs": []
    },
    {
      "cell_type": "code",
      "source": [
        "from sklearn.feature_selection import GenericUnivariateSelect, chi2, mutual_info_classif\n",
        "transformer = GenericUnivariateSelect(mutual_info_classif, mode='k_best', param=256)\n",
        "X_new = transformer.fit_transform(xxt, yyt)"
      ],
      "metadata": {
        "id": "T0CuFeBaF1ZU",
        "colab": {
          "base_uri": "https://localhost:8080/"
        },
        "outputId": "258645a7-2416-428c-dcea-d7ee62063473"
      },
      "execution_count": null,
      "outputs": [
        {
          "output_type": "stream",
          "name": "stderr",
          "text": [
            "/usr/local/lib/python3.8/dist-packages/sklearn/utils/validation.py:993: DataConversionWarning: A column-vector y was passed when a 1d array was expected. Please change the shape of y to (n_samples, ), for example using ravel().\n",
            "  y = column_or_1d(y, warn=True)\n"
          ]
        }
      ]
    },
    {
      "cell_type": "code",
      "source": [
        "pd.DataFrame(xxt).to_csv('datasetx2.csv',index=False)\n",
        "pd.DataFrame(yyt).to_csv('datasety2.csv',index=False)\n",
        "pd.DataFrame(filesx).to_csv('filenames2.csv',index=False)"
      ],
      "metadata": {
        "id": "Zmbhqfpye30x"
      },
      "execution_count": null,
      "outputs": []
    },
    {
      "cell_type": "code",
      "source": [
        "df=pd.read_csv('input3csv')"
      ],
      "metadata": {
        "id": "gEwlFoFHe2oa"
      },
      "execution_count": null,
      "outputs": []
    },
    {
      "cell_type": "code",
      "source": [
        "y=pd.read_csv('Label3.csv')\n",
        "fall=pd.read_csv('files3.csv')"
      ],
      "metadata": {
        "id": "CkuevbqiNYzi"
      },
      "execution_count": null,
      "outputs": []
    },
    {
      "cell_type": "code",
      "source": [
        "y=y.replace(\"reentrancy (RE)\", 0)\n",
        "y=y.replace(\"unchecked external call (UC)\", 1)\n",
        "y=y.replace(\"integer overflow (OF)\", 2)\n",
        "y=y.replace(\"ether strict equality (SE)\", 3)\n",
        "y=y.replace(\"timestamp dependency (TP)\", 4)\n",
        "y=y.replace(\"block number dependency (BN)\", 5)\n",
        "y=y.replace(\"dangerous delegatecall (DE)\", 6)\n",
        "y=y.replace(\"ether frozen (EF)\", 7)"
      ],
      "metadata": {
        "id": "AGqUR_9KNiDq"
      },
      "execution_count": null,
      "outputs": []
    },
    {
      "cell_type": "code",
      "source": [],
      "metadata": {
        "id": "jxh8Pt3MNoQJ"
      },
      "execution_count": null,
      "outputs": []
    },
    {
      "cell_type": "code",
      "source": [],
      "metadata": {
        "id": "Z2_awrisOAmW"
      },
      "execution_count": null,
      "outputs": []
    },
    {
      "cell_type": "code",
      "source": [],
      "metadata": {
        "id": "76rGZ30POS7b"
      },
      "execution_count": null,
      "outputs": []
    },
    {
      "cell_type": "code",
      "source": [
        "xxt.shape"
      ],
      "metadata": {
        "colab": {
          "base_uri": "https://localhost:8080/"
        },
        "id": "9u2LD2HjOf7R",
        "outputId": "992e8dbc-9481-46c3-c52a-abb6038eb771"
      },
      "execution_count": null,
      "outputs": [
        {
          "output_type": "execute_result",
          "data": {
            "text/plain": [
              "(10312, 4451)"
            ]
          },
          "metadata": {},
          "execution_count": 17
        }
      ]
    },
    {
      "cell_type": "code",
      "source": [
        "yyt.shape"
      ],
      "metadata": {
        "colab": {
          "base_uri": "https://localhost:8080/"
        },
        "id": "rKowzqusOjRR",
        "outputId": "214586a0-a2fc-4349-b756-594e93561b07"
      },
      "execution_count": null,
      "outputs": [
        {
          "output_type": "execute_result",
          "data": {
            "text/plain": [
              "(10312, 1)"
            ]
          },
          "metadata": {},
          "execution_count": 18
        }
      ]
    },
    {
      "cell_type": "code",
      "source": [
        "files.shape"
      ],
      "metadata": {
        "colab": {
          "base_uri": "https://localhost:8080/"
        },
        "id": "bo9jeWNROkXM",
        "outputId": "0ba464fb-14b2-4c30-8c5c-fe4050782a42"
      },
      "execution_count": null,
      "outputs": [
        {
          "output_type": "execute_result",
          "data": {
            "text/plain": [
              "(10312, 1)"
            ]
          },
          "metadata": {},
          "execution_count": 19
        }
      ]
    },
    {
      "cell_type": "code",
      "source": [
        "pd.DataFrame(xxt).to_csv('datasetxraw.csv',index=False)\n",
        "pd.DataFrame(yyt).to_csv('datasety3.csv',index=False)\n",
        "pd.DataFrame(files).to_csv('filenames3.csv',index=False)"
      ],
      "metadata": {
        "id": "2nj6H2QTOlww"
      },
      "execution_count": null,
      "outputs": []
    },
    {
      "cell_type": "code",
      "source": [],
      "metadata": {
        "id": "_7yr53m7OubK"
      },
      "execution_count": null,
      "outputs": []
    }
  ]
}