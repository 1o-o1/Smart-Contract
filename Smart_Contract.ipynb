{
  "nbformat": 4,
  "nbformat_minor": 0,
  "metadata": {
    "colab": {
      "provenance": [],
      "include_colab_link": true
    },
    "kernelspec": {
      "name": "python3",
      "display_name": "Python 3"
    },
    "language_info": {
      "name": "python"
    }
  },
  "cells": [
    {
      "cell_type": "markdown",
      "metadata": {
        "id": "view-in-github",
        "colab_type": "text"
      },
      "source": [
        "<a href=\"https://colab.research.google.com/github/1o-o1/Smart-Contract/blob/main/Smart_Contract.ipynb\" target=\"_parent\"><img src=\"https://colab.research.google.com/assets/colab-badge.svg\" alt=\"Open In Colab\"/></a>"
      ]
    },
    {
      "cell_type": "code",
      "execution_count": null,
      "metadata": {
        "colab": {
          "base_uri": "https://localhost:8080/"
        },
        "id": "GsLS7HNA5u9R",
        "outputId": "ced221e2-5786-4955-d55c-cd4b26deb769"
      },
      "outputs": [
        {
          "output_type": "stream",
          "name": "stdout",
          "text": [
            "Mounted at /content/drive\n",
            "[Errno 2] No such file or directory: '/content/drive/MyDrive/Research/Smart Contract'\n",
            "/content\n",
            "\u001b[0m\u001b[01;34mdrive\u001b[0m/  \u001b[01;34msample_data\u001b[0m/\n"
          ]
        }
      ],
      "source": [
        "# Google Drive Mount\n",
        "from google.colab import drive\n",
        "drive.mount('/content/drive')\n",
        "%cd /content/drive/MyDrive/Research/Smart Contract\n",
        "%ls"
      ]
    },
    {
      "cell_type": "code",
      "source": [],
      "metadata": {
        "id": "nJGc_WUvc2M4"
      },
      "execution_count": null,
      "outputs": []
    },
    {
      "cell_type": "code",
      "source": [
        "import numpy as np\n",
        "import pandas as pd\n",
        "import matplotlib\n",
        "import seaborn as sns\n",
        "import sklearn\n",
        "import matplotlib.pyplot as plt\n",
        "import time\n",
        "import os\n",
        "import sklearn.metrics as m\n",
        "from glob import glob\n",
        "from sklearn.preprocessing import StandardScaler\n",
        "from sklearn import tree\n",
        "from sklearn.model_selection import cross_val_score\n",
        "from sklearn.model_selection import train_test_split\n",
        "!pip install mythril"
      ],
      "metadata": {
        "id": "ig_mkrbN8dxy",
        "colab": {
          "base_uri": "https://localhost:8080/"
        },
        "outputId": "b3b67f68-869b-456b-865e-cbf104a70508"
      },
      "execution_count": null,
      "outputs": [
        {
          "output_type": "stream",
          "name": "stdout",
          "text": [
            "Looking in indexes: https://pypi.org/simple, https://us-python.pkg.dev/colab-wheels/public/simple/\n",
            "Collecting mythril\n",
            "  Downloading mythril-0.23.16.tar.gz (4.5 MB)\n",
            "\u001b[2K     \u001b[90m━━━━━━━━━━━━━━━━━━━━━━━━━━━━━━━━━━━━━━━━\u001b[0m \u001b[32m4.5/4.5 MB\u001b[0m \u001b[31m14.0 MB/s\u001b[0m eta \u001b[36m0:00:00\u001b[0m\n",
            "\u001b[?25h  Preparing metadata (setup.py) ... \u001b[?25l\u001b[?25hdone\n",
            "Collecting blake2b-py\n",
            "  Downloading blake2b_py-0.1.4-cp38-cp38-manylinux2010_x86_64.whl (151 kB)\n",
            "\u001b[2K     \u001b[90m━━━━━━━━━━━━━━━━━━━━━━━━━━━━━━━━━━━━━━\u001b[0m \u001b[32m151.7/151.7 KB\u001b[0m \u001b[31m10.4 MB/s\u001b[0m eta \u001b[36m0:00:00\u001b[0m\n",
            "\u001b[?25hCollecting coloredlogs>=10.0\n",
            "  Downloading coloredlogs-15.0.1-py2.py3-none-any.whl (46 kB)\n",
            "\u001b[2K     \u001b[90m━━━━━━━━━━━━━━━━━━━━━━━━━━━━━━━━━━━━━━━━\u001b[0m \u001b[32m46.0/46.0 KB\u001b[0m \u001b[31m2.4 MB/s\u001b[0m eta \u001b[36m0:00:00\u001b[0m\n",
            "\u001b[?25hCollecting coincurve>=13.0.0\n",
            "  Downloading coincurve-18.0.0-cp38-cp38-manylinux_2_17_x86_64.manylinux2014_x86_64.whl (1.4 MB)\n",
            "\u001b[2K     \u001b[90m━━━━━━━━━━━━━━━━━━━━━━━━━━━━━━━━━━━━━━━━\u001b[0m \u001b[32m1.4/1.4 MB\u001b[0m \u001b[31m37.9 MB/s\u001b[0m eta \u001b[36m0:00:00\u001b[0m\n",
            "\u001b[?25hRequirement already satisfied: cython in /usr/local/lib/python3.8/dist-packages (from mythril) (0.29.33)\n",
            "Collecting cytoolz<0.12.0\n",
            "  Downloading cytoolz-0.11.2.tar.gz (481 kB)\n",
            "\u001b[2K     \u001b[90m━━━━━━━━━━━━━━━━━━━━━━━━━━━━━━━━━━━━━━\u001b[0m \u001b[32m481.0/481.0 KB\u001b[0m \u001b[31m13.9 MB/s\u001b[0m eta \u001b[36m0:00:00\u001b[0m\n",
            "\u001b[?25h  Preparing metadata (setup.py) ... \u001b[?25l\u001b[?25hdone\n",
            "Collecting asn1crypto>=0.22.0\n",
            "  Downloading asn1crypto-1.5.1-py2.py3-none-any.whl (105 kB)\n",
            "\u001b[2K     \u001b[90m━━━━━━━━━━━━━━━━━━━━━━━━━━━━━━━━━━━━━━━\u001b[0m \u001b[32m105.0/105.0 KB\u001b[0m \u001b[31m3.6 MB/s\u001b[0m eta \u001b[36m0:00:00\u001b[0m\n",
            "\u001b[?25hCollecting configparser>=3.5.0\n",
            "  Downloading configparser-5.3.0-py3-none-any.whl (19 kB)\n",
            "Collecting coverage<7.0,>6.0\n",
            "  Downloading coverage-6.5.0-cp38-cp38-manylinux_2_5_x86_64.manylinux1_x86_64.manylinux_2_17_x86_64.manylinux2014_x86_64.whl (214 kB)\n",
            "\u001b[2K     \u001b[90m━━━━━━━━━━━━━━━━━━━━━━━━━━━━━━━━━━━━━━━\u001b[0m \u001b[32m214.4/214.4 KB\u001b[0m \u001b[31m7.1 MB/s\u001b[0m eta \u001b[36m0:00:00\u001b[0m\n",
            "\u001b[?25hCollecting py_ecc<5.0.0,>=1.4.7\n",
            "  Downloading py_ecc-4.1.0-py3-none-any.whl (41 kB)\n",
            "\u001b[2K     \u001b[90m━━━━━━━━━━━━━━━━━━━━━━━━━━━━━━━━━━━━━━━━\u001b[0m \u001b[32m41.8/41.8 KB\u001b[0m \u001b[31m2.6 MB/s\u001b[0m eta \u001b[36m0:00:00\u001b[0m\n",
            "\u001b[?25hCollecting eth_abi<3.0.0,>=2.0.0b4\n",
            "  Downloading eth_abi-2.2.0-py3-none-any.whl (28 kB)\n",
            "Collecting eth-account<0.6.0,>=0.5.6\n",
            "  Downloading eth_account-0.5.9-py3-none-any.whl (101 kB)\n",
            "\u001b[2K     \u001b[90m━━━━━━━━━━━━━━━━━━━━━━━━━━━━━━━━━━━━━━━\u001b[0m \u001b[32m101.8/101.8 KB\u001b[0m \u001b[31m6.7 MB/s\u001b[0m eta \u001b[36m0:00:00\u001b[0m\n",
            "\u001b[?25hCollecting ethereum-input-decoder>=0.2.2\n",
            "  Downloading ethereum_input_decoder-0.2.2.tar.gz (5.5 kB)\n",
            "  Preparing metadata (setup.py) ... \u001b[?25l\u001b[?25hdone\n",
            "Collecting eth-hash<0.4.0,>=0.3.1\n",
            "  Downloading eth_hash-0.3.3-py3-none-any.whl (8.9 kB)\n",
            "Collecting eth-keyfile<0.6.0,>=0.5.1\n",
            "  Downloading eth_keyfile-0.5.1-py3-none-any.whl (8.3 kB)\n",
            "Collecting eth-keys<0.4.0,>=0.2.1\n",
            "  Downloading eth_keys-0.3.4-py3-none-any.whl (21 kB)\n",
            "Collecting eth-rlp<0.3.0,>=0.1.0\n",
            "  Downloading eth_rlp-0.2.1-py3-none-any.whl (5.0 kB)\n",
            "Collecting eth-typing<3.0.0,>=2.1.0\n",
            "  Downloading eth_typing-2.3.0-py3-none-any.whl (6.2 kB)\n",
            "Collecting eth-utils<2\n",
            "  Downloading eth_utils-1.10.0-py3-none-any.whl (24 kB)\n",
            "Collecting hexbytes<0.3.0\n",
            "  Downloading hexbytes-0.2.3-py3-none-any.whl (6.4 kB)\n",
            "Requirement already satisfied: jinja2>=2.9 in /usr/local/lib/python3.8/dist-packages (from mythril) (2.11.3)\n",
            "Requirement already satisfied: MarkupSafe<2.1.0 in /usr/local/lib/python3.8/dist-packages (from mythril) (2.0.1)\n",
            "Collecting mock\n",
            "  Downloading mock-5.0.1-py3-none-any.whl (30 kB)\n",
            "Collecting mypy-extensions<1.0.0\n",
            "  Downloading mypy_extensions-0.4.4.tar.gz (4.2 kB)\n",
            "  Preparing metadata (setup.py) ... \u001b[?25l\u001b[?25hdone\n",
            "Collecting persistent>=4.2.0\n",
            "  Downloading persistent-5.0-cp38-cp38-manylinux_2_5_x86_64.manylinux1_x86_64.manylinux_2_17_x86_64.manylinux2014_x86_64.whl (233 kB)\n",
            "\u001b[2K     \u001b[90m━━━━━━━━━━━━━━━━━━━━━━━━━━━━━━━━━━━━━━━\u001b[0m \u001b[32m233.1/233.1 KB\u001b[0m \u001b[31m7.5 MB/s\u001b[0m eta \u001b[36m0:00:00\u001b[0m\n",
            "\u001b[?25hCollecting py-flags\n",
            "  Downloading py_flags-1.1.4-py3-none-any.whl (17 kB)\n",
            "Collecting py-evm==0.5.0a1\n",
            "  Downloading py_evm-0.5.0a1-py3-none-any.whl (273 kB)\n",
            "\u001b[2K     \u001b[90m━━━━━━━━━━━━━━━━━━━━━━━━━━━━━━━━━━━━━━\u001b[0m \u001b[32m273.7/273.7 KB\u001b[0m \u001b[31m10.2 MB/s\u001b[0m eta \u001b[36m0:00:00\u001b[0m\n",
            "\u001b[?25hCollecting py-solc-x\n",
            "  Downloading py_solc_x-1.1.1-py3-none-any.whl (15 kB)\n",
            "Collecting py-solc\n",
            "  Downloading py_solc-3.2.0-py3-none-any.whl (12 kB)\n",
            "Requirement already satisfied: pytest>=3.6.0 in /usr/local/lib/python3.8/dist-packages (from mythril) (3.6.4)\n",
            "Collecting pyparsing<3,>=2.0.2\n",
            "  Downloading pyparsing-2.4.7-py2.py3-none-any.whl (67 kB)\n",
            "\u001b[2K     \u001b[90m━━━━━━━━━━━━━━━━━━━━━━━━━━━━━━━━━━━━━━━━\u001b[0m \u001b[32m67.8/67.8 KB\u001b[0m \u001b[31m3.4 MB/s\u001b[0m eta \u001b[36m0:00:00\u001b[0m\n",
            "\u001b[?25hCollecting pytest-cov\n",
            "  Downloading pytest_cov-4.0.0-py3-none-any.whl (21 kB)\n",
            "Collecting pytest_mock\n",
            "  Downloading pytest_mock-3.10.0-py3-none-any.whl (9.3 kB)\n",
            "Requirement already satisfied: requests in /usr/local/lib/python3.8/dist-packages (from mythril) (2.25.1)\n",
            "Collecting rlp<3\n",
            "  Downloading rlp-2.0.1-py2.py3-none-any.whl (20 kB)\n",
            "Collecting semantic_version\n",
            "  Downloading semantic_version-2.10.0-py2.py3-none-any.whl (15 kB)\n",
            "Collecting transaction>=2.2.1\n",
            "  Downloading transaction-3.0.1-py2.py3-none-any.whl (47 kB)\n",
            "\u001b[2K     \u001b[90m━━━━━━━━━━━━━━━━━━━━━━━━━━━━━━━━━━━━━━━━\u001b[0m \u001b[32m47.4/47.4 KB\u001b[0m \u001b[31m1.7 MB/s\u001b[0m eta \u001b[36m0:00:00\u001b[0m\n",
            "\u001b[?25hCollecting typing-extensions<4,>=3.7.4\n",
            "  Downloading typing_extensions-3.10.0.2-py3-none-any.whl (26 kB)\n",
            "Collecting z3-solver>=4.8.8.0\n",
            "  Downloading z3_solver-4.12.1.0-py2.py3-none-manylinux1_x86_64.whl (56.0 MB)\n",
            "\u001b[2K     \u001b[90m━━━━━━━━━━━━━━━━━━━━━━━━━━━━━━━━━━━━━━━━\u001b[0m \u001b[32m56.0/56.0 MB\u001b[0m \u001b[31m7.8 MB/s\u001b[0m eta \u001b[36m0:00:00\u001b[0m\n",
            "\u001b[?25hRequirement already satisfied: matplotlib in /usr/local/lib/python3.8/dist-packages (from mythril) (3.2.2)\n",
            "Collecting pre-commit<2.21.0\n",
            "  Downloading pre_commit-2.20.0-py2.py3-none-any.whl (199 kB)\n",
            "\u001b[2K     \u001b[90m━━━━━━━━━━━━━━━━━━━━━━━━━━━━━━━━━━━━━━\u001b[0m \u001b[32m199.5/199.5 KB\u001b[0m \u001b[31m21.6 MB/s\u001b[0m eta \u001b[36m0:00:00\u001b[0m\n",
            "\u001b[?25hRequirement already satisfied: certifi>=2020.06.20 in /usr/local/lib/python3.8/dist-packages (from mythril) (2022.12.7)\n",
            "Collecting eth-bloom<2.0.0,>=1.0.3\n",
            "  Downloading eth_bloom-1.0.4-py3-none-any.whl (5.4 kB)\n",
            "Collecting trie==2.0.0-alpha.5\n",
            "  Downloading trie-2.0.0a5-py3-none-any.whl (38 kB)\n",
            "Collecting pyethash<1.0.0,>=0.1.27\n",
            "  Downloading pyethash-0.1.27.tar.gz (38 kB)\n",
            "  Preparing metadata (setup.py) ... \u001b[?25l\u001b[?25hdone\n",
            "Collecting lru-dict>=1.1.6\n",
            "  Downloading lru_dict-1.1.8-cp38-cp38-manylinux_2_5_x86_64.manylinux1_x86_64.manylinux_2_17_x86_64.manylinux2014_x86_64.whl (29 kB)\n",
            "Collecting cached-property<2,>=1.5.1\n",
            "  Downloading cached_property-1.5.2-py2.py3-none-any.whl (7.6 kB)\n",
            "Requirement already satisfied: sortedcontainers<3,>=2.1.0 in /usr/local/lib/python3.8/dist-packages (from trie==2.0.0-alpha.5->py-evm==0.5.0a1->mythril) (2.4.0)\n",
            "Requirement already satisfied: cffi>=1.3.0 in /usr/local/lib/python3.8/dist-packages (from coincurve>=13.0.0->mythril) (1.15.1)\n",
            "Collecting humanfriendly>=9.1\n",
            "  Downloading humanfriendly-10.0-py2.py3-none-any.whl (86 kB)\n",
            "\u001b[2K     \u001b[90m━━━━━━━━━━━━━━━━━━━━━━━━━━━━━━━━━━━━━━━━\u001b[0m \u001b[32m86.8/86.8 KB\u001b[0m \u001b[31m9.1 MB/s\u001b[0m eta \u001b[36m0:00:00\u001b[0m\n",
            "\u001b[?25hRequirement already satisfied: toolz>=0.8.0 in /usr/local/lib/python3.8/dist-packages (from cytoolz<0.12.0->mythril) (0.12.0)\n",
            "Collecting parsimonious<0.9.0,>=0.8.0\n",
            "  Downloading parsimonious-0.8.1.tar.gz (45 kB)\n",
            "\u001b[2K     \u001b[90m━━━━━━━━━━━━━━━━━━━━━━━━━━━━━━━━━━━━━━━━\u001b[0m \u001b[32m45.1/45.1 KB\u001b[0m \u001b[31m4.6 MB/s\u001b[0m eta \u001b[36m0:00:00\u001b[0m\n",
            "\u001b[?25h  Preparing metadata (setup.py) ... \u001b[?25l\u001b[?25hdone\n",
            "Collecting bitarray<3,>=1.2.1\n",
            "  Downloading bitarray-2.7.2-cp38-cp38-manylinux_2_17_x86_64.manylinux2014_x86_64.whl (269 kB)\n",
            "\u001b[2K     \u001b[90m━━━━━━━━━━━━━━━━━━━━━━━━━━━━━━━━━━━━━━\u001b[0m \u001b[32m269.5/269.5 KB\u001b[0m \u001b[31m23.4 MB/s\u001b[0m eta \u001b[36m0:00:00\u001b[0m\n",
            "\u001b[?25hCollecting pycryptodome<4.0.0,>=3.4.7\n",
            "  Downloading pycryptodome-3.17-cp35-abi3-manylinux_2_17_x86_64.manylinux2014_x86_64.whl (2.1 MB)\n",
            "\u001b[2K     \u001b[90m━━━━━━━━━━━━━━━━━━━━━━━━━━━━━━━━━━━━━━━━\u001b[0m \u001b[32m2.1/2.1 MB\u001b[0m \u001b[31m49.8 MB/s\u001b[0m eta \u001b[36m0:00:00\u001b[0m\n",
            "\u001b[?25hCollecting zope.interface\n",
            "  Downloading zope.interface-5.5.2-cp38-cp38-manylinux_2_5_x86_64.manylinux1_x86_64.manylinux_2_12_x86_64.manylinux2010_x86_64.whl (261 kB)\n",
            "\u001b[2K     \u001b[90m━━━━━━━━━━━━━━━━━━━━━━━━━━━━━━━━━━━━━━\u001b[0m \u001b[32m261.4/261.4 KB\u001b[0m \u001b[31m26.0 MB/s\u001b[0m eta \u001b[36m0:00:00\u001b[0m\n",
            "\u001b[?25hRequirement already satisfied: toml in /usr/local/lib/python3.8/dist-packages (from pre-commit<2.21.0->mythril) (0.10.2)\n",
            "Collecting identify>=1.0.0\n",
            "  Downloading identify-2.5.18-py2.py3-none-any.whl (98 kB)\n",
            "\u001b[2K     \u001b[90m━━━━━━━━━━━━━━━━━━━━━━━━━━━━━━━━━━━━━━━━\u001b[0m \u001b[32m98.8/98.8 KB\u001b[0m \u001b[31m11.4 MB/s\u001b[0m eta \u001b[36m0:00:00\u001b[0m\n",
            "\u001b[?25hRequirement already satisfied: pyyaml>=5.1 in /usr/local/lib/python3.8/dist-packages (from pre-commit<2.21.0->mythril) (6.0)\n",
            "Collecting virtualenv>=20.0.8\n",
            "  Downloading virtualenv-20.19.0-py3-none-any.whl (8.7 MB)\n",
            "\u001b[2K     \u001b[90m━━━━━━━━━━━━━━━━━━━━━━━━━━━━━━━━━━━━━━━━\u001b[0m \u001b[32m8.7/8.7 MB\u001b[0m \u001b[31m69.1 MB/s\u001b[0m eta \u001b[36m0:00:00\u001b[0m\n",
            "\u001b[?25hCollecting nodeenv>=0.11.1\n",
            "  Downloading nodeenv-1.7.0-py2.py3-none-any.whl (21 kB)\n",
            "Collecting cfgv>=2.0.0\n",
            "  Downloading cfgv-3.3.1-py2.py3-none-any.whl (7.3 kB)\n",
            "Requirement already satisfied: attrs>=17.4.0 in /usr/local/lib/python3.8/dist-packages (from pytest>=3.6.0->mythril) (22.2.0)\n",
            "Requirement already satisfied: six>=1.10.0 in /usr/local/lib/python3.8/dist-packages (from pytest>=3.6.0->mythril) (1.15.0)\n",
            "Requirement already satisfied: atomicwrites>=1.0 in /usr/local/lib/python3.8/dist-packages (from pytest>=3.6.0->mythril) (1.4.1)\n",
            "Requirement already satisfied: pluggy<0.8,>=0.5 in /usr/local/lib/python3.8/dist-packages (from pytest>=3.6.0->mythril) (0.7.1)\n",
            "Requirement already satisfied: setuptools in /usr/local/lib/python3.8/dist-packages (from pytest>=3.6.0->mythril) (57.4.0)\n",
            "Requirement already satisfied: more-itertools>=4.0.0 in /usr/local/lib/python3.8/dist-packages (from pytest>=3.6.0->mythril) (9.0.0)\n",
            "Requirement already satisfied: py>=1.5.0 in /usr/local/lib/python3.8/dist-packages (from pytest>=3.6.0->mythril) (1.11.0)\n",
            "Requirement already satisfied: cycler>=0.10 in /usr/local/lib/python3.8/dist-packages (from matplotlib->mythril) (0.11.0)\n",
            "Requirement already satisfied: python-dateutil>=2.1 in /usr/local/lib/python3.8/dist-packages (from matplotlib->mythril) (2.8.2)\n",
            "Requirement already satisfied: kiwisolver>=1.0.1 in /usr/local/lib/python3.8/dist-packages (from matplotlib->mythril) (1.4.4)\n",
            "Requirement already satisfied: numpy>=1.11 in /usr/local/lib/python3.8/dist-packages (from matplotlib->mythril) (1.21.6)\n",
            "Collecting dictionaries==0.0.2\n",
            "  Downloading dictionaries-0.0.2-py2.py3-none-any.whl (7.9 kB)\n",
            "Requirement already satisfied: urllib3<1.27,>=1.21.1 in /usr/local/lib/python3.8/dist-packages (from requests->mythril) (1.24.3)\n",
            "Requirement already satisfied: chardet<5,>=3.0.2 in /usr/local/lib/python3.8/dist-packages (from requests->mythril) (4.0.0)\n",
            "Requirement already satisfied: idna<3,>=2.5 in /usr/local/lib/python3.8/dist-packages (from requests->mythril) (2.10)\n",
            "Collecting pytest>=3.6.0\n",
            "  Downloading pytest-7.2.1-py3-none-any.whl (317 kB)\n",
            "\u001b[2K     \u001b[90m━━━━━━━━━━━━━━━━━━━━━━━━━━━━━━━━━━━━━━\u001b[0m \u001b[32m317.1/317.1 KB\u001b[0m \u001b[31m26.8 MB/s\u001b[0m eta \u001b[36m0:00:00\u001b[0m\n",
            "\u001b[?25hCollecting coverage[toml]>=5.2.1\n",
            "  Downloading coverage-7.1.0-cp38-cp38-manylinux_2_5_x86_64.manylinux1_x86_64.manylinux_2_17_x86_64.manylinux2014_x86_64.whl (227 kB)\n",
            "\u001b[2K     \u001b[90m━━━━━━━━━━━━━━━━━━━━━━━━━━━━━━━━━━━━━━\u001b[0m \u001b[32m227.8/227.8 KB\u001b[0m \u001b[31m22.2 MB/s\u001b[0m eta \u001b[36m0:00:00\u001b[0m\n",
            "\u001b[?25hCollecting pytest>=3.6.0\n",
            "  Downloading pytest-7.2.0-py3-none-any.whl (316 kB)\n",
            "\u001b[2K     \u001b[90m━━━━━━━━━━━━━━━━━━━━━━━━━━━━━━━━━━━━━━\u001b[0m \u001b[32m316.8/316.8 KB\u001b[0m \u001b[31m21.2 MB/s\u001b[0m eta \u001b[36m0:00:00\u001b[0m\n",
            "\u001b[?25h  Downloading pytest-7.1.3-py3-none-any.whl (298 kB)\n",
            "\u001b[2K     \u001b[90m━━━━━━━━━━━━━━━━━━━━━━━━━━━━━━━━━━━━━━\u001b[0m \u001b[32m298.2/298.2 KB\u001b[0m \u001b[31m23.7 MB/s\u001b[0m eta \u001b[36m0:00:00\u001b[0m\n",
            "\u001b[?25hRequirement already satisfied: tomli>=1.0.0 in /usr/local/lib/python3.8/dist-packages (from pytest>=3.6.0->mythril) (2.0.1)\n",
            "  Downloading pytest-7.1.2-py3-none-any.whl (297 kB)\n",
            "\u001b[2K     \u001b[90m━━━━━━━━━━━━━━━━━━━━━━━━━━━━━━━━━━━━━━\u001b[0m \u001b[32m297.0/297.0 KB\u001b[0m \u001b[31m24.1 MB/s\u001b[0m eta \u001b[36m0:00:00\u001b[0m\n",
            "\u001b[?25h  Downloading pytest-7.1.1-py3-none-any.whl (297 kB)\n",
            "\u001b[2K     \u001b[90m━━━━━━━━━━━━━━━━━━━━━━━━━━━━━━━━━━━━━━\u001b[0m \u001b[32m297.0/297.0 KB\u001b[0m \u001b[31m26.0 MB/s\u001b[0m eta \u001b[36m0:00:00\u001b[0m\n",
            "\u001b[?25h  Downloading pytest-7.1.0-py3-none-any.whl (297 kB)\n",
            "\u001b[2K     \u001b[90m━━━━━━━━━━━━━━━━━━━━━━━━━━━━━━━━━━━━━━\u001b[0m \u001b[32m297.0/297.0 KB\u001b[0m \u001b[31m27.5 MB/s\u001b[0m eta \u001b[36m0:00:00\u001b[0m\n",
            "\u001b[?25h  Downloading pytest-7.0.1-py3-none-any.whl (296 kB)\n",
            "\u001b[2K     \u001b[90m━━━━━━━━━━━━━━━━━━━━━━━━━━━━━━━━━━━━━━\u001b[0m \u001b[32m297.0/297.0 KB\u001b[0m \u001b[31m27.9 MB/s\u001b[0m eta \u001b[36m0:00:00\u001b[0m\n",
            "\u001b[?25h  Downloading pytest-7.0.0-py3-none-any.whl (296 kB)\n",
            "\u001b[2K     \u001b[90m━━━━━━━━━━━━━━━━━━━━━━━━━━━━━━━━━━━━━━\u001b[0m \u001b[32m296.5/296.5 KB\u001b[0m \u001b[31m29.4 MB/s\u001b[0m eta \u001b[36m0:00:00\u001b[0m\n",
            "\u001b[?25h  Downloading pytest-6.2.5-py3-none-any.whl (280 kB)\n",
            "\u001b[2K     \u001b[90m━━━━━━━━━━━━━━━━━━━━━━━━━━━━━━━━━━━━━━\u001b[0m \u001b[32m280.7/280.7 KB\u001b[0m \u001b[31m27.7 MB/s\u001b[0m eta \u001b[36m0:00:00\u001b[0m\n",
            "\u001b[?25h  Downloading pytest-6.2.4-py3-none-any.whl (280 kB)\n",
            "\u001b[2K     \u001b[90m━━━━━━━━━━━━━━━━━━━━━━━━━━━━━━━━━━━━━━\u001b[0m \u001b[32m280.6/280.6 KB\u001b[0m \u001b[31m29.3 MB/s\u001b[0m eta \u001b[36m0:00:00\u001b[0m\n",
            "\u001b[?25h  Downloading pytest-6.2.3-py3-none-any.whl (280 kB)\n",
            "\u001b[2K     \u001b[90m━━━━━━━━━━━━━━━━━━━━━━━━━━━━━━━━━━━━━━\u001b[0m \u001b[32m280.5/280.5 KB\u001b[0m \u001b[31m23.8 MB/s\u001b[0m eta \u001b[36m0:00:00\u001b[0m\n",
            "\u001b[?25h  Downloading pytest-6.2.2-py3-none-any.whl (280 kB)\n",
            "\u001b[2K     \u001b[90m━━━━━━━━━━━━━━━━━━━━━━━━━━━━━━━━━━━━━━\u001b[0m \u001b[32m280.1/280.1 KB\u001b[0m \u001b[31m26.6 MB/s\u001b[0m eta \u001b[36m0:00:00\u001b[0m\n",
            "\u001b[?25h  Downloading pytest-6.2.1-py3-none-any.whl (279 kB)\n",
            "\u001b[2K     \u001b[90m━━━━━━━━━━━━━━━━━━━━━━━━━━━━━━━━━━━━━━\u001b[0m \u001b[32m279.9/279.9 KB\u001b[0m \u001b[31m24.9 MB/s\u001b[0m eta \u001b[36m0:00:00\u001b[0m\n",
            "\u001b[?25h  Downloading pytest-6.2.0-py3-none-any.whl (279 kB)\n",
            "\u001b[2K     \u001b[90m━━━━━━━━━━━━━━━━━━━━━━━━━━━━━━━━━━━━━━\u001b[0m \u001b[32m279.6/279.6 KB\u001b[0m \u001b[31m27.2 MB/s\u001b[0m eta \u001b[36m0:00:00\u001b[0m\n",
            "\u001b[?25h  Downloading pytest-6.1.2-py3-none-any.whl (272 kB)\n",
            "\u001b[2K     \u001b[90m━━━━━━━━━━━━━━━━━━━━━━━━━━━━━━━━━━━━━━\u001b[0m \u001b[32m272.4/272.4 KB\u001b[0m \u001b[31m26.8 MB/s\u001b[0m eta \u001b[36m0:00:00\u001b[0m\n",
            "\u001b[?25h  Downloading pytest-6.1.1-py3-none-any.whl (272 kB)\n",
            "\u001b[2K     \u001b[90m━━━━━━━━━━━━━━━━━━━━━━━━━━━━━━━━━━━━━━\u001b[0m \u001b[32m272.2/272.2 KB\u001b[0m \u001b[31m23.1 MB/s\u001b[0m eta \u001b[36m0:00:00\u001b[0m\n",
            "\u001b[?25h  Downloading pytest-6.1.0-py3-none-any.whl (272 kB)\n",
            "\u001b[2K     \u001b[90m━━━━━━━━━━━━━━━━━━━━━━━━━━━━━━━━━━━━━━\u001b[0m \u001b[32m272.3/272.3 KB\u001b[0m \u001b[31m26.0 MB/s\u001b[0m eta \u001b[36m0:00:00\u001b[0m\n",
            "\u001b[?25h  Downloading pytest-6.0.2-py3-none-any.whl (270 kB)\n",
            "\u001b[2K     \u001b[90m━━━━━━━━━━━━━━━━━━━━━━━━━━━━━━━━━━━━━━\u001b[0m \u001b[32m270.8/270.8 KB\u001b[0m \u001b[31m24.9 MB/s\u001b[0m eta \u001b[36m0:00:00\u001b[0m\n",
            "\u001b[?25h  Downloading pytest-6.0.1-py3-none-any.whl (270 kB)\n",
            "\u001b[2K     \u001b[90m━━━━━━━━━━━━━━━━━━━━━━━━━━━━━━━━━━━━━━\u001b[0m \u001b[32m270.6/270.6 KB\u001b[0m \u001b[31m25.1 MB/s\u001b[0m eta \u001b[36m0:00:00\u001b[0m\n",
            "\u001b[?25h  Downloading pytest-6.0.0-py3-none-any.whl (270 kB)\n",
            "\u001b[2K     \u001b[90m━━━━━━━━━━━━━━━━━━━━━━━━━━━━━━━━━━━━━━\u001b[0m \u001b[32m270.6/270.6 KB\u001b[0m \u001b[31m25.6 MB/s\u001b[0m eta \u001b[36m0:00:00\u001b[0m\n",
            "\u001b[?25h  Downloading pytest-5.4.3-py3-none-any.whl (248 kB)\n",
            "\u001b[2K     \u001b[90m━━━━━━━━━━━━━━━━━━━━━━━━━━━━━━━━━━━━━━\u001b[0m \u001b[32m248.1/248.1 KB\u001b[0m \u001b[31m24.6 MB/s\u001b[0m eta \u001b[36m0:00:00\u001b[0m\n",
            "\u001b[?25h  Downloading pytest-5.4.2-py3-none-any.whl (247 kB)\n",
            "\u001b[2K     \u001b[90m━━━━━━━━━━━━━━━━━━━━━━━━━━━━━━━━━━━━━━\u001b[0m \u001b[32m247.4/247.4 KB\u001b[0m \u001b[31m23.6 MB/s\u001b[0m eta \u001b[36m0:00:00\u001b[0m\n",
            "\u001b[?25h  Downloading pytest-5.4.1-py3-none-any.whl (246 kB)\n",
            "\u001b[2K     \u001b[90m━━━━━━━━━━━━━━━━━━━━━━━━━━━━━━━━━━━━━━\u001b[0m \u001b[32m246.7/246.7 KB\u001b[0m \u001b[31m23.8 MB/s\u001b[0m eta \u001b[36m0:00:00\u001b[0m\n",
            "\u001b[?25h  Downloading pytest-5.4.0-py3-none-any.whl (247 kB)\n",
            "\u001b[2K     \u001b[90m━━━━━━━━━━━━━━━━━━━━━━━━━━━━━━━━━━━━━━\u001b[0m \u001b[32m247.0/247.0 KB\u001b[0m \u001b[31m20.6 MB/s\u001b[0m eta \u001b[36m0:00:00\u001b[0m\n",
            "\u001b[?25h  Downloading pytest-5.3.5-py3-none-any.whl (235 kB)\n",
            "\u001b[2K     \u001b[90m━━━━━━━━━━━━━━━━━━━━━━━━━━━━━━━━━━━━━━\u001b[0m \u001b[32m235.2/235.2 KB\u001b[0m \u001b[31m22.8 MB/s\u001b[0m eta \u001b[36m0:00:00\u001b[0m\n",
            "\u001b[?25h  Downloading pytest-5.3.4-py3-none-any.whl (235 kB)\n",
            "\u001b[2K     \u001b[90m━━━━━━━━━━━━━━━━━━━━━━━━━━━━━━━━━━━━━━\u001b[0m \u001b[32m235.3/235.3 KB\u001b[0m \u001b[31m21.6 MB/s\u001b[0m eta \u001b[36m0:00:00\u001b[0m\n",
            "\u001b[?25h  Downloading pytest-5.3.3-py3-none-any.whl (235 kB)\n",
            "\u001b[2K     \u001b[90m━━━━━━━━━━━━━━━━━━━━━━━━━━━━━━━━━━━━━━\u001b[0m \u001b[32m235.5/235.5 KB\u001b[0m \u001b[31m22.8 MB/s\u001b[0m eta \u001b[36m0:00:00\u001b[0m\n",
            "\u001b[?25h  Downloading pytest-5.3.2-py3-none-any.whl (234 kB)\n",
            "\u001b[2K     \u001b[90m━━━━━━━━━━━━━━━━━━━━━━━━━━━━━━━━━━━━━━\u001b[0m \u001b[32m234.5/234.5 KB\u001b[0m \u001b[31m20.3 MB/s\u001b[0m eta \u001b[36m0:00:00\u001b[0m\n",
            "\u001b[?25h  Downloading pytest-5.3.1-py3-none-any.whl (233 kB)\n",
            "\u001b[2K     \u001b[90m━━━━━━━━━━━━━━━━━━━━━━━━━━━━━━━━━━━━━━\u001b[0m \u001b[32m233.9/233.9 KB\u001b[0m \u001b[31m21.2 MB/s\u001b[0m eta \u001b[36m0:00:00\u001b[0m\n",
            "\u001b[?25h  Downloading pytest-5.3.0-py3-none-any.whl (233 kB)\n",
            "\u001b[2K     \u001b[90m━━━━━━━━━━━━━━━━━━━━━━━━━━━━━━━━━━━━━━\u001b[0m \u001b[32m233.7/233.7 KB\u001b[0m \u001b[31m21.0 MB/s\u001b[0m eta \u001b[36m0:00:00\u001b[0m\n",
            "\u001b[?25h  Downloading pytest-5.2.4-py3-none-any.whl (227 kB)\n",
            "\u001b[2K     \u001b[90m━━━━━━━━━━━━━━━━━━━━━━━━━━━━━━━━━━━━━━\u001b[0m \u001b[32m227.4/227.4 KB\u001b[0m \u001b[31m20.2 MB/s\u001b[0m eta \u001b[36m0:00:00\u001b[0m\n",
            "\u001b[?25h  Downloading pytest-5.2.3-py3-none-any.whl (227 kB)\n",
            "\u001b[2K     \u001b[90m━━━━━━━━━━━━━━━━━━━━━━━━━━━━━━━━━━━━━━\u001b[0m \u001b[32m227.4/227.4 KB\u001b[0m \u001b[31m19.1 MB/s\u001b[0m eta \u001b[36m0:00:00\u001b[0m\n",
            "\u001b[?25h  Downloading pytest-5.2.2-py3-none-any.whl (227 kB)\n",
            "\u001b[2K     \u001b[90m━━━━━━━━━━━━━━━━━━━━━━━━━━━━━━━━━━━━━━\u001b[0m \u001b[32m227.3/227.3 KB\u001b[0m \u001b[31m20.9 MB/s\u001b[0m eta \u001b[36m0:00:00\u001b[0m\n",
            "\u001b[?25h  Downloading pytest-5.2.1-py3-none-any.whl (226 kB)\n",
            "\u001b[2K     \u001b[90m━━━━━━━━━━━━━━━━━━━━━━━━━━━━━━━━━━━━━━\u001b[0m \u001b[32m226.8/226.8 KB\u001b[0m \u001b[31m21.6 MB/s\u001b[0m eta \u001b[36m0:00:00\u001b[0m\n",
            "\u001b[?25h  Downloading pytest-5.2.0-py3-none-any.whl (226 kB)\n",
            "\u001b[2K     \u001b[90m━━━━━━━━━━━━━━━━━━━━━━━━━━━━━━━━━━━━━━\u001b[0m \u001b[32m226.7/226.7 KB\u001b[0m \u001b[31m23.7 MB/s\u001b[0m eta \u001b[36m0:00:00\u001b[0m\n",
            "\u001b[?25h  Downloading pytest-5.1.3-py3-none-any.whl (224 kB)\n",
            "\u001b[2K     \u001b[90m━━━━━━━━━━━━━━━━━━━━━━━━━━━━━━━━━━━━━━\u001b[0m \u001b[32m224.1/224.1 KB\u001b[0m \u001b[31m16.4 MB/s\u001b[0m eta \u001b[36m0:00:00\u001b[0m\n",
            "\u001b[?25h  Downloading pytest-5.1.2-py3-none-any.whl (224 kB)\n",
            "\u001b[2K     \u001b[90m━━━━━━━━━━━━━━━━━━━━━━━━━━━━━━━━━━━━━━\u001b[0m \u001b[32m224.2/224.2 KB\u001b[0m \u001b[31m23.9 MB/s\u001b[0m eta \u001b[36m0:00:00\u001b[0m\n",
            "\u001b[?25h  Downloading pytest-5.1.1-py3-none-any.whl (223 kB)\n",
            "\u001b[2K     \u001b[90m━━━━━━━━━━━━━━━━━━━━━━━━━━━━━━━━━━━━━━\u001b[0m \u001b[32m223.6/223.6 KB\u001b[0m \u001b[31m22.6 MB/s\u001b[0m eta \u001b[36m0:00:00\u001b[0m\n",
            "\u001b[?25h  Downloading pytest-5.1.0-py3-none-any.whl (223 kB)\n",
            "\u001b[2K     \u001b[90m━━━━━━━━━━━━━━━━━━━━━━━━━━━━━━━━━━━━━━\u001b[0m \u001b[32m223.6/223.6 KB\u001b[0m \u001b[31m15.9 MB/s\u001b[0m eta \u001b[36m0:00:00\u001b[0m\n",
            "\u001b[?25h  Downloading pytest-5.0.1-py3-none-any.whl (221 kB)\n",
            "\u001b[2K     \u001b[90m━━━━━━━━━━━━━━━━━━━━━━━━━━━━━━━━━━━━━━\u001b[0m \u001b[32m221.8/221.8 KB\u001b[0m \u001b[31m21.9 MB/s\u001b[0m eta \u001b[36m0:00:00\u001b[0m\n",
            "\u001b[?25h  Downloading pytest-5.0.0-py3-none-any.whl (221 kB)\n",
            "\u001b[2K     \u001b[90m━━━━━━━━━━━━━━━━━━━━━━━━━━━━━━━━━━━━━━\u001b[0m \u001b[32m221.8/221.8 KB\u001b[0m \u001b[31m21.7 MB/s\u001b[0m eta \u001b[36m0:00:00\u001b[0m\n",
            "\u001b[?25h  Downloading pytest-4.6.11-py2.py3-none-any.whl (231 kB)\n",
            "\u001b[2K     \u001b[90m━━━━━━━━━━━━━━━━━━━━━━━━━━━━━━━━━━━━━━\u001b[0m \u001b[32m231.6/231.6 KB\u001b[0m \u001b[31m21.0 MB/s\u001b[0m eta \u001b[36m0:00:00\u001b[0m\n",
            "\u001b[?25hRequirement already satisfied: wcwidth in /usr/local/lib/python3.8/dist-packages (from pytest>=3.6.0->mythril) (0.2.6)\n",
            "  Downloading pytest-4.6.10-py2.py3-none-any.whl (231 kB)\n",
            "\u001b[2K     \u001b[90m━━━━━━━━━━━━━━━━━━━━━━━━━━━━━━━━━━━━━━\u001b[0m \u001b[32m231.6/231.6 KB\u001b[0m \u001b[31m22.9 MB/s\u001b[0m eta \u001b[36m0:00:00\u001b[0m\n",
            "\u001b[?25h  Downloading pytest-4.6.9-py2.py3-none-any.whl (231 kB)\n",
            "\u001b[2K     \u001b[90m━━━━━━━━━━━━━━━━━━━━━━━━━━━━━━━━━━━━━━\u001b[0m \u001b[32m231.1/231.1 KB\u001b[0m \u001b[31m22.1 MB/s\u001b[0m eta \u001b[36m0:00:00\u001b[0m\n",
            "\u001b[?25h  Downloading pytest-4.6.8-py2.py3-none-any.whl (230 kB)\n",
            "\u001b[2K     \u001b[90m━━━━━━━━━━━━━━━━━━━━━━━━━━━━━━━━━━━━━━\u001b[0m \u001b[32m230.5/230.5 KB\u001b[0m \u001b[31m22.0 MB/s\u001b[0m eta \u001b[36m0:00:00\u001b[0m\n",
            "\u001b[?25h  Downloading pytest-4.6.7-py2.py3-none-any.whl (230 kB)\n",
            "\u001b[2K     \u001b[90m━━━━━━━━━━━━━━━━━━━━━━━━━━━━━━━━━━━━━━\u001b[0m \u001b[32m230.4/230.4 KB\u001b[0m \u001b[31m22.7 MB/s\u001b[0m eta \u001b[36m0:00:00\u001b[0m\n",
            "\u001b[?25h  Downloading pytest-4.6.6-py2.py3-none-any.whl (230 kB)\n",
            "\u001b[2K     \u001b[90m━━━━━━━━━━━━━━━━━━━━━━━━━━━━━━━━━━━━━━\u001b[0m \u001b[32m230.2/230.2 KB\u001b[0m \u001b[31m20.7 MB/s\u001b[0m eta \u001b[36m0:00:00\u001b[0m\n",
            "\u001b[?25h  Downloading pytest-4.6.5-py2.py3-none-any.whl (230 kB)\n",
            "\u001b[2K     \u001b[90m━━━━━━━━━━━━━━━━━━━━━━━━━━━━━━━━━━━━━━\u001b[0m \u001b[32m230.1/230.1 KB\u001b[0m \u001b[31m20.6 MB/s\u001b[0m eta \u001b[36m0:00:00\u001b[0m\n",
            "\u001b[?25hRequirement already satisfied: importlib-metadata>=0.12 in /usr/local/lib/python3.8/dist-packages (from pytest>=3.6.0->mythril) (6.0.0)\n",
            "  Downloading pytest-4.6.4-py2.py3-none-any.whl (229 kB)\n",
            "\u001b[2K     \u001b[90m━━━━━━━━━━━━━━━━━━━━━━━━━━━━━━━━━━━━━━\u001b[0m \u001b[32m229.6/229.6 KB\u001b[0m \u001b[31m23.0 MB/s\u001b[0m eta \u001b[36m0:00:00\u001b[0m\n",
            "\u001b[?25h  Downloading pytest-4.6.3-py2.py3-none-any.whl (229 kB)\n",
            "\u001b[2K     \u001b[90m━━━━━━━━━━━━━━━━━━━━━━━━━━━━━━━━━━━━━━\u001b[0m \u001b[32m229.6/229.6 KB\u001b[0m \u001b[31m23.3 MB/s\u001b[0m eta \u001b[36m0:00:00\u001b[0m\n",
            "\u001b[?25h  Downloading pytest-4.6.2-py2.py3-none-any.whl (229 kB)\n",
            "\u001b[2K     \u001b[90m━━━━━━━━━━━━━━━━━━━━━━━━━━━━━━━━━━━━━━\u001b[0m \u001b[32m229.5/229.5 KB\u001b[0m \u001b[31m22.3 MB/s\u001b[0m eta \u001b[36m0:00:00\u001b[0m\n",
            "\u001b[?25h  Downloading pytest-4.6.1-py2.py3-none-any.whl (229 kB)\n",
            "\u001b[2K     \u001b[90m━━━━━━━━━━━━━━━━━━━━━━━━━━━━━━━━━━━━━━\u001b[0m \u001b[32m229.9/229.9 KB\u001b[0m \u001b[31m23.9 MB/s\u001b[0m eta \u001b[36m0:00:00\u001b[0m\n",
            "\u001b[?25h  Downloading pytest-4.6.0-py2.py3-none-any.whl (229 kB)\n",
            "\u001b[2K     \u001b[90m━━━━━━━━━━━━━━━━━━━━━━━━━━━━━━━━━━━━━━\u001b[0m \u001b[32m229.8/229.8 KB\u001b[0m \u001b[31m19.4 MB/s\u001b[0m eta \u001b[36m0:00:00\u001b[0m\n",
            "\u001b[?25hINFO: pip is looking at multiple versions of pytest-cov to determine which version is compatible with other requirements. This could take a while.\n",
            "Collecting pytest-cov\n",
            "  Downloading pytest_cov-3.0.0-py3-none-any.whl (20 kB)\n",
            "  Downloading pytest_cov-2.12.1-py2.py3-none-any.whl (20 kB)\n",
            "  Downloading pytest_cov-2.12.0-py2.py3-none-any.whl (20 kB)\n",
            "  Downloading pytest_cov-2.11.1-py2.py3-none-any.whl (20 kB)\n",
            "  Downloading pytest_cov-2.11.0-py2.py3-none-any.whl (20 kB)\n",
            "  Downloading pytest_cov-2.10.1-py2.py3-none-any.whl (19 kB)\n",
            "  Downloading pytest_cov-2.10.0-py2.py3-none-any.whl (19 kB)\n",
            "INFO: pip is looking at multiple versions of pytest-cov to determine which version is compatible with other requirements. This could take a while.\n",
            "  Downloading pytest_cov-2.9.0-py2.py3-none-any.whl (19 kB)\n",
            "INFO: pip is looking at multiple versions of pytest-mock to determine which version is compatible with other requirements. This could take a while.\n",
            "Collecting pytest_mock\n",
            "  Downloading pytest_mock-3.9.0-py3-none-any.whl (9.1 kB)\n",
            "  Downloading pytest_mock-3.8.2-py3-none-any.whl (9.1 kB)\n",
            "  Downloading pytest_mock-3.8.1-py3-none-any.whl (9.1 kB)\n",
            "  Downloading pytest_mock-3.8.0-py3-none-any.whl (9.1 kB)\n",
            "  Downloading pytest_mock-3.7.0-py3-none-any.whl (12 kB)\n",
            "  Downloading pytest_mock-3.6.1-py3-none-any.whl (12 kB)\n",
            "  Downloading pytest_mock-3.6.0-py3-none-any.whl (12 kB)\n",
            "INFO: pip is looking at multiple versions of pytest-mock to determine which version is compatible with other requirements. This could take a while.\n",
            "  Downloading pytest_mock-3.5.1-py3-none-any.whl (12 kB)\n",
            "  Downloading pytest_mock-3.5.0-py3-none-any.whl (12 kB)\n",
            "  Downloading pytest_mock-3.4.0-py3-none-any.whl (11 kB)\n",
            "  Downloading pytest_mock-3.3.1-py3-none-any.whl (11 kB)\n",
            "  Downloading pytest_mock-3.3.0-py3-none-any.whl (11 kB)\n",
            "INFO: This is taking longer than usual. You might need to provide the dependency resolver with stricter constraints to reduce runtime. See https://pip.pypa.io/warnings/backtracking for guidance. If you want to abort this run, press Ctrl + C.\n",
            "  Downloading pytest_mock-3.2.0-py3-none-any.whl (10 kB)\n",
            "Requirement already satisfied: pycparser in /usr/local/lib/python3.8/dist-packages (from cffi>=1.3.0->coincurve>=13.0.0->mythril) (2.21)\n",
            "Collecting distlib<1,>=0.3.6\n",
            "  Downloading distlib-0.3.6-py2.py3-none-any.whl (468 kB)\n",
            "\u001b[2K     \u001b[90m━━━━━━━━━━━━━━━━━━━━━━━━━━━━━━━━━━━━━━\u001b[0m \u001b[32m468.5/468.5 KB\u001b[0m \u001b[31m32.3 MB/s\u001b[0m eta \u001b[36m0:00:00\u001b[0m\n",
            "\u001b[?25hRequirement already satisfied: filelock<4,>=3.4.1 in /usr/local/lib/python3.8/dist-packages (from virtualenv>=20.0.8->pre-commit<2.21.0->mythril) (3.9.0)\n",
            "Requirement already satisfied: platformdirs<4,>=2.4 in /usr/local/lib/python3.8/dist-packages (from virtualenv>=20.0.8->pre-commit<2.21.0->mythril) (3.0.0)\n",
            "Building wheels for collected packages: mythril, cytoolz, ethereum-input-decoder, mypy-extensions, parsimonious, pyethash\n",
            "  Building wheel for mythril (setup.py) ... \u001b[?25l\u001b[?25hdone\n",
            "  Created wheel for mythril: filename=mythril-0.23.16-py3-none-any.whl size=4596319 sha256=4e68117cdc1f6963895d931031e7f0440d7f47eb56364c155497b1a91d658f77\n",
            "  Stored in directory: /root/.cache/pip/wheels/a2/ca/44/05e9eb94df1f86630d25ca40842807939b00f0b15adca8dc27\n",
            "  Building wheel for cytoolz (setup.py) ... \u001b[?25l\u001b[?25hdone\n",
            "  Created wheel for cytoolz: filename=cytoolz-0.11.2-cp38-cp38-linux_x86_64.whl size=1937136 sha256=4fc00514e33d16aafe33921f71b9a9c0c9aeff8ec7724fe940b9abe4ec926de0\n",
            "  Stored in directory: /root/.cache/pip/wheels/51/64/37/527da1f62030b9c9f746d907edfa6b3f06324ea42197262ef2\n",
            "  Building wheel for ethereum-input-decoder (setup.py) ... \u001b[?25l\u001b[?25hdone\n",
            "  Created wheel for ethereum-input-decoder: filename=ethereum_input_decoder-0.2.2-py3-none-any.whl size=6374 sha256=28c11e7af8069cbf6f19892b24b55cb623c595dfb0dab54d8fbd2fb2b46410a3\n",
            "  Stored in directory: /root/.cache/pip/wheels/0c/63/d6/485376f95b5648e77d774b6fdaf89f8f5a18e11d06804501c0\n",
            "  Building wheel for mypy-extensions (setup.py) ... \u001b[?25l\u001b[?25hdone\n",
            "  Created wheel for mypy-extensions: filename=mypy_extensions-0.4.4-py2.py3-none-any.whl size=4494 sha256=a18a09ce5faa59ad49fbe09e5737e1eac48428e99c241ef40860eac59aec82e0\n",
            "  Stored in directory: /root/.cache/pip/wheels/c3/6b/25/cfccb9c2bf5860655ccedc1be849f6ed2f01ef58ba3d90085e\n",
            "  Building wheel for parsimonious (setup.py) ... \u001b[?25l\u001b[?25hdone\n",
            "  Created wheel for parsimonious: filename=parsimonious-0.8.1-py3-none-any.whl size=42725 sha256=9cdbf23ba46e800b5b9870dfba0b1bb0df3ccde67dac903cda50bbc8abf13a3b\n",
            "  Stored in directory: /root/.cache/pip/wheels/d8/af/19/fb896f509a437aca2dcf62583e84d7fb2cd5b628c1564a609c\n",
            "  Building wheel for pyethash (setup.py) ... \u001b[?25l\u001b[?25hdone\n",
            "  Created wheel for pyethash: filename=pyethash-0.1.27-cp38-cp38-linux_x86_64.whl size=56809 sha256=266d17700e4948d3f984d0682b03046c7206f7f2fea7ecbd5e989d268d59b668\n",
            "  Stored in directory: /root/.cache/pip/wheels/5b/31/89/0b592e364dd6f1d8764e15e2cfb046320cae7f387200a00bc6\n",
            "Successfully built mythril cytoolz ethereum-input-decoder mypy-extensions parsimonious pyethash\n",
            "Installing collected packages: z3-solver, typing-extensions, pyethash, lru-dict, distlib, dictionaries, cached-property, blake2b-py, bitarray, asn1crypto, zope.interface, virtualenv, semantic_version, pyparsing, pycryptodome, py-flags, parsimonious, nodeenv, mypy-extensions, mock, identify, humanfriendly, hexbytes, eth-typing, eth-hash, cytoolz, coverage, configparser, cfgv, transaction, pytest_mock, pytest-cov, py-solc-x, py-solc, pre-commit, persistent, eth-utils, coloredlogs, coincurve, rlp, py_ecc, eth-keys, eth-bloom, eth_abi, trie, ethereum-input-decoder, eth-rlp, eth-keyfile, py-evm, eth-account, mythril\n",
            "  Attempting uninstall: typing-extensions\n",
            "    Found existing installation: typing_extensions 4.4.0\n",
            "    Uninstalling typing_extensions-4.4.0:\n",
            "      Successfully uninstalled typing_extensions-4.4.0\n",
            "  Attempting uninstall: pyparsing\n",
            "    Found existing installation: pyparsing 3.0.9\n",
            "    Uninstalling pyparsing-3.0.9:\n",
            "      Successfully uninstalled pyparsing-3.0.9\n",
            "\u001b[31mERROR: pip's dependency resolver does not currently take into account all the packages that are installed. This behaviour is the source of the following dependency conflicts.\n",
            "pydantic 1.10.4 requires typing-extensions>=4.2.0, but you have typing-extensions 3.10.0.2 which is incompatible.\u001b[0m\u001b[31m\n",
            "\u001b[0mSuccessfully installed asn1crypto-1.5.1 bitarray-2.7.2 blake2b-py-0.1.4 cached-property-1.5.2 cfgv-3.3.1 coincurve-18.0.0 coloredlogs-15.0.1 configparser-5.3.0 coverage-6.5.0 cytoolz-0.11.2 dictionaries-0.0.2 distlib-0.3.6 eth-account-0.5.9 eth-bloom-1.0.4 eth-hash-0.3.3 eth-keyfile-0.5.1 eth-keys-0.3.4 eth-rlp-0.2.1 eth-typing-2.3.0 eth-utils-1.10.0 eth_abi-2.2.0 ethereum-input-decoder-0.2.2 hexbytes-0.2.3 humanfriendly-10.0 identify-2.5.18 lru-dict-1.1.8 mock-5.0.1 mypy-extensions-0.4.4 mythril-0.23.16 nodeenv-1.7.0 parsimonious-0.8.1 persistent-5.0 pre-commit-2.20.0 py-evm-0.5.0a1 py-flags-1.1.4 py-solc-3.2.0 py-solc-x-1.1.1 py_ecc-4.1.0 pycryptodome-3.17 pyethash-0.1.27 pyparsing-2.4.7 pytest-cov-2.9.0 pytest_mock-3.2.0 rlp-2.0.1 semantic_version-2.10.0 transaction-3.0.1 trie-2.0.0a5 typing-extensions-3.10.0.2 virtualenv-20.19.0 z3-solver-4.12.1.0 zope.interface-5.5.2\n"
          ]
        }
      ]
    },
    {
      "cell_type": "code",
      "source": [
        "for filename in glob(os.path.join('/content/drive/MyDrive/Research/Smart Contract','bytecode/*')):\n",
        "  print(filename)\n"
      ],
      "metadata": {
        "id": "vdqZl3yK6zk6",
        "colab": {
          "base_uri": "https://localhost:8080/"
        },
        "outputId": "b456e856-bd5f-4677-aabc-c9b13d4fde82"
      },
      "execution_count": null,
      "outputs": [
        {
          "output_type": "stream",
          "name": "stdout",
          "text": [
            "/content/drive/MyDrive/Research/Smart Contract/bytecode/newSmartContractCFG2.zip\n",
            "/content/drive/MyDrive/Research/Smart Contract/bytecode/newSmartContractCFG3.zip\n",
            "/content/drive/MyDrive/Research/Smart Contract/bytecode/newSmartContractCFG1.zip\n",
            "/content/drive/MyDrive/Research/Smart Contract/bytecode/newSmartContractCFG6.zip\n",
            "/content/drive/MyDrive/Research/Smart Contract/bytecode/newSmartContractCFG9.zip\n",
            "/content/drive/MyDrive/Research/Smart Contract/bytecode/newSmartContractCFG4.zip\n",
            "/content/drive/MyDrive/Research/Smart Contract/bytecode/newSmartContractCFG0.zip\n",
            "/content/drive/MyDrive/Research/Smart Contract/bytecode/newSmartContractCFG5.zip\n",
            "/content/drive/MyDrive/Research/Smart Contract/bytecode/newSmartContractCFG7.zip\n",
            "/content/drive/MyDrive/Research/Smart Contract/bytecode/newSmartContractCFG8.zip\n"
          ]
        }
      ]
    },
    {
      "cell_type": "code",
      "source": [
        "!unzip '/content/drive/MyDrive/Research/Smart Contract/bytecode/newSmartContractCFG0.zip' -d \"/content/drive/MyDrive/Research/Smart Contract/dataset/\""
      ],
      "metadata": {
        "id": "SZKPkmBy890M"
      },
      "execution_count": null,
      "outputs": []
    },
    {
      "cell_type": "code",
      "source": [
        "data= open('/content/drive/MyDrive/Research/Smart Contract/datasetbyte/newSmartContractCFG0/0x982/op.facts',mode='r')"
      ],
      "metadata": {
        "id": "80w4ZlLgWuN3",
        "colab": {
          "base_uri": "https://localhost:8080/",
          "height": 288
        },
        "outputId": "b12149f4-816a-408f-a7dc-0f1cad75ebc4"
      },
      "execution_count": null,
      "outputs": [
        {
          "output_type": "error",
          "ename": "KeyboardInterrupt",
          "evalue": "ignored",
          "traceback": [
            "\u001b[0;31m---------------------------------------------------------------------------\u001b[0m",
            "\u001b[0;31mKeyboardInterrupt\u001b[0m                         Traceback (most recent call last)",
            "\u001b[0;32m<ipython-input-5-1a6d3d7200bf>\u001b[0m in \u001b[0;36m<module>\u001b[0;34m\u001b[0m\n\u001b[0;32m----> 1\u001b[0;31m \u001b[0mdata\u001b[0m\u001b[0;34m=\u001b[0m \u001b[0mopen\u001b[0m\u001b[0;34m(\u001b[0m\u001b[0;34m'/content/drive/MyDrive/Research/Smart Contract/datasetbyte/newSmartContractCFG0/0x982/op.facts'\u001b[0m\u001b[0;34m,\u001b[0m\u001b[0mmode\u001b[0m\u001b[0;34m=\u001b[0m\u001b[0;34m'r'\u001b[0m\u001b[0;34m)\u001b[0m\u001b[0;34m\u001b[0m\u001b[0;34m\u001b[0m\u001b[0m\n\u001b[0m",
            "\u001b[0;32m/usr/lib/python3.8/_bootlocale.py\u001b[0m in \u001b[0;36mgetpreferredencoding\u001b[0;34m(do_setlocale)\u001b[0m\n\u001b[1;32m     31\u001b[0m                 \u001b[0;32mreturn\u001b[0m \u001b[0mlocale\u001b[0m\u001b[0;34m.\u001b[0m\u001b[0mgetpreferredencoding\u001b[0m\u001b[0;34m(\u001b[0m\u001b[0mdo_setlocale\u001b[0m\u001b[0;34m)\u001b[0m\u001b[0;34m\u001b[0m\u001b[0;34m\u001b[0m\u001b[0m\n\u001b[1;32m     32\u001b[0m     \u001b[0;32melse\u001b[0m\u001b[0;34m:\u001b[0m\u001b[0;34m\u001b[0m\u001b[0;34m\u001b[0m\u001b[0m\n\u001b[0;32m---> 33\u001b[0;31m         \u001b[0;32mdef\u001b[0m \u001b[0mgetpreferredencoding\u001b[0m\u001b[0;34m(\u001b[0m\u001b[0mdo_setlocale\u001b[0m\u001b[0;34m=\u001b[0m\u001b[0;32mTrue\u001b[0m\u001b[0;34m)\u001b[0m\u001b[0;34m:\u001b[0m\u001b[0;34m\u001b[0m\u001b[0;34m\u001b[0m\u001b[0m\n\u001b[0m\u001b[1;32m     34\u001b[0m             \u001b[0;32massert\u001b[0m \u001b[0;32mnot\u001b[0m \u001b[0mdo_setlocale\u001b[0m\u001b[0;34m\u001b[0m\u001b[0;34m\u001b[0m\u001b[0m\n\u001b[1;32m     35\u001b[0m             \u001b[0;32mif\u001b[0m \u001b[0msys\u001b[0m\u001b[0;34m.\u001b[0m\u001b[0mflags\u001b[0m\u001b[0;34m.\u001b[0m\u001b[0mutf8_mode\u001b[0m\u001b[0;34m:\u001b[0m\u001b[0;34m\u001b[0m\u001b[0;34m\u001b[0m\u001b[0m\n",
            "\u001b[0;31mKeyboardInterrupt\u001b[0m: "
          ]
        }
      ]
    },
    {
      "cell_type": "code",
      "source": [
        "data= open('/content/drive/MyDrive/Smart Contract/datasetbyte/newSmartContractCFG0/0x982/op.facts',mode='r')"
      ],
      "metadata": {
        "id": "E_Jz-SPs6FOT"
      },
      "execution_count": null,
      "outputs": []
    },
    {
      "cell_type": "code",
      "source": [
        "!pip install datasets"
      ],
      "metadata": {
        "id": "d8HJfMhyC8Ut"
      },
      "execution_count": null,
      "outputs": []
    },
    {
      "cell_type": "code",
      "source": [
        "import json\n",
        "\n",
        "import datasets\n",
        "import pandas as pd\n",
        "\n",
        "_LABELS = {\n",
        "    'all': [\n",
        "        'uninitialized-state','constant-function-asm', 'locked-ether',\n",
        "        'incorrect-shift', 'divide-before-multiply', 'unused-return',\n",
        "        'write-after-write', 'reentrancy-no-eth', 'unchecked-lowlevel',\n",
        "        'incorrect-equality', 'weak-prng', 'arbitrary-send',\n",
        "        'uninitialized-local', 'reentrancy-eth', 'shadowing-abstract',\n",
        "        'controlled-delegatecall', 'unchecked-transfer', 'erc20-interface',\n",
        "        'controlled-array-length', 'tautology', 'shadowing-state',\n",
        "        'tx-origin', 'unprotected-upgrade', 'suicidal',\n",
        "        'boolean-cst', 'unchecked-send', 'msg-value-loop',\n",
        "        'erc721-interface', 'constant-function-state', 'delegatecall-loop',\n",
        "        'mapping-deletion', 'reused-constructor', 'uninitialized-storage',\n",
        "        'public-mappings-nested', 'array-by-reference','backdoor',\n",
        "        'rtlo', 'name-reused','safe'],\n",
        "    'big': ['access-control', 'arithmetic', 'other', 'reentrancy', 'safe', 'unchecked-calls'],\n",
        "    'small': ['access-control', 'arithmetic', 'other', 'reentrancy', 'safe', 'unchecked-calls', 'locked-ether', 'bad-randomness', 'double-spending']\n",
        "}\n",
        "\n",
        "\n",
        "\n",
        "_DESCRIPTION = \"\"\"\\\n",
        "This dataset contains source code and deployed bytecode for Solidity Smart Contracts \\\n",
        "that have been verified on Etherscan.io, along with a classification of their vulnerabilities \\\n",
        "according to the Slither static analysis framework.\n",
        "\"\"\"\n",
        "\n",
        "_HOMEPAGE = \"https://github.com/mwritescode/slither-audited-smart-contracts\"\n",
        "\n",
        "_LICENSE = \"MIT\"\n",
        "\n",
        "\n",
        "_URLS = {\n",
        "    \"raw\": [f\"data/raw/contracts{i}.parquet\" for i in range(9)],\n",
        "    \"label_mappings\": \"data/label_mappings.json\",\n",
        "    \"big-splits\": \"data/big-splits.csv\",\n",
        "    \"small-splits\": \"data/small-splits.csv\"\n",
        "}\n",
        "\n",
        "\n",
        "class SlitherAuditedSmartContracts(datasets.GeneratorBasedBuilder):\n",
        "    \"\"\"Slither Audited Smart Contracts dataset, including source code and deployed bytecode\"\"\"\n",
        "\n",
        "    VERSION = datasets.Version(\"1.1.0\")\n",
        "\n",
        "    # You will be able to load one or the other configurations in the following list with\n",
        "    # data = datasets.load_dataset('slither-audited-smart-contracts', 'all-plain-text')\n",
        "    BUILDER_CONFIGS = [\n",
        "        datasets.BuilderConfig(name=\"all-plain-text\", version=VERSION, description=\"Complete dataset with plain-text slither results\"),\n",
        "        datasets.BuilderConfig(name=\"all-multilabel\", version=VERSION, description=\"Complete dataset with slither results as sequence of labels\"),\n",
        "        datasets.BuilderConfig(name=\"big-plain-text\", version=VERSION, description=\"Dataset containing only labels having numerous examples with plain-text slither results\"),\n",
        "        datasets.BuilderConfig(name=\"big-multilabel\", version=VERSION, description=\"Dataset containing only labels having numerous examples with slither results as a sequence of labels\"),\n",
        "        datasets.BuilderConfig(name=\"small-plain-text\", version=VERSION, description=\"Dataset containing only labels having few examples with plain-text slither results\"),\n",
        "        datasets.BuilderConfig(name=\"small-multilabel\", version=VERSION, description=\"Dataset containing only labels having few examples with slither results as a sequence of labels\")\n",
        "    ]\n",
        "\n",
        "    def _info(self):\n",
        "        if \"plain-text\" in self.config.name:\n",
        "            features = datasets.Features(\n",
        "                {\n",
        "                    \"address\": datasets.Value(\"string\"),\n",
        "                    \"source_code\": datasets.Value(\"string\"),\n",
        "                    \"bytecode\": datasets.Value(\"string\"),\n",
        "                    \"slither\": datasets.Value(\"string\"),\n",
        "                }\n",
        "            )\n",
        "        else:\n",
        "            features = datasets.Features(\n",
        "                {\n",
        "                    \"address\": datasets.Value(\"string\"),\n",
        "                    \"source_code\": datasets.Value(\"string\"),\n",
        "                    \"bytecode\": datasets.Value(\"string\"),\n",
        "                    \"slither\": datasets.Sequence(\n",
        "                        datasets.features.ClassLabel(\n",
        "                            names=_LABELS[self.config.name.split('-')[0]]\n",
        "                        )\n",
        "                    )\n",
        "\n",
        "                }\n",
        "            )\n",
        "        return datasets.DatasetInfo(\n",
        "            description=_DESCRIPTION,\n",
        "            features=features,\n",
        "            homepage=_HOMEPAGE,\n",
        "            license=_LICENSE,\n",
        "        )\n",
        "\n",
        "    def _split_generators(self, dl_manager):\n",
        "        data_dir = dl_manager.download_and_extract(_URLS)\n",
        "\n",
        "        generators = [\n",
        "            datasets.SplitGenerator(\n",
        "                name=datasets.Split.TRAIN,\n",
        "                gen_kwargs={\n",
        "                    \"filepath\": data_dir,\n",
        "                    \"split\": \"train\"\n",
        "                },\n",
        "            )]\n",
        "        if self.config.name.split('-')[0] != 'all':\n",
        "            generators += [\n",
        "                datasets.SplitGenerator(\n",
        "                name=datasets.Split.TEST,\n",
        "                gen_kwargs={\n",
        "                    \"filepath\": data_dir,\n",
        "                    \"split\": \"test\"\n",
        "                },\n",
        "            ),\n",
        "            datasets.SplitGenerator(\n",
        "                name=datasets.Split.VALIDATION,\n",
        "                gen_kwargs={\n",
        "                    \"filepath\": data_dir,\n",
        "                    \"split\": \"val\"\n",
        "                },\n",
        "            )]\n",
        "        return generators\n",
        "\n",
        "    def __elaborate_results(self, slither_res, mappings):\n",
        "        if not slither_res[\"results\"]:\n",
        "            contract_class = [\"safe\"]\n",
        "        else:\n",
        "            contract_class = [elem[\"check\"] for elem in slither_res[\"results\"][\"detectors\"]]\n",
        "            if self.config.name.split('-')[0] != 'all':\n",
        "                with open(mappings, 'r') as mappings_file:\n",
        "                    class_mappings = json.load(mappings_file)\n",
        "                contract_class = list(set([class_mappings[cls] for cls in contract_class]) - {'ignore'})\n",
        "                if len(contract_class) == 0:\n",
        "                    contract_class = ['safe']\n",
        "        return contract_class\n",
        "\n",
        "\n",
        "    def _generate_examples(self, filepath, split):\n",
        "        prefix = self.config.name.split('-')[0]\n",
        "        split_file = filepath[f\"{prefix}-splits\"] if prefix != 'all' else None\n",
        "\n",
        "        for chunk in filepath['raw']:\n",
        "            data = pd.read_parquet(chunk)\n",
        "            if split_file:\n",
        "                split_addrs = pd.read_csv(split_file).query('split == @split')['contracts']\n",
        "                data = data[data['contracts'].isin(split_addrs)]\n",
        "\n",
        "            for idx, row in data.iterrows():\n",
        "                if 'plain-text' in self.config.name:\n",
        "                    yield idx, {\n",
        "                        \"address\": '0x' + row['contracts'],\n",
        "                        \"source_code\": row['source_code'],\n",
        "                        \"bytecode\": row['bytecode'],\n",
        "                        \"slither\": row['results'],\n",
        "                    }\n",
        "                else:\n",
        "                    slither = json.loads(row['results'])\n",
        "                    contract_classes = self.__elaborate_results(slither, filepath['label_mappings'])\n",
        "                    yield idx, {\n",
        "                        \"address\": '0x' + row['contracts'],\n",
        "                        \"source_code\": row['source_code'],\n",
        "                        \"bytecode\": row['bytecode'],\n",
        "                        \"slither\": contract_classes,\n",
        "                    }"
      ],
      "metadata": {
        "id": "xB-VSTQQ-B9K"
      },
      "execution_count": null,
      "outputs": []
    },
    {
      "cell_type": "code",
      "source": [
        "!unzip '/content/drive/MyDrive/Research/Smart Contract/Dataset.zip' -d \"/content/drive/MyDrive/Research/Smart Contract/Dataset2/\""
      ],
      "metadata": {
        "id": "mEudveA5DGd7"
      },
      "execution_count": null,
      "outputs": []
    },
    {
      "cell_type": "markdown",
      "source": [],
      "metadata": {
        "id": "VZ0Yp1gmHsU7"
      }
    },
    {
      "cell_type": "code",
      "source": [
        "x=data.read()"
      ],
      "metadata": {
        "id": "u1ZN8IorDHD8"
      },
      "execution_count": null,
      "outputs": []
    },
    {
      "cell_type": "code",
      "source": [
        "x"
      ],
      "metadata": {
        "id": "Ypo2fnhTFgpD"
      },
      "execution_count": null,
      "outputs": []
    },
    {
      "cell_type": "code",
      "source": [
        "!pip install vandal"
      ],
      "metadata": {
        "id": "icOxTxRJNTXe"
      },
      "execution_count": null,
      "outputs": []
    },
    {
      "cell_type": "code",
      "source": [
        "path = '/content/drive/MyDrive/Research/Smart Contract/Dataset 12K Eth 8 vol/block number dependency (BN)/0.sol'\n"
      ],
      "metadata": {
        "id": "aXqQhL4vN8eN"
      },
      "execution_count": null,
      "outputs": []
    },
    {
      "cell_type": "code",
      "source": [
        "path = '/content/drive/MyDrive/Smart Contract/Dataset 12K Eth 8 vol/block number dependency (BN)/0.sol'"
      ],
      "metadata": {
        "id": "XAOKZbvJ6nsz"
      },
      "execution_count": null,
      "outputs": []
    },
    {
      "cell_type": "code",
      "source": [
        "data = open(path,mode='r')\n",
        "data=data.read()"
      ],
      "metadata": {
        "id": "Iviv2If8u3kt"
      },
      "execution_count": null,
      "outputs": []
    },
    {
      "cell_type": "code",
      "source": [
        "print(data)"
      ],
      "metadata": {
        "colab": {
          "base_uri": "https://localhost:8080/"
        },
        "id": "LlyO8zmxOOod",
        "outputId": "7263f3ad-ce50-4941-e2a2-16bdd1a1950e"
      },
      "execution_count": null,
      "outputs": [
        {
          "output_type": "stream",
          "name": "stdout",
          "text": [
            "pragma solidity ^0.4.24;\n",
            "contract BREBuy {\n",
            "    \n",
            "    struct ContractParam {\n",
            "        uint32  totalSize ; \n",
            "        uint256 singlePrice;\n",
            "        uint8  pumpRate;\n",
            "        bool hasChange;\n",
            "    }\n",
            "    \n",
            "    address owner = 0x0;\n",
            "    uint32  gameIndex = 0;\n",
            "    uint256 totalPrice= 0;\n",
            "    bool isLock = false;\n",
            "    ContractParam public setConfig;\n",
            "    ContractParam public curConfig;\n",
            "    \n",
            "    address[] public addressArray = new address[](0);\n",
            "                    \n",
            "    event openLockEvent();\n",
            "    event addPlayerEvent(uint32 gameIndex,address player);\n",
            "    event gameOverEvent(uint32 gameIndex,uint32 totalSize,uint256 singlePrice,uint8 pumpRate,address winAddr,uint overTime);\n",
            "    event stopGameEvent(uint totalBalace,uint totalSize,uint price);\n",
            "          \n",
            "     \n",
            "    constructor ( uint32 _totalSize,\n",
            "                  uint256 _singlePrice\n",
            "    )  public  {\n",
            "        owner = msg.sender;\n",
            "        setConfig = ContractParam(_totalSize,_singlePrice * 1 finney ,5,false);\n",
            "        curConfig = ContractParam(_totalSize,_singlePrice * 1 finney ,5,false);\n",
            "        startNewGame();\n",
            "    }\n",
            "\n",
            "    modifier onlyOwner {\n",
            "        require(msg.sender == owner,\"only owner can call this function\");\n",
            "        _;\n",
            "    }\n",
            "    \n",
            "     modifier notLock {\n",
            "        require(isLock == false,\"contract current is lock status\");\n",
            "        _;\n",
            "    }\n",
            "    \n",
            "    function isNotContract(address addr) private view returns (bool) {\n",
            "        uint size;\n",
            "        assembly { size := extcodesize(addr) }\n",
            "        return size <= 0;\n",
            "    }\n",
            "\n",
            "    function updateLock(bool b) onlyOwner public {\n",
            "        \n",
            "        require(isLock != b,\" updateLock new status == old status\");\n",
            "       \n",
            "        isLock = b;\n",
            "       \n",
            "        if(isLock) {\n",
            "            stopGame();\n",
            "        }else{\n",
            "            startNewGame();\n",
            "            emit openLockEvent();\n",
            "        }\n",
            "    }\n",
            "    \n",
            "    function stopGame() onlyOwner private {\n",
            "      \n",
            "      if(addressArray.length <= 0) {\n",
            "          return;\n",
            "      }  \n",
            "      uint totalBalace = address(this).balance;\n",
            "      uint price = totalBalace / addressArray.length;\n",
            "      for(uint i = 0; i < addressArray.length; i++) {\n",
            "          address curPlayer =  addressArray[i];\n",
            "          curPlayer.transfer(price);\n",
            "      }\n",
            "      emit stopGameEvent(totalBalace,addressArray.length,price);\n",
            "      addressArray.length=0;\n",
            "    }\n",
            "\n",
            "    function transferOwnership(address newOwner) onlyOwner public {\n",
            "        if (newOwner != address(0)) {\n",
            "            owner = newOwner;\n",
            "        }\n",
            "    }\n",
            "    \n",
            "    function changeConfig( uint32 _totalSize,uint256 _singlePrice,uint8 _pumpRate) onlyOwner public payable {\n",
            "    \n",
            "        curConfig.hasChange = true;\n",
            "        if(setConfig.totalSize != _totalSize) {\n",
            "            setConfig.totalSize = _totalSize;\n",
            "        }\n",
            "        if(setConfig.pumpRate  != _pumpRate){\n",
            "            setConfig.pumpRate  = _pumpRate;\n",
            "        }\n",
            "        if(setConfig.singlePrice != _singlePrice * 1 finney){\n",
            "            setConfig.singlePrice = _singlePrice * 1 finney;\n",
            "        }\n",
            "    }\n",
            "    \n",
            "    function startNewGame() private {\n",
            "        \n",
            "        gameIndex++;\n",
            "        if(curConfig.hasChange) {\n",
            "            if(curConfig.totalSize   != setConfig.totalSize) {\n",
            "                curConfig.totalSize   = setConfig.totalSize;\n",
            "            }\n",
            "            if(curConfig.singlePrice != setConfig.singlePrice){\n",
            "               curConfig.singlePrice = setConfig.singlePrice; \n",
            "            }\n",
            "            if( curConfig.pumpRate    != setConfig.pumpRate) {\n",
            "                curConfig.pumpRate    = setConfig.pumpRate;\n",
            "            }\n",
            "            curConfig.hasChange = false;\n",
            "        }\n",
            "        addressArray.length=0;\n",
            "    }\n",
            "    \n",
            "    function getGameInfo() public view returns  (uint256,uint32,uint256,uint8,address[],uint256,bool)  {\n",
            "        return (gameIndex,\n",
            "                curConfig.totalSize,\n",
            "                curConfig.singlePrice,\n",
            "                curConfig.pumpRate,\n",
            "                addressArray,\n",
            "                totalPrice,\n",
            "                isLock);\n",
            "    }\n",
            "    \n",
            "    function gameResult() private {\n",
            "            \n",
            "      uint index  = getRamdon();\n",
            "      address lastAddress = addressArray[index];\n",
            "      uint totalBalace = address(this).balance;\n",
            "      uint giveToOwn   = totalBalace * curConfig.pumpRate / 100;\n",
            "      uint giveToActor = totalBalace - giveToOwn;\n",
            "      owner.transfer(giveToOwn);\n",
            "      lastAddress.transfer(giveToActor);\n",
            "      emit gameOverEvent(\n",
            "                    gameIndex,\n",
            "                    curConfig.totalSize,\n",
            "                    curConfig.singlePrice,\n",
            "                    curConfig.pumpRate,\n",
            "                    lastAddress,\n",
            "                    now);\n",
            "    }\n",
            "    \n",
            "    function getRamdon() private view returns (uint) {\n",
            "      bytes32 ramdon = keccak256(abi.encodePacked(ramdon,now,blockhash(block.number-1)));\n",
            "      for(uint i = 0; i < addressArray.length; i++) {\n",
            "            ramdon = keccak256(abi.encodePacked(ramdon,now, addressArray[i]));\n",
            "      }\n",
            "      uint index  = uint(ramdon) % addressArray.length;\n",
            "      return index;\n",
            "    }\n",
            "    \n",
            "    function() notLock payable public{\n",
            "        \n",
            "        require(msg.sender == tx.origin, \"msg.sender must equipt tx.origin\");\n",
            "        require(isNotContract(msg.sender),\"msg.sender not is Contract\");\n",
            "        require(msg.value == curConfig.singlePrice,\"msg.value error\");\n",
            "        totalPrice = totalPrice + msg.value;\n",
            "        addressArray.push(msg.sender);\n",
            "       \n",
            "        emit addPlayerEvent(gameIndex,msg.sender);\n",
            "        if(addressArray.length >= curConfig.totalSize) {\n",
            "            gameResult();\n",
            "            startNewGame();\n",
            "        }\n",
            "    }\n",
            "}\n"
          ]
        }
      ]
    },
    {
      "cell_type": "code",
      "source": [
        "!git clone https://github.com/usyd-blockchain/vandal"
      ],
      "metadata": {
        "id": "lUa-P9envLTm"
      },
      "execution_count": null,
      "outputs": []
    },
    {
      "cell_type": "code",
      "source": [
        "import vandal"
      ],
      "metadata": {
        "id": "Ii9q2knEv2EP"
      },
      "execution_count": null,
      "outputs": []
    },
    {
      "cell_type": "code",
      "source": [
        " '/content/drive/MyDrive/Research/Smart Contract/Dataset 12K Eth 8 vol/block number dependency (BN)/0.sol'\n"
      ],
      "metadata": {
        "id": "uuSV-r9Jv8DD"
      },
      "execution_count": null,
      "outputs": []
    },
    {
      "cell_type": "code",
      "source": [
        "!pip install -r vandal/requirements.txt"
      ],
      "metadata": {
        "id": "yivlrqnUxVUA"
      },
      "execution_count": null,
      "outputs": []
    },
    {
      "cell_type": "code",
      "source": [
        "data= open('/content/drive/MyDrive/Research/Smart Contract/datasetbyte/newSmartContractCFG0/0x982/op.facts',mode='r')\n"
      ],
      "metadata": {
        "id": "mEyTNqGLytKK"
      },
      "execution_count": null,
      "outputs": []
    },
    {
      "cell_type": "code",
      "source": [],
      "metadata": {
        "id": "-x0u72HzBB6v"
      },
      "execution_count": null,
      "outputs": []
    },
    {
      "cell_type": "code",
      "source": [
        "from mythril.analysis import solver\n",
        "\n",
        "contract_name = '/content/drive/MyDrive/Research/Smart Contract/datasetbyte/newSmartContractCFG0/0x982/op.facts'\n",
        "\n",
        "with open(contract_name, 'r') as file:\n",
        "    contract_bytecode = file.read()"
      ],
      "metadata": {
        "id": "0NI97JncAryX"
      },
      "execution_count": null,
      "outputs": []
    },
    {
      "cell_type": "code",
      "source": [
        "import subprocess\n",
        "\n",
        "# The bytecode of the smart contract you want to analyze\n",
        "\n",
        "# Run the Mythril CLI command to analyze the bytecode\n",
        "output = subprocess.run([\"myth\", \"analyze\", \"--code\", contract_bytecode], capture_output=True)\n",
        "\n",
        "# Extract the output from the command\n",
        "output_str = output.stdout.decode()\n",
        "\n",
        "# Parse the output to extract the issues found in the contract\n",
        "issues = []\n",
        "for line in output_str.split(\"\\n\"):\n",
        "    if \"ISSUE\" in line:\n",
        "        issues.append(line)\n",
        "\n",
        "# Print the issues found in the contract\n",
        "for issue in issues:\n",
        "    print(issue)"
      ],
      "metadata": {
        "id": "l9qgAHdiA8DZ"
      },
      "execution_count": null,
      "outputs": []
    },
    {
      "cell_type": "code",
      "source": [
        "!myth analyze '/content/drive/MyDrive/Research/Smart Contract/datasetbyte/newSmartContractCFG0/0x982/op.facts'"
      ],
      "metadata": {
        "id": "6W-DCU6VCkU3"
      },
      "execution_count": null,
      "outputs": []
    },
    {
      "cell_type": "code",
      "source": [
        "from mythril.disassembler.disassembly import Disassembly"
      ],
      "metadata": {
        "id": "JUAsZQnhCosl"
      },
      "execution_count": null,
      "outputs": []
    },
    {
      "cell_type": "code",
      "source": [
        "disassembler=Disassembly(strcommand,strop)"
      ],
      "metadata": {
        "id": "QBIwvbLoCxI6"
      },
      "execution_count": null,
      "outputs": []
    },
    {
      "cell_type": "code",
      "source": [
        "import io\n",
        "x= pd.read_csv(io.StringIO(contract_bytecode),sep='\\t',names=['hex','command'],header=None)\n",
        "print(x)"
      ],
      "metadata": {
        "id": "1c8Jc7h5KeuR"
      },
      "execution_count": null,
      "outputs": []
    },
    {
      "cell_type": "code",
      "source": [
        "strop= ''.join(x['hex'].tolist())"
      ],
      "metadata": {
        "id": "m5mF8ReJLW6Z"
      },
      "execution_count": null,
      "outputs": []
    },
    {
      "cell_type": "code",
      "source": [
        "print(strop)"
      ],
      "metadata": {
        "id": "e2vxo88mHKj2"
      },
      "execution_count": null,
      "outputs": []
    },
    {
      "cell_type": "code",
      "source": [
        "strcommand= x['command'].tolist()\n",
        "strop= x['hex'].tolist()\n",
        "print(strcommand)"
      ],
      "metadata": {
        "id": "dL0YXMZFJO3q"
      },
      "execution_count": null,
      "outputs": []
    },
    {
      "cell_type": "code",
      "source": [
        "from mythril.disassembler.asm import EvmInstruction"
      ],
      "metadata": {
        "id": "hlZNyDYuVefj"
      },
      "execution_count": null,
      "outputs": []
    },
    {
      "cell_type": "code",
      "source": [
        "test = EvmInstruction(strop,strcommand)"
      ],
      "metadata": {
        "id": "LjFrcnQpWSE8"
      },
      "execution_count": null,
      "outputs": []
    },
    {
      "cell_type": "code",
      "source": [
        "!pip install evm-cfg-builder"
      ],
      "metadata": {
        "colab": {
          "base_uri": "https://localhost:8080/"
        },
        "id": "hnVCAIUZWbrH",
        "outputId": "8c61c77b-8fe2-4946-a51e-e9061dbb5220"
      },
      "execution_count": null,
      "outputs": [
        {
          "output_type": "stream",
          "name": "stdout",
          "text": [
            "Looking in indexes: https://pypi.org/simple, https://us-python.pkg.dev/colab-wheels/public/simple/\n",
            "Collecting evm-cfg-builder\n",
            "  Downloading evm-cfg-builder-0.3.1.tar.gz (1.3 MB)\n",
            "\u001b[2K     \u001b[90m━━━━━━━━━━━━━━━━━━━━━━━━━━━━━━━━━━━━━━━━\u001b[0m \u001b[32m1.3/1.3 MB\u001b[0m \u001b[31m15.8 MB/s\u001b[0m eta \u001b[36m0:00:00\u001b[0m\n",
            "\u001b[?25h  Preparing metadata (setup.py) ... \u001b[?25l\u001b[?25hdone\n",
            "Collecting pyevmasm>=0.1.1\n",
            "  Downloading pyevmasm-0.2.3-py3-none-any.whl (15 kB)\n",
            "Collecting crytic-compile>=0.1.13\n",
            "  Downloading crytic_compile-0.3.0-py3-none-any.whl (91 kB)\n",
            "\u001b[2K     \u001b[90m━━━━━━━━━━━━━━━━━━━━━━━━━━━━━━━━━━━━━━━━\u001b[0m \u001b[32m91.4/91.4 KB\u001b[0m \u001b[31m8.3 MB/s\u001b[0m eta \u001b[36m0:00:00\u001b[0m\n",
            "\u001b[?25hCollecting cbor2\n",
            "  Downloading cbor2-5.4.6-cp38-cp38-manylinux_2_17_x86_64.manylinux2014_x86_64.whl (236 kB)\n",
            "\u001b[2K     \u001b[90m━━━━━━━━━━━━━━━━━━━━━━━━━━━━━━━━━━━━━━\u001b[0m \u001b[32m236.3/236.3 KB\u001b[0m \u001b[31m19.6 MB/s\u001b[0m eta \u001b[36m0:00:00\u001b[0m\n",
            "\u001b[?25hRequirement already satisfied: pycryptodome>=3.4.6 in /usr/local/lib/python3.8/dist-packages (from crytic-compile>=0.1.13->evm-cfg-builder) (3.17)\n",
            "Requirement already satisfied: future in /usr/local/lib/python3.8/dist-packages (from pyevmasm>=0.1.1->evm-cfg-builder) (0.16.0)\n",
            "Building wheels for collected packages: evm-cfg-builder\n",
            "  Building wheel for evm-cfg-builder (setup.py) ... \u001b[?25l\u001b[?25hdone\n",
            "  Created wheel for evm-cfg-builder: filename=evm_cfg_builder-0.3.1-py3-none-any.whl size=1264547 sha256=d8d269f4cb96bac16aa2a905ee197fed7eb2298fa4b4661788dbf305415d0087\n",
            "  Stored in directory: /root/.cache/pip/wheels/26/92/64/0ff1288494def75d7ab5c5d8415f05bc25360b77fbd7c8d0fe\n",
            "Successfully built evm-cfg-builder\n",
            "Installing collected packages: pyevmasm, cbor2, crytic-compile, evm-cfg-builder\n",
            "Successfully installed cbor2-5.4.6 crytic-compile-0.3.0 evm-cfg-builder-0.3.1 pyevmasm-0.2.3\n"
          ]
        }
      ]
    },
    {
      "cell_type": "code",
      "source": [
        "from evm_cfg_builder import CFG"
      ],
      "metadata": {
        "id": "poM836T4aug9"
      },
      "execution_count": null,
      "outputs": []
    },
    {
      "cell_type": "code",
      "source": [
        "cfg = CFG(binruntime)"
      ],
      "metadata": {
        "id": "PeUWi1epWcGH"
      },
      "execution_count": null,
      "outputs": []
    },
    {
      "cell_type": "code",
      "source": [
        "hexop= [int(value,base=16) for value in strop]"
      ],
      "metadata": {
        "id": "ltoDr3zcbLML"
      },
      "execution_count": null,
      "outputs": []
    },
    {
      "cell_type": "code",
      "source": [
        "hexop"
      ],
      "metadata": {
        "id": "6FxdZpLKbw4t"
      },
      "execution_count": null,
      "outputs": []
    },
    {
      "cell_type": "code",
      "source": [
        "contract_name = '/content/drive/MyDrive/Research/Smart Contract/Dataset 12K Eth 8 vol/block number dependency (BN)/0.sol'\n",
        "\n",
        "with open(contract_name, 'r') as file:\n",
        "    soldata = file.read()"
      ],
      "metadata": {
        "id": "kc-ivt8eck-9"
      },
      "execution_count": null,
      "outputs": []
    },
    {
      "cell_type": "code",
      "source": [
        "print(soldata)"
      ],
      "metadata": {
        "id": "9te9tlPohU6u"
      },
      "execution_count": null,
      "outputs": []
    },
    {
      "cell_type": "code",
      "source": [
        "! pip install py-solc-x"
      ],
      "metadata": {
        "id": "ejRMLK4CiKPF"
      },
      "execution_count": null,
      "outputs": []
    },
    {
      "cell_type": "code",
      "source": [
        "!pip install solc"
      ],
      "metadata": {
        "id": "LIJ85U2CnIVx"
      },
      "execution_count": null,
      "outputs": []
    },
    {
      "cell_type": "code",
      "source": [
        "!pip install astropy>=3.1\n",
        "!pip install sunpy\n",
        "from mythril.disassembler.disassembly import Disassembly"
      ],
      "metadata": {
        "id": "Fb5p_ZvzisCp"
      },
      "execution_count": null,
      "outputs": []
    },
    {
      "cell_type": "code",
      "source": [
        "from evm_cfg_builder import CFG"
      ],
      "metadata": {
        "id": "QRu7V8LbjdeK"
      },
      "execution_count": null,
      "outputs": []
    },
    {
      "cell_type": "code",
      "source": [
        "!pip install stellargraph"
      ],
      "metadata": {
        "id": "ipQjZkG0k2co"
      },
      "execution_count": null,
      "outputs": []
    },
    {
      "cell_type": "code",
      "source": [
        "from stellargraph.data import EdgeSplitter\n",
        "from stellargraph.mapper import GraphSAGENodeGenerator\n",
        "from stellargraph.layer import GraphSAGE"
      ],
      "metadata": {
        "id": "cHlUQpXYi1t1"
      },
      "execution_count": null,
      "outputs": []
    },
    {
      "cell_type": "code",
      "source": [
        "from solcx import  compile_files\n",
        "import solcx"
      ],
      "metadata": {
        "id": "pOaiiDxVjBq0"
      },
      "execution_count": null,
      "outputs": []
    },
    {
      "cell_type": "code",
      "source": [
        "solcx.get_installable_solc_versions()"
      ],
      "metadata": {
        "id": "GLlJcpoJnoMv"
      },
      "execution_count": null,
      "outputs": []
    },
    {
      "cell_type": "code",
      "source": [
        "solcx.install_solc('0.4.24')"
      ],
      "metadata": {
        "colab": {
          "base_uri": "https://localhost:8080/"
        },
        "id": "F9BtdY97nv26",
        "outputId": "8a086154-8975-4b2b-b5f6-a6874ef897f3"
      },
      "execution_count": null,
      "outputs": [
        {
          "output_type": "execute_result",
          "data": {
            "text/plain": [
              "Version('0.4.24')"
            ]
          },
          "metadata": {},
          "execution_count": 23
        }
      ]
    },
    {
      "cell_type": "code",
      "source": [
        "binary= solcx.compile_files([\"/content/drive/MyDrive/Research/Smart Contract/Dataset 12K Eth 8 vol/block number dependency (BN)/0.sol\"], output_values=[\"bin-runtime\"],solc_version=\"0.4.24\")\n"
      ],
      "metadata": {
        "id": "w-09grxqmCL1"
      },
      "execution_count": null,
      "outputs": []
    },
    {
      "cell_type": "code",
      "source": [
        "bin"
      ],
      "metadata": {
        "id": "dSP1xoMK9t2L"
      },
      "execution_count": null,
      "outputs": []
    },
    {
      "cell_type": "code",
      "source": [
        "binruntime=binary['/content/drive/MyDrive/Research/Smart Contract/Dataset 12K Eth 8 vol/block number dependency (BN)/0.sol:BREBuy']['bin-runtime']"
      ],
      "metadata": {
        "id": "SzLNSseqnAj8"
      },
      "execution_count": null,
      "outputs": []
    },
    {
      "cell_type": "code",
      "source": [
        "binruntime"
      ],
      "metadata": {
        "colab": {
          "base_uri": "https://localhost:8080/",
          "height": 105
        },
        "id": "AyVaMMbdp_oH",
        "outputId": "f26b4c43-0ac2-440b-c36f-6da052fd9d18"
      },
      "execution_count": null,
      "outputs": [
        {
          "output_type": "execute_result",
          "data": {
            "text/plain": [
              "'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'"
            ],
            "application/vnd.google.colaboratory.intrinsic+json": {
              "type": "string"
            }
          },
          "metadata": {},
          "execution_count": 26
        }
      ]
    },
    {
      "cell_type": "code",
      "source": [
        "print(cfg)"
      ],
      "metadata": {
        "colab": {
          "base_uri": "https://localhost:8080/"
        },
        "id": "dULgY6H-qncn",
        "outputId": "8d59e1c3-7665-4a95-9160-36c3e8ecdf0e"
      },
      "execution_count": null,
      "outputs": [
        {
          "output_type": "stream",
          "name": "stdout",
          "text": [
            "<CFG: 10 Functions, 145 Basic Blocks>\n"
          ]
        }
      ]
    },
    {
      "cell_type": "code",
      "source": [
        "for basic_block in cfg.basic_blocks:\n",
        "    print(\n",
        "        f\"{basic_block} -> {sorted(basic_block.all_outgoing_basic_blocks, key=lambda x:x.start.pc)}\"\n",
        "    )"
      ],
      "metadata": {
        "colab": {
          "base_uri": "https://localhost:8080/"
        },
        "id": "zXtK9UPGqxYb",
        "outputId": "7bd3b60e-33c0-4126-ae13-a89c832570ae"
      },
      "execution_count": null,
      "outputs": [
        {
          "output_type": "stream",
          "name": "stdout",
          "text": [
            "<cfg BasicBlock@c96-cde> -> [<cfg BasicBlock@cdf-d02>, <cfg BasicBlock@d03-d24>]\n",
            "<cfg BasicBlock@3dd-3dd> -> []\n",
            "<cfg BasicBlock@4ab-4ae> -> []\n",
            "<cfg BasicBlock@11ad-11e0> -> []\n",
            "<cfg BasicBlock@0-c> -> [<cfg BasicBlock@d-40>, <cfg BasicBlock@83-a0>]\n",
            "<cfg BasicBlock@1ba-1c0> -> []\n",
            "<cfg BasicBlock@15af-15b1> -> []\n",
            "<cfg BasicBlock@bac-c02> -> [<cfg BasicBlock@c03-c95>, <cfg BasicBlock@c96-cde>]\n",
            "<cfg BasicBlock@1588-158c> -> []\n",
            "<cfg BasicBlock@688-688> -> []\n",
            "<cfg BasicBlock@3f5-435> -> []\n",
            "<cfg BasicBlock@d03-d24> -> [<cfg BasicBlock@d25-d42>, <cfg BasicBlock@d43-d5a>]\n",
            "<cfg BasicBlock@762-79f> -> []\n",
            "<cfg BasicBlock@22e-23c> -> []\n",
            "<cfg BasicBlock@442-460> -> [<cfg BasicBlock@a64-a71>]\n",
            "<cfg BasicBlock@1561-156e> -> [<cfg BasicBlock@156f-1586>, <cfg BasicBlock@1588-158c>]\n",
            "<cfg BasicBlock@461-4a2> -> []\n",
            "<cfg BasicBlock@156f-1586> -> [<cfg BasicBlock@158d-1592>]\n",
            "<cfg BasicBlock@3e0-3e7> -> [<cfg BasicBlock@3e8-3eb>, <cfg BasicBlock@3ec-3f4>]\n",
            "<cfg BasicBlock@d6e-d72> -> []\n",
            "<cfg BasicBlock@3e8-3eb> -> []\n",
            "<cfg BasicBlock@5ee-60e> -> [<cfg BasicBlock@dbb-e11>]\n",
            "<cfg BasicBlock@aa2-b33> -> [<cfg BasicBlock@b34-b43>, <cfg BasicBlock@b8e-bab>]\n",
            "<cfg BasicBlock@60f-610> -> []\n",
            "<cfg BasicBlock@11ff-12a9> -> []\n",
            "<cfg BasicBlock@2aa-3cd> -> []\n",
            "<cfg BasicBlock@23d-2a9> -> []\n",
            "<cfg BasicBlock@964-977> -> [<cfg BasicBlock@978-986>, <cfg BasicBlock@987-9ba>]\n",
            "<cfg BasicBlock@b8e-bab> -> []\n",
            "<cfg BasicBlock@611-618> -> [<cfg BasicBlock@619-61c>, <cfg BasicBlock@61d-651>]\n",
            "<cfg BasicBlock@f86-f8c> -> [<cfg BasicBlock@132b-1387>]\n",
            "<cfg BasicBlock@12cf-130a> -> []\n",
            "<cfg BasicBlock@3ec-3f4> -> [<cfg BasicBlock@a1c-a63>]\n",
            "<cfg BasicBlock@436-43d> -> [<cfg BasicBlock@43e-441>, <cfg BasicBlock@442-460>]\n",
            "<cfg BasicBlock@8ec-92a> -> [<cfg BasicBlock@92b-963>, <cfg BasicBlock@964-977>]\n",
            "<cfg BasicBlock@11ef-11fd> -> []\n",
            "<cfg BasicBlock@987-9ba> -> [<cfg BasicBlock@9bb-9ea>, <cfg BasicBlock@9eb-a09>]\n",
            "<cfg BasicBlock@43e-441> -> []\n",
            "<cfg BasicBlock@a73-aa1> -> []\n",
            "<cfg BasicBlock@b44-b8d> -> [<cfg BasicBlock@b44-b8d>, <cfg BasicBlock@b8e-bab>]\n",
            "<cfg BasicBlock@ea5-ec2> -> [<cfg BasicBlock@ec3-f55>, <cfg BasicBlock@f56-f85>]\n",
            "<cfg BasicBlock@131e-131e> -> []\n",
            "<cfg BasicBlock@15b2-15b2> -> []\n",
            "<cfg BasicBlock@130b-131d> -> []\n",
            "<cfg BasicBlock@1587-1587> -> []\n",
            "<cfg BasicBlock@c03-c95> -> []\n",
            "<cfg BasicBlock@6f3-758> -> []\n",
            "<cfg BasicBlock@e12-ea4> -> []\n",
            "<cfg BasicBlock@fc7-fc9> -> []\n",
            "<cfg BasicBlock@1b1-1b9> -> [<cfg BasicBlock@654-667>]\n",
            "<cfg BasicBlock@3ce-3d4> -> []\n",
            "<cfg BasicBlock@759-761> -> []\n",
            "<cfg BasicBlock@dbb-e11> -> [<cfg BasicBlock@e12-ea4>, <cfg BasicBlock@ea5-ec2>]\n",
            "<cfg BasicBlock@12aa-12b4> -> []\n",
            "<cfg BasicBlock@d73-dba> -> []\n",
            "<cfg BasicBlock@144-1b0> -> []\n",
            "<cfg BasicBlock@ec3-f55> -> []\n",
            "<cfg BasicBlock@131f-132a> -> []\n",
            "<cfg BasicBlock@4a3-4aa> -> [<cfg BasicBlock@4ab-4ae>, <cfg BasicBlock@4af-4b7>]\n",
            "<cfg BasicBlock@132b-1387> -> [<cfg BasicBlock@1388-141a>, <cfg BasicBlock@141b-142a>]\n",
            "<cfg BasicBlock@1c1-22d> -> []\n",
            "<cfg BasicBlock@619-61c> -> []\n",
            "<cfg BasicBlock@7a0-7a8> -> []\n",
            "<cfg BasicBlock@4b8-518> -> []\n",
            "<cfg BasicBlock@cdf-d02> -> [<cfg BasicBlock@d03-d24>]\n",
            "<cfg BasicBlock@b34-b43> -> [<cfg BasicBlock@b44-b8d>]\n",
            "<cfg BasicBlock@158d-1592> -> [<cfg BasicBlock@1593-159b>]\n",
            "<cfg BasicBlock@7a9-897> -> []\n",
            "<cfg BasicBlock@1593-159b> -> [<cfg BasicBlock@159c-15aa>, <cfg BasicBlock@15ab-15ae>]\n",
            "<cfg BasicBlock@61d-651> -> [<cfg BasicBlock@fca-1020>]\n",
            "<cfg BasicBlock@a1-10d> -> []\n",
            "<cfg BasicBlock@159c-15aa> -> [<cfg BasicBlock@1593-159b>]\n",
            "<cfg BasicBlock@12b5-12ce> -> []\n",
            "<cfg BasicBlock@11fe-11fe> -> []\n",
            "<cfg BasicBlock@15ab-15ae> -> []\n",
            "<cfg BasicBlock@4af-4b7> -> [<cfg BasicBlock@aa2-b33>]\n",
            "<cfg BasicBlock@92b-963> -> [<cfg BasicBlock@964-977>]\n",
            "<cfg BasicBlock@142b-142e> -> [<cfg BasicBlock@155b-1560>]\n",
            "<cfg BasicBlock@3de-3df> -> []\n",
            "<cfg BasicBlock@51a-522> -> []\n",
            "<cfg BasicBlock@652-653> -> []\n",
            "<cfg BasicBlock@3d5-3dc> -> []\n",
            "<cfg BasicBlock@1388-141a> -> []\n",
            "<cfg BasicBlock@523-534> -> []\n",
            "<cfg BasicBlock@594-597> -> []\n",
            "<cfg BasicBlock@f56-f85> -> [<cfg BasicBlock@f86-f8c>, <cfg BasicBlock@f92-f99>]\n",
            "<cfg BasicBlock@a72-a72> -> []\n",
            "<cfg BasicBlock@141b-142a> -> [<cfg BasicBlock@142b-142e>, <cfg BasicBlock@142f-1457>]\n",
            "<cfg BasicBlock@1459-1460> -> [<cfg BasicBlock@1461-146e>]\n",
            "<cfg BasicBlock@142f-1457> -> [<cfg BasicBlock@1458-1458>, <cfg BasicBlock@1459-1460>]\n",
            "<cfg BasicBlock@146f-147b> -> [<cfg BasicBlock@147c-147c>, <cfg BasicBlock@147d-14e6>]\n",
            "<cfg BasicBlock@62-6c> -> [<cfg BasicBlock@6d-77>, <cfg BasicBlock@58c-593>]\n",
            "<cfg BasicBlock@535-54e> -> []\n",
            "<cfg BasicBlock@654-667> -> []\n",
            "<cfg BasicBlock@a0a-a18> -> [<cfg BasicBlock@1561-156e>]\n",
            "<cfg BasicBlock@58c-593> -> [<cfg BasicBlock@594-597>, <cfg BasicBlock@598-5a0>]\n",
            "<cfg BasicBlock@668-677> -> []\n",
            "<cfg BasicBlock@f8d-f91> -> []\n",
            "<cfg BasicBlock@f9a-fc6> -> []\n",
            "<cfg BasicBlock@14f0-14fd> -> [<cfg BasicBlock@1461-146e>]\n",
            "<cfg BasicBlock@147c-147c> -> []\n",
            "<cfg BasicBlock@5a1-5e1> -> []\n",
            "<cfg BasicBlock@f92-f99> -> [<cfg BasicBlock@898-8eb>]\n",
            "<cfg BasicBlock@54f-589> -> [<cfg BasicBlock@bac-c02>]\n",
            "<cfg BasicBlock@14fe-1558> -> [<cfg BasicBlock@1561-156e>]\n",
            "<cfg BasicBlock@598-5a0> -> [<cfg BasicBlock@d73-dba>]\n",
            "<cfg BasicBlock@41-4b> -> [<cfg BasicBlock@4c-56>, <cfg BasicBlock@436-43d>]\n",
            "<cfg BasicBlock@5e2-5e9> -> [<cfg BasicBlock@5ea-5ed>, <cfg BasicBlock@5ee-60e>]\n",
            "<cfg BasicBlock@d-40> -> [<cfg BasicBlock@41-4b>, <cfg BasicBlock@3e0-3e7>]\n",
            "<cfg BasicBlock@a64-a71> -> [<cfg BasicBlock@a72-a72>, <cfg BasicBlock@a73-aa1>]\n",
            "<cfg BasicBlock@978-986> -> [<cfg BasicBlock@987-9ba>]\n",
            "<cfg BasicBlock@a19-a1b> -> []\n",
            "<cfg BasicBlock@5ea-5ed> -> []\n",
            "<cfg BasicBlock@678-687> -> []\n",
            "<cfg BasicBlock@57-61> -> [<cfg BasicBlock@62-6c>, <cfg BasicBlock@54f-589>]\n",
            "<cfg BasicBlock@a1c-a63> -> []\n",
            "<cfg BasicBlock@1559-155a> -> []\n",
            "<cfg BasicBlock@147d-14e6> -> [<cfg BasicBlock@14e7-14ef>, <cfg BasicBlock@14f0-14fd>]\n",
            "<cfg BasicBlock@14e7-14ef> -> []\n",
            "<cfg BasicBlock@d25-d42> -> [<cfg BasicBlock@d43-d5a>]\n",
            "<cfg BasicBlock@112b-112d> -> []\n",
            "<cfg BasicBlock@d43-d5a> -> [<cfg BasicBlock@d5b-d6d>, <cfg BasicBlock@d6e-d72>]\n",
            "<cfg BasicBlock@fca-1020> -> [<cfg BasicBlock@1021-10b3>, <cfg BasicBlock@10b4-10ea>]\n",
            "<cfg BasicBlock@10eb-112a> -> [<cfg BasicBlock@112b-112d>]\n",
            "<cfg BasicBlock@9eb-a09> -> [<cfg BasicBlock@a0a-a18>]\n",
            "<cfg BasicBlock@4c-56> -> [<cfg BasicBlock@57-61>, <cfg BasicBlock@4a3-4aa>]\n",
            "<cfg BasicBlock@58a-58b> -> []\n",
            "<cfg BasicBlock@689-6f1> -> []\n",
            "<cfg BasicBlock@6d-77> -> [<cfg BasicBlock@78-82>, <cfg BasicBlock@5e2-5e9>]\n",
            "<cfg BasicBlock@155b-1560> -> []\n",
            "<cfg BasicBlock@1458-1458> -> []\n",
            "<cfg BasicBlock@898-8eb> -> [<cfg BasicBlock@8ec-92a>, <cfg BasicBlock@a0a-a18>]\n",
            "<cfg BasicBlock@10b4-10ea> -> [<cfg BasicBlock@10eb-112a>, <cfg BasicBlock@112b-112d>]\n",
            "<cfg BasicBlock@d5b-d6d> -> [<cfg BasicBlock@d6e-d72>]\n",
            "<cfg BasicBlock@78-82> -> [<cfg BasicBlock@83-a0>, <cfg BasicBlock@611-618>]\n",
            "<cfg BasicBlock@1021-10b3> -> []\n",
            "<cfg BasicBlock@1461-146e> -> [<cfg BasicBlock@146f-147b>, <cfg BasicBlock@14fe-1558>]\n",
            "<cfg BasicBlock@83-a0> -> [<cfg BasicBlock@a1-10d>, <cfg BasicBlock@10e-143>]\n",
            "<cfg BasicBlock@10e-143> -> [<cfg BasicBlock@144-1b0>, <cfg BasicBlock@1b1-1b9>]\n",
            "<cfg BasicBlock@1193-11ac> -> []\n",
            "<cfg BasicBlock@11e1-11ee> -> []\n",
            "<cfg BasicBlock@1188-1192> -> []\n",
            "<cfg BasicBlock@112e-1187> -> []\n",
            "<cfg BasicBlock@9bb-9ea> -> [<cfg BasicBlock@9eb-a09>]\n",
            "<cfg BasicBlock@6f2-6f2> -> []\n"
          ]
        }
      ]
    },
    {
      "cell_type": "code",
      "source": [
        "print(cfg)\n"
      ],
      "metadata": {
        "colab": {
          "base_uri": "https://localhost:8080/"
        },
        "id": "xFoFYZPoq5JG",
        "outputId": "ec4a3118-050d-4658-97df-ab7b008b59aa"
      },
      "execution_count": null,
      "outputs": [
        {
          "output_type": "stream",
          "name": "stdout",
          "text": [
            "<CFG: 10 Functions, 145 Basic Blocks>\n"
          ]
        }
      ]
    },
    {
      "cell_type": "code",
      "source": [
        "src=[]\n",
        "dist=[]\n",
        "for basic_block in cfg.basic_blocks:\n",
        "  for outgoing in basic_block.all_outgoing_basic_blocks:\n",
        "    x= basic_block\n",
        "    x= str(x).replace('<cfg BasicBlock@','')\n",
        "    x= x.replace('>','')\n",
        "    src.append(x)\n",
        "    y= outgoing\n",
        "    y= str(y).replace('<cfg BasicBlock@','')\n",
        "    y= y.replace('>','')\n",
        "    dist.append(y)"
      ],
      "metadata": {
        "id": "6cCCgZRntEbv"
      },
      "execution_count": null,
      "outputs": []
    },
    {
      "cell_type": "code",
      "source": [
        "len(src)"
      ],
      "metadata": {
        "id": "vlACDjzntL07"
      },
      "execution_count": null,
      "outputs": []
    },
    {
      "cell_type": "code",
      "source": [
        "len(dist)"
      ],
      "metadata": {
        "id": "2IOCLab1vApk"
      },
      "execution_count": null,
      "outputs": []
    },
    {
      "cell_type": "code",
      "source": [
        "graph=pd.DataFrame(zip(src,dist),columns=['source','target'])"
      ],
      "metadata": {
        "id": "DCs_SyHWvE9_"
      },
      "execution_count": null,
      "outputs": []
    },
    {
      "cell_type": "code",
      "source": [
        "graph.head()"
      ],
      "metadata": {
        "colab": {
          "base_uri": "https://localhost:8080/",
          "height": 206
        },
        "id": "CbPLBDNUvkzj",
        "outputId": "cf1ae3d1-2fd5-43c8-8f96-91299e373bea"
      },
      "execution_count": null,
      "outputs": [
        {
          "output_type": "execute_result",
          "data": {
            "text/plain": [
              "    source   target\n",
              "0  c96-cde  cdf-d02\n",
              "1  c96-cde  d03-d24\n",
              "2      0-c     d-40\n",
              "3      0-c    83-a0\n",
              "4  bac-c02  c03-c95"
            ],
            "text/html": [
              "\n",
              "  <div id=\"df-90d546da-6774-4a55-8b3d-4b1f7ae02cc0\">\n",
              "    <div class=\"colab-df-container\">\n",
              "      <div>\n",
              "<style scoped>\n",
              "    .dataframe tbody tr th:only-of-type {\n",
              "        vertical-align: middle;\n",
              "    }\n",
              "\n",
              "    .dataframe tbody tr th {\n",
              "        vertical-align: top;\n",
              "    }\n",
              "\n",
              "    .dataframe thead th {\n",
              "        text-align: right;\n",
              "    }\n",
              "</style>\n",
              "<table border=\"1\" class=\"dataframe\">\n",
              "  <thead>\n",
              "    <tr style=\"text-align: right;\">\n",
              "      <th></th>\n",
              "      <th>source</th>\n",
              "      <th>target</th>\n",
              "    </tr>\n",
              "  </thead>\n",
              "  <tbody>\n",
              "    <tr>\n",
              "      <th>0</th>\n",
              "      <td>c96-cde</td>\n",
              "      <td>cdf-d02</td>\n",
              "    </tr>\n",
              "    <tr>\n",
              "      <th>1</th>\n",
              "      <td>c96-cde</td>\n",
              "      <td>d03-d24</td>\n",
              "    </tr>\n",
              "    <tr>\n",
              "      <th>2</th>\n",
              "      <td>0-c</td>\n",
              "      <td>d-40</td>\n",
              "    </tr>\n",
              "    <tr>\n",
              "      <th>3</th>\n",
              "      <td>0-c</td>\n",
              "      <td>83-a0</td>\n",
              "    </tr>\n",
              "    <tr>\n",
              "      <th>4</th>\n",
              "      <td>bac-c02</td>\n",
              "      <td>c03-c95</td>\n",
              "    </tr>\n",
              "  </tbody>\n",
              "</table>\n",
              "</div>\n",
              "      <button class=\"colab-df-convert\" onclick=\"convertToInteractive('df-90d546da-6774-4a55-8b3d-4b1f7ae02cc0')\"\n",
              "              title=\"Convert this dataframe to an interactive table.\"\n",
              "              style=\"display:none;\">\n",
              "        \n",
              "  <svg xmlns=\"http://www.w3.org/2000/svg\" height=\"24px\"viewBox=\"0 0 24 24\"\n",
              "       width=\"24px\">\n",
              "    <path d=\"M0 0h24v24H0V0z\" fill=\"none\"/>\n",
              "    <path d=\"M18.56 5.44l.94 2.06.94-2.06 2.06-.94-2.06-.94-.94-2.06-.94 2.06-2.06.94zm-11 1L8.5 8.5l.94-2.06 2.06-.94-2.06-.94L8.5 2.5l-.94 2.06-2.06.94zm10 10l.94 2.06.94-2.06 2.06-.94-2.06-.94-.94-2.06-.94 2.06-2.06.94z\"/><path d=\"M17.41 7.96l-1.37-1.37c-.4-.4-.92-.59-1.43-.59-.52 0-1.04.2-1.43.59L10.3 9.45l-7.72 7.72c-.78.78-.78 2.05 0 2.83L4 21.41c.39.39.9.59 1.41.59.51 0 1.02-.2 1.41-.59l7.78-7.78 2.81-2.81c.8-.78.8-2.07 0-2.86zM5.41 20L4 18.59l7.72-7.72 1.47 1.35L5.41 20z\"/>\n",
              "  </svg>\n",
              "      </button>\n",
              "      \n",
              "  <style>\n",
              "    .colab-df-container {\n",
              "      display:flex;\n",
              "      flex-wrap:wrap;\n",
              "      gap: 12px;\n",
              "    }\n",
              "\n",
              "    .colab-df-convert {\n",
              "      background-color: #E8F0FE;\n",
              "      border: none;\n",
              "      border-radius: 50%;\n",
              "      cursor: pointer;\n",
              "      display: none;\n",
              "      fill: #1967D2;\n",
              "      height: 32px;\n",
              "      padding: 0 0 0 0;\n",
              "      width: 32px;\n",
              "    }\n",
              "\n",
              "    .colab-df-convert:hover {\n",
              "      background-color: #E2EBFA;\n",
              "      box-shadow: 0px 1px 2px rgba(60, 64, 67, 0.3), 0px 1px 3px 1px rgba(60, 64, 67, 0.15);\n",
              "      fill: #174EA6;\n",
              "    }\n",
              "\n",
              "    [theme=dark] .colab-df-convert {\n",
              "      background-color: #3B4455;\n",
              "      fill: #D2E3FC;\n",
              "    }\n",
              "\n",
              "    [theme=dark] .colab-df-convert:hover {\n",
              "      background-color: #434B5C;\n",
              "      box-shadow: 0px 1px 3px 1px rgba(0, 0, 0, 0.15);\n",
              "      filter: drop-shadow(0px 1px 2px rgba(0, 0, 0, 0.3));\n",
              "      fill: #FFFFFF;\n",
              "    }\n",
              "  </style>\n",
              "\n",
              "      <script>\n",
              "        const buttonEl =\n",
              "          document.querySelector('#df-90d546da-6774-4a55-8b3d-4b1f7ae02cc0 button.colab-df-convert');\n",
              "        buttonEl.style.display =\n",
              "          google.colab.kernel.accessAllowed ? 'block' : 'none';\n",
              "\n",
              "        async function convertToInteractive(key) {\n",
              "          const element = document.querySelector('#df-90d546da-6774-4a55-8b3d-4b1f7ae02cc0');\n",
              "          const dataTable =\n",
              "            await google.colab.kernel.invokeFunction('convertToInteractive',\n",
              "                                                     [key], {});\n",
              "          if (!dataTable) return;\n",
              "\n",
              "          const docLinkHtml = 'Like what you see? Visit the ' +\n",
              "            '<a target=\"_blank\" href=https://colab.research.google.com/notebooks/data_table.ipynb>data table notebook</a>'\n",
              "            + ' to learn more about interactive tables.';\n",
              "          element.innerHTML = '';\n",
              "          dataTable['output_type'] = 'display_data';\n",
              "          await google.colab.output.renderOutput(dataTable, element);\n",
              "          const docLink = document.createElement('div');\n",
              "          docLink.innerHTML = docLinkHtml;\n",
              "          element.appendChild(docLink);\n",
              "        }\n",
              "      </script>\n",
              "    </div>\n",
              "  </div>\n",
              "  "
            ]
          },
          "metadata": {},
          "execution_count": 33
        }
      ]
    },
    {
      "cell_type": "code",
      "source": [
        "\n"
      ],
      "metadata": {
        "id": "MPnhlMGzwsp0"
      },
      "execution_count": null,
      "outputs": []
    },
    {
      "cell_type": "code",
      "source": [
        "graph.head()"
      ],
      "metadata": {
        "id": "ZWDmNzkyw107"
      },
      "execution_count": null,
      "outputs": []
    },
    {
      "cell_type": "code",
      "source": [
        "from stellargraph import StellarGraph\n",
        "from stellargraph.data import EdgeSplitter\n",
        "from stellargraph.mapper import GraphSAGENodeGenerator\n",
        "from stellargraph.layer import GraphSAGE"
      ],
      "metadata": {
        "id": "h76zy12UwB5e"
      },
      "execution_count": null,
      "outputs": []
    },
    {
      "cell_type": "code",
      "source": [
        "graph = StellarGraph(edges=graph)"
      ],
      "metadata": {
        "id": "2KTHOD2Hv37y"
      },
      "execution_count": null,
      "outputs": []
    },
    {
      "cell_type": "code",
      "source": [
        "edge_splitter = EdgeSplitter(graph)"
      ],
      "metadata": {
        "id": "OqnlrhaIv-Aj"
      },
      "execution_count": null,
      "outputs": []
    },
    {
      "cell_type": "code",
      "source": [
        "edge_splitter"
      ],
      "metadata": {
        "id": "WZ6-RUjWzS-s"
      },
      "execution_count": null,
      "outputs": []
    },
    {
      "cell_type": "code",
      "source": [
        "from stellargraph.data import BiasedRandomWalk\n",
        "from gensim.models import Word2Vec\n",
        "\n",
        "biased_rw = BiasedRandomWalk(graph)\n",
        "\n",
        "\n",
        "walk_length = 10\n",
        "#DFS\n",
        "walks = biased_rw.run(nodes=list(graph.nodes()), length=walk_length, n=1, p=1.0, q=1.0)\n",
        "\n",
        "\n",
        "walks = [str(node) for walk in walks for node in walk]\n",
        "\n",
        "\n",
        "\n"
      ],
      "metadata": {
        "id": "lHrBEKbPz4zK"
      },
      "execution_count": null,
      "outputs": []
    },
    {
      "cell_type": "code",
      "source": [
        "walks"
      ],
      "metadata": {
        "colab": {
          "base_uri": "https://localhost:8080/"
        },
        "id": "vBCYQyi8DwB2",
        "outputId": "d2540532-4875-452c-8985-323c4b9a1424"
      },
      "execution_count": null,
      "outputs": [
        {
          "output_type": "execute_result",
          "data": {
            "text/plain": [
              "['c96-cde',\n",
              " 'cdf-d02',\n",
              " 'd03-d24',\n",
              " 'cdf-d02',\n",
              " 'd03-d24',\n",
              " 'd25-d42',\n",
              " 'd43-d5a',\n",
              " 'd6e-d72',\n",
              " 'd43-d5a',\n",
              " 'd03-d24',\n",
              " '0-c',\n",
              " 'd-40',\n",
              " '41-4b',\n",
              " '436-43d',\n",
              " '442-460',\n",
              " 'a64-a71',\n",
              " 'a73-aa1',\n",
              " 'a64-a71',\n",
              " 'a72-a72',\n",
              " 'a64-a71',\n",
              " 'bac-c02',\n",
              " '54f-589',\n",
              " 'bac-c02',\n",
              " 'c96-cde',\n",
              " 'bac-c02',\n",
              " 'c03-c95',\n",
              " 'bac-c02',\n",
              " 'c03-c95',\n",
              " 'bac-c02',\n",
              " 'c96-cde',\n",
              " 'd03-d24',\n",
              " 'cdf-d02',\n",
              " 'd03-d24',\n",
              " 'd25-d42',\n",
              " 'd43-d5a',\n",
              " 'd03-d24',\n",
              " 'd25-d42',\n",
              " 'd03-d24',\n",
              " 'c96-cde',\n",
              " 'cdf-d02',\n",
              " '442-460',\n",
              " '436-43d',\n",
              " '442-460',\n",
              " '436-43d',\n",
              " '442-460',\n",
              " '436-43d',\n",
              " '43e-441',\n",
              " '436-43d',\n",
              " '41-4b',\n",
              " '4c-56',\n",
              " '1561-156e',\n",
              " 'a0a-a18',\n",
              " '9eb-a09',\n",
              " 'a0a-a18',\n",
              " '1561-156e',\n",
              " '14fe-1558',\n",
              " '1561-156e',\n",
              " '14fe-1558',\n",
              " '1561-156e',\n",
              " 'a0a-a18',\n",
              " '156f-1586',\n",
              " '1561-156e',\n",
              " '1588-158c',\n",
              " '1561-156e',\n",
              " '156f-1586',\n",
              " '1561-156e',\n",
              " '156f-1586',\n",
              " '1561-156e',\n",
              " '156f-1586',\n",
              " '1561-156e',\n",
              " '3e0-3e7',\n",
              " 'd-40',\n",
              " '3e0-3e7',\n",
              " 'd-40',\n",
              " '3e0-3e7',\n",
              " '3ec-3f4',\n",
              " 'a1c-a63',\n",
              " '3ec-3f4',\n",
              " '3e0-3e7',\n",
              " '3ec-3f4',\n",
              " '5ee-60e',\n",
              " 'dbb-e11',\n",
              " 'e12-ea4',\n",
              " 'dbb-e11',\n",
              " '5ee-60e',\n",
              " 'dbb-e11',\n",
              " 'ea5-ec2',\n",
              " 'dbb-e11',\n",
              " 'e12-ea4',\n",
              " 'dbb-e11',\n",
              " 'aa2-b33',\n",
              " '4af-4b7',\n",
              " '4a3-4aa',\n",
              " '4c-56',\n",
              " '41-4b',\n",
              " '4c-56',\n",
              " '4a3-4aa',\n",
              " '4c-56',\n",
              " '41-4b',\n",
              " '4c-56',\n",
              " '964-977',\n",
              " '987-9ba',\n",
              " '978-986',\n",
              " '987-9ba',\n",
              " '978-986',\n",
              " '987-9ba',\n",
              " '9eb-a09',\n",
              " '987-9ba',\n",
              " '978-986',\n",
              " '987-9ba',\n",
              " '611-618',\n",
              " '619-61c',\n",
              " '611-618',\n",
              " '78-82',\n",
              " '6d-77',\n",
              " '5e2-5e9',\n",
              " '5ee-60e',\n",
              " '5e2-5e9',\n",
              " '5ea-5ed',\n",
              " '5e2-5e9',\n",
              " 'f86-f8c',\n",
              " '132b-1387',\n",
              " '1388-141a',\n",
              " '132b-1387',\n",
              " '141b-142a',\n",
              " '142b-142e',\n",
              " '155b-1560',\n",
              " '142b-142e',\n",
              " '141b-142a',\n",
              " '132b-1387',\n",
              " '3ec-3f4',\n",
              " 'a1c-a63',\n",
              " '3ec-3f4',\n",
              " '3e0-3e7',\n",
              " '3e8-3eb',\n",
              " '3e0-3e7',\n",
              " '3e8-3eb',\n",
              " '3e0-3e7',\n",
              " 'd-40',\n",
              " '41-4b',\n",
              " '436-43d',\n",
              " '442-460',\n",
              " 'a64-a71',\n",
              " 'a72-a72',\n",
              " 'a64-a71',\n",
              " '442-460',\n",
              " '436-43d',\n",
              " '442-460',\n",
              " 'a64-a71',\n",
              " 'a72-a72',\n",
              " '8ec-92a',\n",
              " '898-8eb',\n",
              " 'a0a-a18',\n",
              " '1561-156e',\n",
              " '14fe-1558',\n",
              " '1561-156e',\n",
              " '1588-158c',\n",
              " '1561-156e',\n",
              " '156f-1586',\n",
              " '158d-1592',\n",
              " '987-9ba',\n",
              " '978-986',\n",
              " '987-9ba',\n",
              " '9bb-9ea',\n",
              " '9eb-a09',\n",
              " 'a0a-a18',\n",
              " '1561-156e',\n",
              " '14fe-1558',\n",
              " '1561-156e',\n",
              " 'a0a-a18',\n",
              " 'b44-b8d',\n",
              " 'b44-b8d',\n",
              " 'b34-b43',\n",
              " 'aa2-b33',\n",
              " 'b8e-bab',\n",
              " 'aa2-b33',\n",
              " 'b8e-bab',\n",
              " 'b44-b8d',\n",
              " 'b34-b43',\n",
              " 'b44-b8d',\n",
              " 'ea5-ec2',\n",
              " 'f56-f85',\n",
              " 'ea5-ec2',\n",
              " 'dbb-e11',\n",
              " 'ea5-ec2',\n",
              " 'ec3-f55',\n",
              " 'ea5-ec2',\n",
              " 'f56-f85',\n",
              " 'ea5-ec2',\n",
              " 'f56-f85',\n",
              " '1b1-1b9',\n",
              " '654-667',\n",
              " '1b1-1b9',\n",
              " '654-667',\n",
              " '1b1-1b9',\n",
              " '10e-143',\n",
              " '144-1b0',\n",
              " '10e-143',\n",
              " '83-a0',\n",
              " '10e-143',\n",
              " 'dbb-e11',\n",
              " 'ea5-ec2',\n",
              " 'dbb-e11',\n",
              " 'e12-ea4',\n",
              " 'dbb-e11',\n",
              " '5ee-60e',\n",
              " '5e2-5e9',\n",
              " '5ea-5ed',\n",
              " '5e2-5e9',\n",
              " '5ee-60e',\n",
              " '4a3-4aa',\n",
              " '4ab-4ae',\n",
              " '4a3-4aa',\n",
              " '4af-4b7',\n",
              " '4a3-4aa',\n",
              " '4ab-4ae',\n",
              " '4a3-4aa',\n",
              " '4ab-4ae',\n",
              " '4a3-4aa',\n",
              " '4af-4b7',\n",
              " '132b-1387',\n",
              " '141b-142a',\n",
              " '142b-142e',\n",
              " '141b-142a',\n",
              " '142f-1457',\n",
              " '141b-142a',\n",
              " '142f-1457',\n",
              " '1459-1460',\n",
              " '142f-1457',\n",
              " '1459-1460',\n",
              " 'cdf-d02',\n",
              " 'c96-cde',\n",
              " 'd03-d24',\n",
              " 'd43-d5a',\n",
              " 'd25-d42',\n",
              " 'd03-d24',\n",
              " 'cdf-d02',\n",
              " 'd03-d24',\n",
              " 'cdf-d02',\n",
              " 'c96-cde',\n",
              " 'b34-b43',\n",
              " 'aa2-b33',\n",
              " 'b8e-bab',\n",
              " 'b44-b8d',\n",
              " 'b8e-bab',\n",
              " 'aa2-b33',\n",
              " '4af-4b7',\n",
              " 'aa2-b33',\n",
              " 'b8e-bab',\n",
              " 'b44-b8d',\n",
              " '158d-1592',\n",
              " '1593-159b',\n",
              " '159c-15aa',\n",
              " '1593-159b',\n",
              " '158d-1592',\n",
              " '1593-159b',\n",
              " '159c-15aa',\n",
              " '1593-159b',\n",
              " '158d-1592',\n",
              " '156f-1586',\n",
              " '1593-159b',\n",
              " '158d-1592',\n",
              " '1593-159b',\n",
              " '15ab-15ae',\n",
              " '1593-159b',\n",
              " '159c-15aa',\n",
              " '1593-159b',\n",
              " '158d-1592',\n",
              " '156f-1586',\n",
              " '158d-1592',\n",
              " '61d-651',\n",
              " '611-618',\n",
              " '78-82',\n",
              " '83-a0',\n",
              " '0-c',\n",
              " 'd-40',\n",
              " '41-4b',\n",
              " '436-43d',\n",
              " '43e-441',\n",
              " '436-43d',\n",
              " '159c-15aa',\n",
              " '1593-159b',\n",
              " '15ab-15ae',\n",
              " '1593-159b',\n",
              " '15ab-15ae',\n",
              " '1593-159b',\n",
              " '15ab-15ae',\n",
              " '1593-159b',\n",
              " '158d-1592',\n",
              " '1593-159b',\n",
              " '4af-4b7',\n",
              " '4a3-4aa',\n",
              " '4c-56',\n",
              " '57-61',\n",
              " '54f-589',\n",
              " 'bac-c02',\n",
              " 'c03-c95',\n",
              " 'bac-c02',\n",
              " '54f-589',\n",
              " 'bac-c02',\n",
              " '92b-963',\n",
              " '964-977',\n",
              " '92b-963',\n",
              " '964-977',\n",
              " '978-986',\n",
              " '987-9ba',\n",
              " '964-977',\n",
              " '92b-963',\n",
              " '8ec-92a',\n",
              " '964-977',\n",
              " '142b-142e',\n",
              " '155b-1560',\n",
              " '142b-142e',\n",
              " '141b-142a',\n",
              " '142b-142e',\n",
              " '155b-1560',\n",
              " '142b-142e',\n",
              " '155b-1560',\n",
              " '142b-142e',\n",
              " '141b-142a',\n",
              " 'f56-f85',\n",
              " 'f86-f8c',\n",
              " '132b-1387',\n",
              " '1388-141a',\n",
              " '132b-1387',\n",
              " '141b-142a',\n",
              " '142f-1457',\n",
              " '141b-142a',\n",
              " '142b-142e',\n",
              " '155b-1560',\n",
              " '141b-142a',\n",
              " '142f-1457',\n",
              " '141b-142a',\n",
              " '132b-1387',\n",
              " '141b-142a',\n",
              " '132b-1387',\n",
              " 'f86-f8c',\n",
              " 'f56-f85',\n",
              " 'f92-f99',\n",
              " 'f56-f85',\n",
              " '1459-1460',\n",
              " '1461-146e',\n",
              " '146f-147b',\n",
              " '147c-147c',\n",
              " '146f-147b',\n",
              " '147c-147c',\n",
              " '146f-147b',\n",
              " '147d-14e6',\n",
              " '14e7-14ef',\n",
              " '147d-14e6',\n",
              " '142f-1457',\n",
              " '141b-142a',\n",
              " '142f-1457',\n",
              " '1458-1458',\n",
              " '142f-1457',\n",
              " '1458-1458',\n",
              " '142f-1457',\n",
              " '141b-142a',\n",
              " '132b-1387',\n",
              " 'f86-f8c',\n",
              " '146f-147b',\n",
              " '147d-14e6',\n",
              " '146f-147b',\n",
              " '147c-147c',\n",
              " '146f-147b',\n",
              " '147c-147c',\n",
              " '146f-147b',\n",
              " '147c-147c',\n",
              " '146f-147b',\n",
              " '1461-146e',\n",
              " '62-6c',\n",
              " '57-61',\n",
              " '4c-56',\n",
              " '4a3-4aa',\n",
              " '4ab-4ae',\n",
              " '4a3-4aa',\n",
              " '4c-56',\n",
              " '41-4b',\n",
              " '436-43d',\n",
              " '43e-441',\n",
              " 'a0a-a18',\n",
              " '1561-156e',\n",
              " '14fe-1558',\n",
              " '1461-146e',\n",
              " '1459-1460',\n",
              " '1461-146e',\n",
              " '14fe-1558',\n",
              " '1561-156e',\n",
              " '14fe-1558',\n",
              " '1561-156e',\n",
              " '58c-593',\n",
              " '598-5a0',\n",
              " 'd73-dba',\n",
              " '598-5a0',\n",
              " 'd73-dba',\n",
              " '598-5a0',\n",
              " 'd73-dba',\n",
              " '598-5a0',\n",
              " 'd73-dba',\n",
              " '598-5a0',\n",
              " '14f0-14fd',\n",
              " '1461-146e',\n",
              " '14fe-1558',\n",
              " '1561-156e',\n",
              " '14fe-1558',\n",
              " '1561-156e',\n",
              " '14fe-1558',\n",
              " '1461-146e',\n",
              " '1459-1460',\n",
              " '142f-1457',\n",
              " 'f92-f99',\n",
              " 'f56-f85',\n",
              " 'ea5-ec2',\n",
              " 'f56-f85',\n",
              " 'f86-f8c',\n",
              " '132b-1387',\n",
              " '1388-141a',\n",
              " '132b-1387',\n",
              " '1388-141a',\n",
              " '132b-1387',\n",
              " '54f-589',\n",
              " '57-61',\n",
              " '54f-589',\n",
              " 'bac-c02',\n",
              " 'c03-c95',\n",
              " 'bac-c02',\n",
              " '54f-589',\n",
              " 'bac-c02',\n",
              " 'c96-cde',\n",
              " 'bac-c02',\n",
              " '14fe-1558',\n",
              " '1561-156e',\n",
              " '1588-158c',\n",
              " '1561-156e',\n",
              " '156f-1586',\n",
              " '158d-1592',\n",
              " '1593-159b',\n",
              " '159c-15aa',\n",
              " '1593-159b',\n",
              " '159c-15aa',\n",
              " '598-5a0',\n",
              " '58c-593',\n",
              " '62-6c',\n",
              " '58c-593',\n",
              " '594-597',\n",
              " '58c-593',\n",
              " '598-5a0',\n",
              " '58c-593',\n",
              " '598-5a0',\n",
              " 'd73-dba',\n",
              " '41-4b',\n",
              " 'd-40',\n",
              " '0-c',\n",
              " '83-a0',\n",
              " 'a1-10d',\n",
              " '83-a0',\n",
              " '10e-143',\n",
              " '1b1-1b9',\n",
              " '654-667',\n",
              " '1b1-1b9',\n",
              " '5e2-5e9',\n",
              " '5ee-60e',\n",
              " 'dbb-e11',\n",
              " '5ee-60e',\n",
              " 'dbb-e11',\n",
              " 'ea5-ec2',\n",
              " 'dbb-e11',\n",
              " 'ea5-ec2',\n",
              " 'dbb-e11',\n",
              " 'ea5-ec2',\n",
              " 'd-40',\n",
              " '3e0-3e7',\n",
              " '3ec-3f4',\n",
              " '3e0-3e7',\n",
              " '3ec-3f4',\n",
              " '3e0-3e7',\n",
              " '3ec-3f4',\n",
              " 'a1c-a63',\n",
              " '3ec-3f4',\n",
              " '3e0-3e7',\n",
              " 'a64-a71',\n",
              " 'a72-a72',\n",
              " 'a64-a71',\n",
              " 'a72-a72',\n",
              " 'a64-a71',\n",
              " '442-460',\n",
              " '436-43d',\n",
              " '43e-441',\n",
              " '436-43d',\n",
              " '442-460',\n",
              " '978-986',\n",
              " '987-9ba',\n",
              " '978-986',\n",
              " '964-977',\n",
              " '92b-963',\n",
              " '8ec-92a',\n",
              " '964-977',\n",
              " '978-986',\n",
              " '964-977',\n",
              " '92b-963',\n",
              " '57-61',\n",
              " '54f-589',\n",
              " '57-61',\n",
              " '62-6c',\n",
              " '58c-593',\n",
              " '598-5a0',\n",
              " 'd73-dba',\n",
              " '598-5a0',\n",
              " '58c-593',\n",
              " '62-6c',\n",
              " '147d-14e6',\n",
              " '14e7-14ef',\n",
              " '147d-14e6',\n",
              " '14f0-14fd',\n",
              " '1461-146e',\n",
              " '14fe-1558',\n",
              " '1461-146e',\n",
              " '14fe-1558',\n",
              " '1461-146e',\n",
              " '146f-147b',\n",
              " 'd25-d42',\n",
              " 'd43-d5a',\n",
              " 'd5b-d6d',\n",
              " 'd43-d5a',\n",
              " 'd25-d42',\n",
              " 'd03-d24',\n",
              " 'cdf-d02',\n",
              " 'c96-cde',\n",
              " 'bac-c02',\n",
              " 'c03-c95',\n",
              " 'd43-d5a',\n",
              " 'd25-d42',\n",
              " 'd03-d24',\n",
              " 'c96-cde',\n",
              " 'bac-c02',\n",
              " 'c96-cde',\n",
              " 'bac-c02',\n",
              " 'c03-c95',\n",
              " 'bac-c02',\n",
              " 'c96-cde',\n",
              " 'fca-1020',\n",
              " '10b4-10ea',\n",
              " '112b-112d',\n",
              " '10eb-112a',\n",
              " '112b-112d',\n",
              " '10b4-10ea',\n",
              " 'fca-1020',\n",
              " '1021-10b3',\n",
              " 'fca-1020',\n",
              " '1021-10b3',\n",
              " '10eb-112a',\n",
              " '10b4-10ea',\n",
              " '10eb-112a',\n",
              " '10b4-10ea',\n",
              " '112b-112d',\n",
              " '10eb-112a',\n",
              " '112b-112d',\n",
              " '10eb-112a',\n",
              " '112b-112d',\n",
              " '10b4-10ea',\n",
              " '9eb-a09',\n",
              " 'a0a-a18',\n",
              " '898-8eb',\n",
              " 'f92-f99',\n",
              " 'f56-f85',\n",
              " 'f86-f8c',\n",
              " '132b-1387',\n",
              " '1388-141a',\n",
              " '132b-1387',\n",
              " 'f86-f8c',\n",
              " '4c-56',\n",
              " '57-61',\n",
              " '62-6c',\n",
              " '58c-593',\n",
              " '598-5a0',\n",
              " '58c-593',\n",
              " '594-597',\n",
              " '58c-593',\n",
              " '598-5a0',\n",
              " 'd73-dba',\n",
              " '6d-77',\n",
              " '78-82',\n",
              " '83-a0',\n",
              " '0-c',\n",
              " 'd-40',\n",
              " '41-4b',\n",
              " 'd-40',\n",
              " '0-c',\n",
              " 'd-40',\n",
              " '41-4b',\n",
              " '898-8eb',\n",
              " 'a0a-a18',\n",
              " '9eb-a09',\n",
              " '987-9ba',\n",
              " '9eb-a09',\n",
              " '9bb-9ea',\n",
              " '987-9ba',\n",
              " '9bb-9ea',\n",
              " '9eb-a09',\n",
              " '987-9ba',\n",
              " '10b4-10ea',\n",
              " '112b-112d',\n",
              " '10b4-10ea',\n",
              " 'fca-1020',\n",
              " '61d-651',\n",
              " '611-618',\n",
              " '78-82',\n",
              " '611-618',\n",
              " '619-61c',\n",
              " '611-618',\n",
              " 'd5b-d6d',\n",
              " 'd43-d5a',\n",
              " 'd03-d24',\n",
              " 'c96-cde',\n",
              " 'd03-d24',\n",
              " 'd43-d5a',\n",
              " 'd5b-d6d',\n",
              " 'd6e-d72',\n",
              " 'd5b-d6d',\n",
              " 'd43-d5a',\n",
              " '78-82',\n",
              " '6d-77',\n",
              " '5e2-5e9',\n",
              " '6d-77',\n",
              " '5e2-5e9',\n",
              " '5ee-60e',\n",
              " '5e2-5e9',\n",
              " '5ea-5ed',\n",
              " '5e2-5e9',\n",
              " '5ee-60e',\n",
              " '1461-146e',\n",
              " '1459-1460',\n",
              " '1461-146e',\n",
              " '146f-147b',\n",
              " '147c-147c',\n",
              " '146f-147b',\n",
              " '147c-147c',\n",
              " '146f-147b',\n",
              " '147c-147c',\n",
              " '146f-147b',\n",
              " '83-a0',\n",
              " '0-c',\n",
              " '83-a0',\n",
              " 'a1-10d',\n",
              " '83-a0',\n",
              " '78-82',\n",
              " '83-a0',\n",
              " '10e-143',\n",
              " '83-a0',\n",
              " '10e-143',\n",
              " '10e-143',\n",
              " '144-1b0',\n",
              " '10e-143',\n",
              " '83-a0',\n",
              " '0-c',\n",
              " 'd-40',\n",
              " '0-c',\n",
              " '83-a0',\n",
              " '10e-143',\n",
              " '1b1-1b9',\n",
              " '9bb-9ea',\n",
              " '9eb-a09',\n",
              " '9bb-9ea',\n",
              " '9eb-a09',\n",
              " '9bb-9ea',\n",
              " '9eb-a09',\n",
              " 'a0a-a18',\n",
              " '1561-156e',\n",
              " '14fe-1558',\n",
              " '1461-146e',\n",
              " 'c03-c95',\n",
              " 'bac-c02',\n",
              " '54f-589',\n",
              " 'bac-c02',\n",
              " '54f-589',\n",
              " 'bac-c02',\n",
              " '54f-589',\n",
              " '57-61',\n",
              " '54f-589',\n",
              " 'bac-c02',\n",
              " '1588-158c',\n",
              " '1561-156e',\n",
              " 'a0a-a18',\n",
              " '898-8eb',\n",
              " 'a0a-a18',\n",
              " '1561-156e',\n",
              " '1588-158c',\n",
              " '1561-156e',\n",
              " '14fe-1558',\n",
              " '1561-156e',\n",
              " '3e8-3eb',\n",
              " '3e0-3e7',\n",
              " 'd-40',\n",
              " '3e0-3e7',\n",
              " '3ec-3f4',\n",
              " 'a1c-a63',\n",
              " '3ec-3f4',\n",
              " 'a1c-a63',\n",
              " '3ec-3f4',\n",
              " '3e0-3e7',\n",
              " 'b8e-bab',\n",
              " 'aa2-b33',\n",
              " '4af-4b7',\n",
              " 'aa2-b33',\n",
              " 'b34-b43',\n",
              " 'aa2-b33',\n",
              " 'b8e-bab',\n",
              " 'b44-b8d',\n",
              " 'b44-b8d',\n",
              " 'b44-b8d',\n",
              " '619-61c',\n",
              " '611-618',\n",
              " '61d-651',\n",
              " '611-618',\n",
              " '78-82',\n",
              " '6d-77',\n",
              " '78-82',\n",
              " '6d-77',\n",
              " '5e2-5e9',\n",
              " '5ea-5ed',\n",
              " 'a1c-a63',\n",
              " '3ec-3f4',\n",
              " '3e0-3e7',\n",
              " 'd-40',\n",
              " '3e0-3e7',\n",
              " '3ec-3f4',\n",
              " '3e0-3e7',\n",
              " '3ec-3f4',\n",
              " '3e0-3e7',\n",
              " 'd-40',\n",
              " '43e-441',\n",
              " '436-43d',\n",
              " '43e-441',\n",
              " '436-43d',\n",
              " '442-460',\n",
              " '436-43d',\n",
              " '442-460',\n",
              " '436-43d',\n",
              " '43e-441',\n",
              " '436-43d',\n",
              " 'ec3-f55',\n",
              " 'ea5-ec2',\n",
              " 'f56-f85',\n",
              " 'f92-f99',\n",
              " 'f56-f85',\n",
              " 'f92-f99',\n",
              " 'f56-f85',\n",
              " 'ea5-ec2',\n",
              " 'ec3-f55',\n",
              " 'ea5-ec2',\n",
              " '654-667',\n",
              " '1b1-1b9',\n",
              " '654-667',\n",
              " '1b1-1b9',\n",
              " '654-667',\n",
              " '1b1-1b9',\n",
              " '654-667',\n",
              " '1b1-1b9',\n",
              " '654-667',\n",
              " '1b1-1b9',\n",
              " 'e12-ea4',\n",
              " 'dbb-e11',\n",
              " 'ea5-ec2',\n",
              " 'dbb-e11',\n",
              " '5ee-60e',\n",
              " 'dbb-e11',\n",
              " '5ee-60e',\n",
              " '5e2-5e9',\n",
              " '5ee-60e',\n",
              " '5e2-5e9',\n",
              " '4ab-4ae',\n",
              " '4a3-4aa',\n",
              " '4af-4b7',\n",
              " '4a3-4aa',\n",
              " '4c-56',\n",
              " '4a3-4aa',\n",
              " '4c-56',\n",
              " '41-4b',\n",
              " '4c-56',\n",
              " '4a3-4aa',\n",
              " '1388-141a',\n",
              " '132b-1387',\n",
              " '141b-142a',\n",
              " '142f-1457',\n",
              " '141b-142a',\n",
              " '132b-1387',\n",
              " 'f86-f8c',\n",
              " 'f56-f85',\n",
              " 'ea5-ec2',\n",
              " 'dbb-e11',\n",
              " '15ab-15ae',\n",
              " '1593-159b',\n",
              " '15ab-15ae',\n",
              " '1593-159b',\n",
              " '159c-15aa',\n",
              " '1593-159b',\n",
              " '159c-15aa',\n",
              " '1593-159b',\n",
              " '159c-15aa',\n",
              " '1593-159b',\n",
              " '155b-1560',\n",
              " '142b-142e',\n",
              " '155b-1560',\n",
              " '142b-142e',\n",
              " '155b-1560',\n",
              " '142b-142e',\n",
              " '155b-1560',\n",
              " '142b-142e',\n",
              " '155b-1560',\n",
              " '142b-142e',\n",
              " '1458-1458',\n",
              " '142f-1457',\n",
              " '1458-1458',\n",
              " '142f-1457',\n",
              " '1458-1458',\n",
              " '142f-1457',\n",
              " '1459-1460',\n",
              " '142f-1457',\n",
              " '141b-142a',\n",
              " '142b-142e',\n",
              " '147c-147c',\n",
              " '146f-147b',\n",
              " '1461-146e',\n",
              " '1459-1460',\n",
              " '1461-146e',\n",
              " '14fe-1558',\n",
              " '1561-156e',\n",
              " '156f-1586',\n",
              " '1561-156e',\n",
              " '156f-1586',\n",
              " '594-597',\n",
              " '58c-593',\n",
              " '594-597',\n",
              " '58c-593',\n",
              " '598-5a0',\n",
              " '58c-593',\n",
              " '594-597',\n",
              " '58c-593',\n",
              " '598-5a0',\n",
              " 'd73-dba',\n",
              " 'd73-dba',\n",
              " '598-5a0',\n",
              " 'd73-dba',\n",
              " '598-5a0',\n",
              " '58c-593',\n",
              " '62-6c',\n",
              " '58c-593',\n",
              " '598-5a0',\n",
              " '58c-593',\n",
              " '62-6c',\n",
              " '5ea-5ed',\n",
              " '5e2-5e9',\n",
              " '5ee-60e',\n",
              " 'dbb-e11',\n",
              " 'ea5-ec2',\n",
              " 'ec3-f55',\n",
              " 'ea5-ec2',\n",
              " 'dbb-e11',\n",
              " 'ea5-ec2',\n",
              " 'ec3-f55',\n",
              " 'a72-a72',\n",
              " 'a64-a71',\n",
              " '442-460',\n",
              " '436-43d',\n",
              " '41-4b',\n",
              " '436-43d',\n",
              " '43e-441',\n",
              " '436-43d',\n",
              " '41-4b',\n",
              " '4c-56',\n",
              " 'a73-aa1',\n",
              " 'a64-a71',\n",
              " 'a73-aa1',\n",
              " 'a64-a71',\n",
              " 'a73-aa1',\n",
              " 'a64-a71',\n",
              " 'a73-aa1',\n",
              " 'a64-a71',\n",
              " 'a72-a72',\n",
              " 'a64-a71',\n",
              " '14e7-14ef',\n",
              " '147d-14e6',\n",
              " '14e7-14ef',\n",
              " '147d-14e6',\n",
              " '14e7-14ef',\n",
              " '147d-14e6',\n",
              " '14f0-14fd',\n",
              " '1461-146e',\n",
              " '146f-147b',\n",
              " '147c-147c',\n",
              " 'd6e-d72',\n",
              " 'd5b-d6d',\n",
              " 'd6e-d72',\n",
              " 'd5b-d6d',\n",
              " 'd6e-d72',\n",
              " 'd43-d5a',\n",
              " 'd6e-d72',\n",
              " 'd43-d5a',\n",
              " 'd5b-d6d',\n",
              " 'd43-d5a',\n",
              " '1021-10b3',\n",
              " 'fca-1020',\n",
              " '61d-651',\n",
              " '611-618',\n",
              " '61d-651',\n",
              " '611-618',\n",
              " '78-82',\n",
              " '6d-77',\n",
              " '62-6c',\n",
              " '58c-593',\n",
              " '112b-112d',\n",
              " '10eb-112a',\n",
              " '112b-112d',\n",
              " '10b4-10ea',\n",
              " '112b-112d',\n",
              " '10eb-112a',\n",
              " '10b4-10ea',\n",
              " '112b-112d',\n",
              " '10eb-112a',\n",
              " '10b4-10ea',\n",
              " 'a1-10d',\n",
              " '83-a0',\n",
              " 'a1-10d',\n",
              " '83-a0',\n",
              " '10e-143',\n",
              " '144-1b0',\n",
              " '10e-143',\n",
              " '1b1-1b9',\n",
              " '10e-143',\n",
              " '83-a0',\n",
              " '144-1b0',\n",
              " '10e-143',\n",
              " '1b1-1b9',\n",
              " '654-667',\n",
              " '1b1-1b9',\n",
              " '654-667',\n",
              " '1b1-1b9',\n",
              " '654-667',\n",
              " '1b1-1b9',\n",
              " '10e-143']"
            ]
          },
          "metadata": {},
          "execution_count": 49
        }
      ]
    },
    {
      "cell_type": "code",
      "source": [
        "from nltk.tokenize import sent_tokenize, word_tokenize\n",
        "import gensim\n",
        "from gensim.models import Word2Vec"
      ],
      "metadata": {
        "id": "Z7g57oD14but"
      },
      "execution_count": null,
      "outputs": []
    },
    {
      "cell_type": "code",
      "source": [
        "import nltk"
      ],
      "metadata": {
        "id": "8zRFJ7SK5IVz"
      },
      "execution_count": null,
      "outputs": []
    },
    {
      "cell_type": "code",
      "source": [
        "nltk.download('punkt')"
      ],
      "metadata": {
        "colab": {
          "base_uri": "https://localhost:8080/"
        },
        "id": "DzR7D-h1480S",
        "outputId": "bbf61f22-770a-4ca9-ba19-c6f902f482ec"
      },
      "execution_count": null,
      "outputs": [
        {
          "output_type": "stream",
          "name": "stderr",
          "text": [
            "[nltk_data] Downloading package punkt to /root/nltk_data...\n",
            "[nltk_data]   Unzipping tokenizers/punkt.zip.\n"
          ]
        },
        {
          "output_type": "execute_result",
          "data": {
            "text/plain": [
              "True"
            ]
          },
          "metadata": {},
          "execution_count": 42
        }
      ]
    },
    {
      "cell_type": "code",
      "source": [
        "from keras.preprocessing.text import Tokenizer\n",
        "\n",
        "# Initialize the tokenizer\n",
        "tokenizer = Tokenizer(num_words=128, filters='', lower=False, split=' ')\n",
        "\n",
        "# Fit the tokenizer on the walks\n",
        "tokenizer.fit_on_texts(walks)\n",
        "\n",
        "# Convert the walks to numerical format\n",
        "sequences = tokenizer.texts_to_sequences(walks)\n",
        "\n",
        "# Flatten the sequences\n",
        "sequences = [node for walk in sequences for node in walk]"
      ],
      "metadata": {
        "id": "2gKqVr134kOp"
      },
      "execution_count": null,
      "outputs": []
    },
    {
      "cell_type": "code",
      "source": [
        "model = Word2Vec(walks, size=256, window=5, min_count=0, sg=1, workers=20)\n",
        "\n",
        "node_embeddings = model.wv"
      ],
      "metadata": {
        "id": "strgXX1L0Wn7"
      },
      "execution_count": null,
      "outputs": []
    },
    {
      "cell_type": "code",
      "source": [
        "len(walks)"
      ],
      "metadata": {
        "colab": {
          "base_uri": "https://localhost:8080/"
        },
        "id": "xCGVf4TU3ACr",
        "outputId": "c1f2bdff-de6e-4752-e3e2-2f8d6b1c5d78"
      },
      "execution_count": null,
      "outputs": [
        {
          "output_type": "execute_result",
          "data": {
            "text/plain": [
              "940"
            ]
          },
          "metadata": {},
          "execution_count": 46
        }
      ]
    },
    {
      "cell_type": "code",
      "source": [
        "for node in graph.nodes():\n",
        "  try:\n",
        "    print(node_embeddings[node])\n",
        "  except:\n",
        "    print('error')"
      ],
      "metadata": {
        "id": "4vJSdbTj2Xt6"
      },
      "execution_count": null,
      "outputs": []
    },
    {
      "cell_type": "code",
      "source": [
        "len(sequences)"
      ],
      "metadata": {
        "colab": {
          "base_uri": "https://localhost:8080/"
        },
        "id": "HKVqhB0k0ZeS",
        "outputId": "52ee344b-43cf-49be-ab92-c5a10dd15b73"
      },
      "execution_count": null,
      "outputs": [
        {
          "output_type": "execute_result",
          "data": {
            "text/plain": [
              "940"
            ]
          },
          "metadata": {},
          "execution_count": 47
        }
      ]
    },
    {
      "cell_type": "code",
      "source": [
        "sequences"
      ],
      "metadata": {
        "id": "UwqGE6Cn8Mwe"
      },
      "execution_count": null,
      "outputs": []
    },
    {
      "cell_type": "code",
      "source": [
        "matrix = tokenizer.texts_to_matrix(walks)\n",
        "\n",
        "# Flatten the matrix\n",
        "#matrix= [node for walk in matrix for node in walk]"
      ],
      "metadata": {
        "id": "2XMFJ2Vt1ISz"
      },
      "execution_count": null,
      "outputs": []
    },
    {
      "cell_type": "code",
      "source": [
        "matrix.shape"
      ],
      "metadata": {
        "id": "xB_8dlsX7_es"
      },
      "execution_count": null,
      "outputs": []
    },
    {
      "cell_type": "code",
      "source": [
        "matrix"
      ],
      "metadata": {
        "id": "BPtSfDiy8ABI"
      },
      "execution_count": null,
      "outputs": []
    },
    {
      "cell_type": "code",
      "source": [],
      "metadata": {
        "id": "EYlhedL48IOc"
      },
      "execution_count": null,
      "outputs": []
    }
  ]
}